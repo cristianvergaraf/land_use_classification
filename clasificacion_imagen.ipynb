{
 "cells": [
  {
   "cell_type": "markdown",
   "metadata": {},
   "source": [
    "# Clasificacion de imágenes satelitales landasat a partir del modelo entrenado con los puntos de entrenamiento."
   ]
  },
  {
   "cell_type": "code",
   "execution_count": 5,
   "metadata": {},
   "outputs": [],
   "source": [
    "import rasterio \n",
    "from rasterio.plot import show\n",
    "from rasterio.plot import show_hist\n",
    "from matplotlib import pyplot as plt\n",
    "import geopandas as gpd\n",
    "from rasterio.windows import Window\n",
    "from rasterio.plot import reshape_as_raster, reshape_as_image\n",
    "import numpy as np"
   ]
  },
  {
   "cell_type": "markdown",
   "metadata": {},
   "source": [
    "Cargamos la informacion de la imagen satelital"
   ]
  },
  {
   "cell_type": "code",
   "execution_count": 6,
   "metadata": {},
   "outputs": [
    {
     "data": {
      "text/plain": [
       "CRS.from_epsg(4326)"
      ]
     },
     "execution_count": 6,
     "metadata": {},
     "output_type": "execute_result"
    }
   ],
   "source": [
    "# full_dataset = rasterio.open(r'C:\\Users\\CRISTIAN\\OneDrive - Universidad de Alcala\\Classificaciones\\clipped_image_7b_ord.tif')\n",
    "\n",
    "lingue_7b = rasterio.open('./lingue_basin_img_7b_ord_final.tif')\n",
    "lingue_7b.crs"
   ]
  },
  {
   "cell_type": "markdown",
   "metadata": {},
   "source": [
    "# Tenemos que ajustar la imagen original a una dimension adecuada para utilizar el predict"
   ]
  },
  {
   "cell_type": "code",
   "execution_count": 7,
   "metadata": {},
   "outputs": [
    {
     "data": {
      "text/plain": [
       "(7, 918, 1530)"
      ]
     },
     "execution_count": 7,
     "metadata": {},
     "output_type": "execute_result"
    }
   ],
   "source": [
    "# Leemos la imagen como un array\n",
    "lingue_7b_array = lingue_7b.read()  ## \n",
    "lingue_7b_array.shape"
   ]
  },
  {
   "cell_type": "code",
   "execution_count": 8,
   "metadata": {},
   "outputs": [
    {
     "data": {
      "text/plain": [
       "4504122"
      ]
     },
     "execution_count": 8,
     "metadata": {},
     "output_type": "execute_result"
    }
   ],
   "source": [
    "### Debemos reemplazar los nan de las imagenes por 0\n",
    "\n",
    "np.isnan(lingue_7b_array).sum()"
   ]
  },
  {
   "cell_type": "code",
   "execution_count": null,
   "metadata": {},
   "outputs": [],
   "source": [
    "lingue_7b_array = np.nan_to_num(lingue_7b_array, nan = 0.0)"
   ]
  },
  {
   "cell_type": "code",
   "execution_count": 9,
   "metadata": {},
   "outputs": [
    {
     "name": "stdout",
     "output_type": "stream",
     "text": [
      "(918, 1530, 7)\n"
     ]
    }
   ],
   "source": [
    "# Reshape desde array a imagen\n",
    "lingue_7b_image = reshape_as_image(lingue_7b_array)\n",
    "print(lingue_7b_image.shape)"
   ]
  },
  {
   "cell_type": "code",
   "execution_count": 10,
   "metadata": {},
   "outputs": [
    {
     "ename": "NameError",
     "evalue": "name 'search' is not defined",
     "output_type": "error",
     "traceback": [
      "\u001b[1;31m---------------------------------------------------------------------------\u001b[0m",
      "\u001b[1;31mNameError\u001b[0m                                 Traceback (most recent call last)",
      "Cell \u001b[1;32mIn[10], line 2\u001b[0m\n\u001b[0;32m      1\u001b[0m \u001b[38;5;66;03m# Volvemos hacer un reshape de a -1,7\u001b[39;00m\n\u001b[1;32m----> 2\u001b[0m class_prediction_search \u001b[38;5;241m=\u001b[39m search\u001b[38;5;241m.\u001b[39mpredict(lingue_7b_image\u001b[38;5;241m.\u001b[39mreshape(\u001b[38;5;241m-\u001b[39m\u001b[38;5;241m1\u001b[39m,\u001b[38;5;241m7\u001b[39m))\n",
      "\u001b[1;31mNameError\u001b[0m: name 'search' is not defined"
     ]
    }
   ],
   "source": [
    "# Volvemos hacer un reshape de a -1,7\n",
    "class_prediction_search = search.predict(lingue_7b_image.reshape(-1,7))"
   ]
  }
 ],
 "metadata": {
  "kernelspec": {
   "display_name": "spatial_data",
   "language": "python",
   "name": "python3"
  },
  "language_info": {
   "codemirror_mode": {
    "name": "ipython",
    "version": 3
   },
   "file_extension": ".py",
   "mimetype": "text/x-python",
   "name": "python",
   "nbconvert_exporter": "python",
   "pygments_lexer": "ipython3",
   "version": "3.12.5"
  }
 },
 "nbformat": 4,
 "nbformat_minor": 2
}
