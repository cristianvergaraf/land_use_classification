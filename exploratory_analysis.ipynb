{
 "cells": [
  {
   "cell_type": "markdown",
   "metadata": {},
   "source": [
    "# Script para evalur el proceso de clasificar las imagenes satelitales en Python"
   ]
  },
  {
   "cell_type": "code",
   "execution_count": 2,
   "metadata": {},
   "outputs": [],
   "source": [
    "# Import librerias\n",
    "\n",
    "import pandas as pd\n",
    "from matplotlib import pyplot as plt \n",
    "import seaborn as sns\n",
    "import geopandas as gpd\n",
    "import folium \n",
    "import numpy as np"
   ]
  },
  {
   "cell_type": "code",
   "execution_count": 3,
   "metadata": {},
   "outputs": [
    {
     "data": {
      "text/html": [
       "<div>\n",
       "<style scoped>\n",
       "    .dataframe tbody tr th:only-of-type {\n",
       "        vertical-align: middle;\n",
       "    }\n",
       "\n",
       "    .dataframe tbody tr th {\n",
       "        vertical-align: top;\n",
       "    }\n",
       "\n",
       "    .dataframe thead th {\n",
       "        text-align: right;\n",
       "    }\n",
       "</style>\n",
       "<table border=\"1\" class=\"dataframe\">\n",
       "  <thead>\n",
       "    <tr style=\"text-align: right;\">\n",
       "      <th></th>\n",
       "      <th>categoria</th>\n",
       "      <th>descrpcion</th>\n",
       "      <th>id_clase</th>\n",
       "      <th>geometry</th>\n",
       "      <th>B1</th>\n",
       "      <th>B2</th>\n",
       "      <th>B3</th>\n",
       "      <th>B4</th>\n",
       "      <th>B5</th>\n",
       "      <th>B6</th>\n",
       "      <th>B7</th>\n",
       "    </tr>\n",
       "  </thead>\n",
       "  <tbody>\n",
       "    <tr>\n",
       "      <th>0</th>\n",
       "      <td>Plantacion</td>\n",
       "      <td>NaN</td>\n",
       "      <td>1.0</td>\n",
       "      <td>POINT (-73.11308347500469 -39.42803928687321)</td>\n",
       "      <td>0.002125</td>\n",
       "      <td>0.004902</td>\n",
       "      <td>0.012630</td>\n",
       "      <td>0.007047</td>\n",
       "      <td>0.196165</td>\n",
       "      <td>0.039470</td>\n",
       "      <td>0.014692</td>\n",
       "    </tr>\n",
       "    <tr>\n",
       "      <th>1</th>\n",
       "      <td>Plantacion</td>\n",
       "      <td>NaN</td>\n",
       "      <td>1.0</td>\n",
       "      <td>POINT (-73.11296129010525 -39.428205109236735)</td>\n",
       "      <td>0.003142</td>\n",
       "      <td>0.005123</td>\n",
       "      <td>0.012795</td>\n",
       "      <td>0.006800</td>\n",
       "      <td>0.217505</td>\n",
       "      <td>0.042550</td>\n",
       "      <td>0.015105</td>\n",
       "    </tr>\n",
       "    <tr>\n",
       "      <th>2</th>\n",
       "      <td>Plantacion</td>\n",
       "      <td>NaN</td>\n",
       "      <td>1.0</td>\n",
       "      <td>POINT (-73.1127431027848 -39.428205109236735)</td>\n",
       "      <td>0.003142</td>\n",
       "      <td>0.005123</td>\n",
       "      <td>0.012795</td>\n",
       "      <td>0.006800</td>\n",
       "      <td>0.217505</td>\n",
       "      <td>0.042550</td>\n",
       "      <td>0.015105</td>\n",
       "    </tr>\n",
       "    <tr>\n",
       "      <th>3</th>\n",
       "      <td>Plantacion</td>\n",
       "      <td>NaN</td>\n",
       "      <td>1.0</td>\n",
       "      <td>POINT (-73.11281510460056 -39.42782873610897)</td>\n",
       "      <td>0.002785</td>\n",
       "      <td>0.004655</td>\n",
       "      <td>0.012822</td>\n",
       "      <td>0.007212</td>\n",
       "      <td>0.198447</td>\n",
       "      <td>0.041725</td>\n",
       "      <td>0.015352</td>\n",
       "    </tr>\n",
       "    <tr>\n",
       "      <th>4</th>\n",
       "      <td>Plantacion</td>\n",
       "      <td>NaN</td>\n",
       "      <td>1.0</td>\n",
       "      <td>POINT (-73.1129874725837 -39.42774255211741)</td>\n",
       "      <td>0.002785</td>\n",
       "      <td>0.004655</td>\n",
       "      <td>0.012822</td>\n",
       "      <td>0.007212</td>\n",
       "      <td>0.198447</td>\n",
       "      <td>0.041725</td>\n",
       "      <td>0.015352</td>\n",
       "    </tr>\n",
       "    <tr>\n",
       "      <th>...</th>\n",
       "      <td>...</td>\n",
       "      <td>...</td>\n",
       "      <td>...</td>\n",
       "      <td>...</td>\n",
       "      <td>...</td>\n",
       "      <td>...</td>\n",
       "      <td>...</td>\n",
       "      <td>...</td>\n",
       "      <td>...</td>\n",
       "      <td>...</td>\n",
       "      <td>...</td>\n",
       "    </tr>\n",
       "    <tr>\n",
       "      <th>684</th>\n",
       "      <td>NaN</td>\n",
       "      <td>NaN</td>\n",
       "      <td>6.0</td>\n",
       "      <td>POINT (-73.15821942536273 -39.451965724074356)</td>\n",
       "      <td>0.004985</td>\n",
       "      <td>0.007240</td>\n",
       "      <td>0.016425</td>\n",
       "      <td>0.008587</td>\n",
       "      <td>0.010320</td>\n",
       "      <td>0.006112</td>\n",
       "      <td>0.004573</td>\n",
       "    </tr>\n",
       "    <tr>\n",
       "      <th>685</th>\n",
       "      <td>NaN</td>\n",
       "      <td>NaN</td>\n",
       "      <td>6.0</td>\n",
       "      <td>POINT (-73.14340176972097 -39.45305711564692)</td>\n",
       "      <td>0.009000</td>\n",
       "      <td>0.010815</td>\n",
       "      <td>0.018570</td>\n",
       "      <td>0.013593</td>\n",
       "      <td>0.073542</td>\n",
       "      <td>0.032238</td>\n",
       "      <td>0.020303</td>\n",
       "    </tr>\n",
       "    <tr>\n",
       "      <th>686</th>\n",
       "      <td>NaN</td>\n",
       "      <td>NaN</td>\n",
       "      <td>6.0</td>\n",
       "      <td>POINT (-73.20807053264092 -39.44553718808514)</td>\n",
       "      <td>-0.002907</td>\n",
       "      <td>0.003857</td>\n",
       "      <td>0.017717</td>\n",
       "      <td>0.011365</td>\n",
       "      <td>0.007075</td>\n",
       "      <td>0.008807</td>\n",
       "      <td>0.008313</td>\n",
       "    </tr>\n",
       "    <tr>\n",
       "      <th>687</th>\n",
       "      <td>NaN</td>\n",
       "      <td>NaN</td>\n",
       "      <td>6.0</td>\n",
       "      <td>POINT (-73.18515348804354 -39.447118725573525)</td>\n",
       "      <td>0.002097</td>\n",
       "      <td>0.007625</td>\n",
       "      <td>0.020880</td>\n",
       "      <td>0.012960</td>\n",
       "      <td>0.009825</td>\n",
       "      <td>0.007240</td>\n",
       "      <td>0.005535</td>\n",
       "    </tr>\n",
       "    <tr>\n",
       "      <th>688</th>\n",
       "      <td>NaN</td>\n",
       "      <td>NaN</td>\n",
       "      <td>6.0</td>\n",
       "      <td>POINT (-73.18329529041601 -39.446589367984444)</td>\n",
       "      <td>0.003115</td>\n",
       "      <td>0.008560</td>\n",
       "      <td>0.020358</td>\n",
       "      <td>0.012493</td>\n",
       "      <td>0.009330</td>\n",
       "      <td>0.008093</td>\n",
       "      <td>0.006525</td>\n",
       "    </tr>\n",
       "  </tbody>\n",
       "</table>\n",
       "<p>689 rows × 11 columns</p>\n",
       "</div>"
      ],
      "text/plain": [
       "      categoria descrpcion  id_clase  \\\n",
       "0    Plantacion        NaN       1.0   \n",
       "1    Plantacion        NaN       1.0   \n",
       "2    Plantacion        NaN       1.0   \n",
       "3    Plantacion        NaN       1.0   \n",
       "4    Plantacion        NaN       1.0   \n",
       "..          ...        ...       ...   \n",
       "684         NaN        NaN       6.0   \n",
       "685         NaN        NaN       6.0   \n",
       "686         NaN        NaN       6.0   \n",
       "687         NaN        NaN       6.0   \n",
       "688         NaN        NaN       6.0   \n",
       "\n",
       "                                           geometry        B1        B2  \\\n",
       "0     POINT (-73.11308347500469 -39.42803928687321)  0.002125  0.004902   \n",
       "1    POINT (-73.11296129010525 -39.428205109236735)  0.003142  0.005123   \n",
       "2     POINT (-73.1127431027848 -39.428205109236735)  0.003142  0.005123   \n",
       "3     POINT (-73.11281510460056 -39.42782873610897)  0.002785  0.004655   \n",
       "4      POINT (-73.1129874725837 -39.42774255211741)  0.002785  0.004655   \n",
       "..                                              ...       ...       ...   \n",
       "684  POINT (-73.15821942536273 -39.451965724074356)  0.004985  0.007240   \n",
       "685   POINT (-73.14340176972097 -39.45305711564692)  0.009000  0.010815   \n",
       "686   POINT (-73.20807053264092 -39.44553718808514) -0.002907  0.003857   \n",
       "687  POINT (-73.18515348804354 -39.447118725573525)  0.002097  0.007625   \n",
       "688  POINT (-73.18329529041601 -39.446589367984444)  0.003115  0.008560   \n",
       "\n",
       "           B3        B4        B5        B6        B7  \n",
       "0    0.012630  0.007047  0.196165  0.039470  0.014692  \n",
       "1    0.012795  0.006800  0.217505  0.042550  0.015105  \n",
       "2    0.012795  0.006800  0.217505  0.042550  0.015105  \n",
       "3    0.012822  0.007212  0.198447  0.041725  0.015352  \n",
       "4    0.012822  0.007212  0.198447  0.041725  0.015352  \n",
       "..        ...       ...       ...       ...       ...  \n",
       "684  0.016425  0.008587  0.010320  0.006112  0.004573  \n",
       "685  0.018570  0.013593  0.073542  0.032238  0.020303  \n",
       "686  0.017717  0.011365  0.007075  0.008807  0.008313  \n",
       "687  0.020880  0.012960  0.009825  0.007240  0.005535  \n",
       "688  0.020358  0.012493  0.009330  0.008093  0.006525  \n",
       "\n",
       "[689 rows x 11 columns]"
      ]
     },
     "execution_count": 3,
     "metadata": {},
     "output_type": "execute_result"
    }
   ],
   "source": [
    "# Cargar datos\n",
    "sitios = pd.read_csv(r'C:\\Users\\crist\\Documents\\GitHub\\land_use_classification\\sitios_entrenamiento_2021_lingue_reflex.csv', encoding = 'ISO-8859-1', index_col = [0], sep = \",\")\n",
    "sitios\n"
   ]
  },
  {
   "cell_type": "code",
   "execution_count": 4,
   "metadata": {},
   "outputs": [
    {
     "data": {
      "text/plain": [
       "categoria     587\n",
       "descrpcion    677\n",
       "id_clase        2\n",
       "geometry        0\n",
       "B1              0\n",
       "B2              0\n",
       "B3              0\n",
       "B4              0\n",
       "B5              0\n",
       "B6              0\n",
       "B7              0\n",
       "dtype: int64"
      ]
     },
     "execution_count": 4,
     "metadata": {},
     "output_type": "execute_result"
    }
   ],
   "source": [
    "sitios.isna().sum()"
   ]
  },
  {
   "cell_type": "code",
   "execution_count": 5,
   "metadata": {},
   "outputs": [
    {
     "data": {
      "text/html": [
       "<div>\n",
       "<style scoped>\n",
       "    .dataframe tbody tr th:only-of-type {\n",
       "        vertical-align: middle;\n",
       "    }\n",
       "\n",
       "    .dataframe tbody tr th {\n",
       "        vertical-align: top;\n",
       "    }\n",
       "\n",
       "    .dataframe thead th {\n",
       "        text-align: right;\n",
       "    }\n",
       "</style>\n",
       "<table border=\"1\" class=\"dataframe\">\n",
       "  <thead>\n",
       "    <tr style=\"text-align: right;\">\n",
       "      <th></th>\n",
       "      <th>categoria</th>\n",
       "      <th>descrpcion</th>\n",
       "      <th>id_clase</th>\n",
       "      <th>geometry</th>\n",
       "      <th>B1</th>\n",
       "      <th>B2</th>\n",
       "      <th>B3</th>\n",
       "      <th>B4</th>\n",
       "      <th>B5</th>\n",
       "      <th>B6</th>\n",
       "      <th>B7</th>\n",
       "    </tr>\n",
       "  </thead>\n",
       "  <tbody>\n",
       "    <tr>\n",
       "      <th>0</th>\n",
       "      <td>Plantacion</td>\n",
       "      <td>NaN</td>\n",
       "      <td>1.0</td>\n",
       "      <td>POINT (-73.11308347500469 -39.42803928687321)</td>\n",
       "      <td>0.002125</td>\n",
       "      <td>0.004902</td>\n",
       "      <td>0.012630</td>\n",
       "      <td>0.007047</td>\n",
       "      <td>0.196165</td>\n",
       "      <td>0.039470</td>\n",
       "      <td>0.014692</td>\n",
       "    </tr>\n",
       "    <tr>\n",
       "      <th>1</th>\n",
       "      <td>Plantacion</td>\n",
       "      <td>NaN</td>\n",
       "      <td>1.0</td>\n",
       "      <td>POINT (-73.11296129010525 -39.428205109236735)</td>\n",
       "      <td>0.003142</td>\n",
       "      <td>0.005123</td>\n",
       "      <td>0.012795</td>\n",
       "      <td>0.006800</td>\n",
       "      <td>0.217505</td>\n",
       "      <td>0.042550</td>\n",
       "      <td>0.015105</td>\n",
       "    </tr>\n",
       "    <tr>\n",
       "      <th>2</th>\n",
       "      <td>Plantacion</td>\n",
       "      <td>NaN</td>\n",
       "      <td>1.0</td>\n",
       "      <td>POINT (-73.1127431027848 -39.428205109236735)</td>\n",
       "      <td>0.003142</td>\n",
       "      <td>0.005123</td>\n",
       "      <td>0.012795</td>\n",
       "      <td>0.006800</td>\n",
       "      <td>0.217505</td>\n",
       "      <td>0.042550</td>\n",
       "      <td>0.015105</td>\n",
       "    </tr>\n",
       "    <tr>\n",
       "      <th>3</th>\n",
       "      <td>Plantacion</td>\n",
       "      <td>NaN</td>\n",
       "      <td>1.0</td>\n",
       "      <td>POINT (-73.11281510460056 -39.42782873610897)</td>\n",
       "      <td>0.002785</td>\n",
       "      <td>0.004655</td>\n",
       "      <td>0.012822</td>\n",
       "      <td>0.007212</td>\n",
       "      <td>0.198447</td>\n",
       "      <td>0.041725</td>\n",
       "      <td>0.015352</td>\n",
       "    </tr>\n",
       "    <tr>\n",
       "      <th>4</th>\n",
       "      <td>Plantacion</td>\n",
       "      <td>NaN</td>\n",
       "      <td>1.0</td>\n",
       "      <td>POINT (-73.1129874725837 -39.42774255211741)</td>\n",
       "      <td>0.002785</td>\n",
       "      <td>0.004655</td>\n",
       "      <td>0.012822</td>\n",
       "      <td>0.007212</td>\n",
       "      <td>0.198447</td>\n",
       "      <td>0.041725</td>\n",
       "      <td>0.015352</td>\n",
       "    </tr>\n",
       "    <tr>\n",
       "      <th>...</th>\n",
       "      <td>...</td>\n",
       "      <td>...</td>\n",
       "      <td>...</td>\n",
       "      <td>...</td>\n",
       "      <td>...</td>\n",
       "      <td>...</td>\n",
       "      <td>...</td>\n",
       "      <td>...</td>\n",
       "      <td>...</td>\n",
       "      <td>...</td>\n",
       "      <td>...</td>\n",
       "    </tr>\n",
       "    <tr>\n",
       "      <th>684</th>\n",
       "      <td>NaN</td>\n",
       "      <td>NaN</td>\n",
       "      <td>6.0</td>\n",
       "      <td>POINT (-73.15821942536273 -39.451965724074356)</td>\n",
       "      <td>0.004985</td>\n",
       "      <td>0.007240</td>\n",
       "      <td>0.016425</td>\n",
       "      <td>0.008587</td>\n",
       "      <td>0.010320</td>\n",
       "      <td>0.006112</td>\n",
       "      <td>0.004573</td>\n",
       "    </tr>\n",
       "    <tr>\n",
       "      <th>685</th>\n",
       "      <td>NaN</td>\n",
       "      <td>NaN</td>\n",
       "      <td>6.0</td>\n",
       "      <td>POINT (-73.14340176972097 -39.45305711564692)</td>\n",
       "      <td>0.009000</td>\n",
       "      <td>0.010815</td>\n",
       "      <td>0.018570</td>\n",
       "      <td>0.013593</td>\n",
       "      <td>0.073542</td>\n",
       "      <td>0.032238</td>\n",
       "      <td>0.020303</td>\n",
       "    </tr>\n",
       "    <tr>\n",
       "      <th>686</th>\n",
       "      <td>NaN</td>\n",
       "      <td>NaN</td>\n",
       "      <td>6.0</td>\n",
       "      <td>POINT (-73.20807053264092 -39.44553718808514)</td>\n",
       "      <td>-0.002907</td>\n",
       "      <td>0.003857</td>\n",
       "      <td>0.017717</td>\n",
       "      <td>0.011365</td>\n",
       "      <td>0.007075</td>\n",
       "      <td>0.008807</td>\n",
       "      <td>0.008313</td>\n",
       "    </tr>\n",
       "    <tr>\n",
       "      <th>687</th>\n",
       "      <td>NaN</td>\n",
       "      <td>NaN</td>\n",
       "      <td>6.0</td>\n",
       "      <td>POINT (-73.18515348804354 -39.447118725573525)</td>\n",
       "      <td>0.002097</td>\n",
       "      <td>0.007625</td>\n",
       "      <td>0.020880</td>\n",
       "      <td>0.012960</td>\n",
       "      <td>0.009825</td>\n",
       "      <td>0.007240</td>\n",
       "      <td>0.005535</td>\n",
       "    </tr>\n",
       "    <tr>\n",
       "      <th>688</th>\n",
       "      <td>NaN</td>\n",
       "      <td>NaN</td>\n",
       "      <td>6.0</td>\n",
       "      <td>POINT (-73.18329529041601 -39.446589367984444)</td>\n",
       "      <td>0.003115</td>\n",
       "      <td>0.008560</td>\n",
       "      <td>0.020358</td>\n",
       "      <td>0.012493</td>\n",
       "      <td>0.009330</td>\n",
       "      <td>0.008093</td>\n",
       "      <td>0.006525</td>\n",
       "    </tr>\n",
       "  </tbody>\n",
       "</table>\n",
       "<p>687 rows × 11 columns</p>\n",
       "</div>"
      ],
      "text/plain": [
       "      categoria descrpcion  id_clase  \\\n",
       "0    Plantacion        NaN       1.0   \n",
       "1    Plantacion        NaN       1.0   \n",
       "2    Plantacion        NaN       1.0   \n",
       "3    Plantacion        NaN       1.0   \n",
       "4    Plantacion        NaN       1.0   \n",
       "..          ...        ...       ...   \n",
       "684         NaN        NaN       6.0   \n",
       "685         NaN        NaN       6.0   \n",
       "686         NaN        NaN       6.0   \n",
       "687         NaN        NaN       6.0   \n",
       "688         NaN        NaN       6.0   \n",
       "\n",
       "                                           geometry        B1        B2  \\\n",
       "0     POINT (-73.11308347500469 -39.42803928687321)  0.002125  0.004902   \n",
       "1    POINT (-73.11296129010525 -39.428205109236735)  0.003142  0.005123   \n",
       "2     POINT (-73.1127431027848 -39.428205109236735)  0.003142  0.005123   \n",
       "3     POINT (-73.11281510460056 -39.42782873610897)  0.002785  0.004655   \n",
       "4      POINT (-73.1129874725837 -39.42774255211741)  0.002785  0.004655   \n",
       "..                                              ...       ...       ...   \n",
       "684  POINT (-73.15821942536273 -39.451965724074356)  0.004985  0.007240   \n",
       "685   POINT (-73.14340176972097 -39.45305711564692)  0.009000  0.010815   \n",
       "686   POINT (-73.20807053264092 -39.44553718808514) -0.002907  0.003857   \n",
       "687  POINT (-73.18515348804354 -39.447118725573525)  0.002097  0.007625   \n",
       "688  POINT (-73.18329529041601 -39.446589367984444)  0.003115  0.008560   \n",
       "\n",
       "           B3        B4        B5        B6        B7  \n",
       "0    0.012630  0.007047  0.196165  0.039470  0.014692  \n",
       "1    0.012795  0.006800  0.217505  0.042550  0.015105  \n",
       "2    0.012795  0.006800  0.217505  0.042550  0.015105  \n",
       "3    0.012822  0.007212  0.198447  0.041725  0.015352  \n",
       "4    0.012822  0.007212  0.198447  0.041725  0.015352  \n",
       "..        ...       ...       ...       ...       ...  \n",
       "684  0.016425  0.008587  0.010320  0.006112  0.004573  \n",
       "685  0.018570  0.013593  0.073542  0.032238  0.020303  \n",
       "686  0.017717  0.011365  0.007075  0.008807  0.008313  \n",
       "687  0.020880  0.012960  0.009825  0.007240  0.005535  \n",
       "688  0.020358  0.012493  0.009330  0.008093  0.006525  \n",
       "\n",
       "[687 rows x 11 columns]"
      ]
     },
     "execution_count": 5,
     "metadata": {},
     "output_type": "execute_result"
    }
   ],
   "source": [
    "## Borrar los na\n",
    "sitios = sitios.dropna(subset=['id_clase'])\n",
    "sitios"
   ]
  },
  {
   "cell_type": "markdown",
   "metadata": {},
   "source": [
    "# Exploratory analysis"
   ]
  },
  {
   "cell_type": "code",
   "execution_count": 6,
   "metadata": {},
   "outputs": [
    {
     "data": {
      "text/html": [
       "<div>\n",
       "<style scoped>\n",
       "    .dataframe tbody tr th:only-of-type {\n",
       "        vertical-align: middle;\n",
       "    }\n",
       "\n",
       "    .dataframe tbody tr th {\n",
       "        vertical-align: top;\n",
       "    }\n",
       "\n",
       "    .dataframe thead th {\n",
       "        text-align: right;\n",
       "    }\n",
       "</style>\n",
       "<table border=\"1\" class=\"dataframe\">\n",
       "  <thead>\n",
       "    <tr style=\"text-align: right;\">\n",
       "      <th></th>\n",
       "      <th>B1</th>\n",
       "      <th>B2</th>\n",
       "      <th>B3</th>\n",
       "      <th>B4</th>\n",
       "      <th>B5</th>\n",
       "      <th>B6</th>\n",
       "      <th>B7</th>\n",
       "    </tr>\n",
       "  </thead>\n",
       "  <tbody>\n",
       "    <tr>\n",
       "      <th>count</th>\n",
       "      <td>687.000000</td>\n",
       "      <td>687.000000</td>\n",
       "      <td>687.000000</td>\n",
       "      <td>687.000000</td>\n",
       "      <td>687.000000</td>\n",
       "      <td>687.000000</td>\n",
       "      <td>687.000000</td>\n",
       "    </tr>\n",
       "    <tr>\n",
       "      <th>mean</th>\n",
       "      <td>0.019665</td>\n",
       "      <td>0.024941</td>\n",
       "      <td>0.045610</td>\n",
       "      <td>0.041384</td>\n",
       "      <td>0.248782</td>\n",
       "      <td>0.127314</td>\n",
       "      <td>0.070230</td>\n",
       "    </tr>\n",
       "    <tr>\n",
       "      <th>std</th>\n",
       "      <td>0.024130</td>\n",
       "      <td>0.028345</td>\n",
       "      <td>0.037500</td>\n",
       "      <td>0.045536</td>\n",
       "      <td>0.107451</td>\n",
       "      <td>0.099853</td>\n",
       "      <td>0.069356</td>\n",
       "    </tr>\n",
       "    <tr>\n",
       "      <th>min</th>\n",
       "      <td>-0.004819</td>\n",
       "      <td>-0.001698</td>\n",
       "      <td>0.005233</td>\n",
       "      <td>0.002400</td>\n",
       "      <td>0.005356</td>\n",
       "      <td>0.003954</td>\n",
       "      <td>0.003541</td>\n",
       "    </tr>\n",
       "    <tr>\n",
       "      <th>25%</th>\n",
       "      <td>0.003032</td>\n",
       "      <td>0.005136</td>\n",
       "      <td>0.013207</td>\n",
       "      <td>0.008003</td>\n",
       "      <td>0.182099</td>\n",
       "      <td>0.040267</td>\n",
       "      <td>0.015346</td>\n",
       "    </tr>\n",
       "    <tr>\n",
       "      <th>50%</th>\n",
       "      <td>0.009247</td>\n",
       "      <td>0.012259</td>\n",
       "      <td>0.029721</td>\n",
       "      <td>0.017388</td>\n",
       "      <td>0.243809</td>\n",
       "      <td>0.082672</td>\n",
       "      <td>0.034300</td>\n",
       "    </tr>\n",
       "    <tr>\n",
       "      <th>75%</th>\n",
       "      <td>0.027205</td>\n",
       "      <td>0.033124</td>\n",
       "      <td>0.069830</td>\n",
       "      <td>0.059270</td>\n",
       "      <td>0.316422</td>\n",
       "      <td>0.217010</td>\n",
       "      <td>0.112544</td>\n",
       "    </tr>\n",
       "    <tr>\n",
       "      <th>max</th>\n",
       "      <td>0.162629</td>\n",
       "      <td>0.193222</td>\n",
       "      <td>0.234500</td>\n",
       "      <td>0.258012</td>\n",
       "      <td>0.590955</td>\n",
       "      <td>0.398757</td>\n",
       "      <td>0.284220</td>\n",
       "    </tr>\n",
       "  </tbody>\n",
       "</table>\n",
       "</div>"
      ],
      "text/plain": [
       "               B1          B2          B3          B4          B5          B6  \\\n",
       "count  687.000000  687.000000  687.000000  687.000000  687.000000  687.000000   \n",
       "mean     0.019665    0.024941    0.045610    0.041384    0.248782    0.127314   \n",
       "std      0.024130    0.028345    0.037500    0.045536    0.107451    0.099853   \n",
       "min     -0.004819   -0.001698    0.005233    0.002400    0.005356    0.003954   \n",
       "25%      0.003032    0.005136    0.013207    0.008003    0.182099    0.040267   \n",
       "50%      0.009247    0.012259    0.029721    0.017388    0.243809    0.082672   \n",
       "75%      0.027205    0.033124    0.069830    0.059270    0.316422    0.217010   \n",
       "max      0.162629    0.193222    0.234500    0.258012    0.590955    0.398757   \n",
       "\n",
       "               B7  \n",
       "count  687.000000  \n",
       "mean     0.070230  \n",
       "std      0.069356  \n",
       "min      0.003541  \n",
       "25%      0.015346  \n",
       "50%      0.034300  \n",
       "75%      0.112544  \n",
       "max      0.284220  "
      ]
     },
     "execution_count": 6,
     "metadata": {},
     "output_type": "execute_result"
    }
   ],
   "source": [
    "sitios_num = sitios.iloc[:,4:]\n",
    "sitios_num.describe()"
   ]
  },
  {
   "cell_type": "code",
   "execution_count": 7,
   "metadata": {},
   "outputs": [
    {
     "data": {
      "text/plain": [
       "categoria     585\n",
       "descrpcion    675\n",
       "id_clase        0\n",
       "geometry        0\n",
       "B1              0\n",
       "B2              0\n",
       "B3              0\n",
       "B4              0\n",
       "B5              0\n",
       "B6              0\n",
       "B7              0\n",
       "dtype: int64"
      ]
     },
     "execution_count": 7,
     "metadata": {},
     "output_type": "execute_result"
    }
   ],
   "source": [
    "# contar el numero de NA por columna\n",
    "sitios.isna().sum()"
   ]
  },
  {
   "cell_type": "code",
   "execution_count": 8,
   "metadata": {},
   "outputs": [
    {
     "data": {
      "text/html": [
       "<div>\n",
       "<style scoped>\n",
       "    .dataframe tbody tr th:only-of-type {\n",
       "        vertical-align: middle;\n",
       "    }\n",
       "\n",
       "    .dataframe tbody tr th {\n",
       "        vertical-align: top;\n",
       "    }\n",
       "\n",
       "    .dataframe thead th {\n",
       "        text-align: right;\n",
       "    }\n",
       "</style>\n",
       "<table border=\"1\" class=\"dataframe\">\n",
       "  <thead>\n",
       "    <tr style=\"text-align: right;\">\n",
       "      <th></th>\n",
       "      <th>id_clase</th>\n",
       "      <th>B1</th>\n",
       "      <th>B2</th>\n",
       "      <th>B3</th>\n",
       "      <th>B4</th>\n",
       "      <th>B5</th>\n",
       "      <th>B6</th>\n",
       "      <th>B7</th>\n",
       "    </tr>\n",
       "  </thead>\n",
       "  <tbody>\n",
       "    <tr>\n",
       "      <th>0</th>\n",
       "      <td>1.0</td>\n",
       "      <td>0.002125</td>\n",
       "      <td>0.004902</td>\n",
       "      <td>0.012630</td>\n",
       "      <td>0.007047</td>\n",
       "      <td>0.196165</td>\n",
       "      <td>0.039470</td>\n",
       "      <td>0.014692</td>\n",
       "    </tr>\n",
       "    <tr>\n",
       "      <th>1</th>\n",
       "      <td>1.0</td>\n",
       "      <td>0.003142</td>\n",
       "      <td>0.005123</td>\n",
       "      <td>0.012795</td>\n",
       "      <td>0.006800</td>\n",
       "      <td>0.217505</td>\n",
       "      <td>0.042550</td>\n",
       "      <td>0.015105</td>\n",
       "    </tr>\n",
       "    <tr>\n",
       "      <th>2</th>\n",
       "      <td>1.0</td>\n",
       "      <td>0.003142</td>\n",
       "      <td>0.005123</td>\n",
       "      <td>0.012795</td>\n",
       "      <td>0.006800</td>\n",
       "      <td>0.217505</td>\n",
       "      <td>0.042550</td>\n",
       "      <td>0.015105</td>\n",
       "    </tr>\n",
       "    <tr>\n",
       "      <th>3</th>\n",
       "      <td>1.0</td>\n",
       "      <td>0.002785</td>\n",
       "      <td>0.004655</td>\n",
       "      <td>0.012822</td>\n",
       "      <td>0.007212</td>\n",
       "      <td>0.198447</td>\n",
       "      <td>0.041725</td>\n",
       "      <td>0.015352</td>\n",
       "    </tr>\n",
       "    <tr>\n",
       "      <th>4</th>\n",
       "      <td>1.0</td>\n",
       "      <td>0.002785</td>\n",
       "      <td>0.004655</td>\n",
       "      <td>0.012822</td>\n",
       "      <td>0.007212</td>\n",
       "      <td>0.198447</td>\n",
       "      <td>0.041725</td>\n",
       "      <td>0.015352</td>\n",
       "    </tr>\n",
       "    <tr>\n",
       "      <th>...</th>\n",
       "      <td>...</td>\n",
       "      <td>...</td>\n",
       "      <td>...</td>\n",
       "      <td>...</td>\n",
       "      <td>...</td>\n",
       "      <td>...</td>\n",
       "      <td>...</td>\n",
       "      <td>...</td>\n",
       "    </tr>\n",
       "    <tr>\n",
       "      <th>684</th>\n",
       "      <td>6.0</td>\n",
       "      <td>0.004985</td>\n",
       "      <td>0.007240</td>\n",
       "      <td>0.016425</td>\n",
       "      <td>0.008587</td>\n",
       "      <td>0.010320</td>\n",
       "      <td>0.006112</td>\n",
       "      <td>0.004573</td>\n",
       "    </tr>\n",
       "    <tr>\n",
       "      <th>685</th>\n",
       "      <td>6.0</td>\n",
       "      <td>0.009000</td>\n",
       "      <td>0.010815</td>\n",
       "      <td>0.018570</td>\n",
       "      <td>0.013593</td>\n",
       "      <td>0.073542</td>\n",
       "      <td>0.032238</td>\n",
       "      <td>0.020303</td>\n",
       "    </tr>\n",
       "    <tr>\n",
       "      <th>686</th>\n",
       "      <td>6.0</td>\n",
       "      <td>-0.002907</td>\n",
       "      <td>0.003857</td>\n",
       "      <td>0.017717</td>\n",
       "      <td>0.011365</td>\n",
       "      <td>0.007075</td>\n",
       "      <td>0.008807</td>\n",
       "      <td>0.008313</td>\n",
       "    </tr>\n",
       "    <tr>\n",
       "      <th>687</th>\n",
       "      <td>6.0</td>\n",
       "      <td>0.002097</td>\n",
       "      <td>0.007625</td>\n",
       "      <td>0.020880</td>\n",
       "      <td>0.012960</td>\n",
       "      <td>0.009825</td>\n",
       "      <td>0.007240</td>\n",
       "      <td>0.005535</td>\n",
       "    </tr>\n",
       "    <tr>\n",
       "      <th>688</th>\n",
       "      <td>6.0</td>\n",
       "      <td>0.003115</td>\n",
       "      <td>0.008560</td>\n",
       "      <td>0.020358</td>\n",
       "      <td>0.012493</td>\n",
       "      <td>0.009330</td>\n",
       "      <td>0.008093</td>\n",
       "      <td>0.006525</td>\n",
       "    </tr>\n",
       "  </tbody>\n",
       "</table>\n",
       "<p>687 rows × 8 columns</p>\n",
       "</div>"
      ],
      "text/plain": [
       "     id_clase        B1        B2        B3        B4        B5        B6  \\\n",
       "0         1.0  0.002125  0.004902  0.012630  0.007047  0.196165  0.039470   \n",
       "1         1.0  0.003142  0.005123  0.012795  0.006800  0.217505  0.042550   \n",
       "2         1.0  0.003142  0.005123  0.012795  0.006800  0.217505  0.042550   \n",
       "3         1.0  0.002785  0.004655  0.012822  0.007212  0.198447  0.041725   \n",
       "4         1.0  0.002785  0.004655  0.012822  0.007212  0.198447  0.041725   \n",
       "..        ...       ...       ...       ...       ...       ...       ...   \n",
       "684       6.0  0.004985  0.007240  0.016425  0.008587  0.010320  0.006112   \n",
       "685       6.0  0.009000  0.010815  0.018570  0.013593  0.073542  0.032238   \n",
       "686       6.0 -0.002907  0.003857  0.017717  0.011365  0.007075  0.008807   \n",
       "687       6.0  0.002097  0.007625  0.020880  0.012960  0.009825  0.007240   \n",
       "688       6.0  0.003115  0.008560  0.020358  0.012493  0.009330  0.008093   \n",
       "\n",
       "           B7  \n",
       "0    0.014692  \n",
       "1    0.015105  \n",
       "2    0.015105  \n",
       "3    0.015352  \n",
       "4    0.015352  \n",
       "..        ...  \n",
       "684  0.004573  \n",
       "685  0.020303  \n",
       "686  0.008313  \n",
       "687  0.005535  \n",
       "688  0.006525  \n",
       "\n",
       "[687 rows x 8 columns]"
      ]
     },
     "execution_count": 8,
     "metadata": {},
     "output_type": "execute_result"
    }
   ],
   "source": [
    "# Ahora queremos el valor medio por grupo\n",
    "sitios_gr = sitios.loc[:,['id_clase','B1','B2','B3','B4','B5','B6','B7']]\n",
    "sitios_gr\n"
   ]
  },
  {
   "cell_type": "code",
   "execution_count": 9,
   "metadata": {},
   "outputs": [
    {
     "data": {
      "text/html": [
       "<div>\n",
       "<style scoped>\n",
       "    .dataframe tbody tr th:only-of-type {\n",
       "        vertical-align: middle;\n",
       "    }\n",
       "\n",
       "    .dataframe tbody tr th {\n",
       "        vertical-align: top;\n",
       "    }\n",
       "\n",
       "    .dataframe thead th {\n",
       "        text-align: right;\n",
       "    }\n",
       "</style>\n",
       "<table border=\"1\" class=\"dataframe\">\n",
       "  <thead>\n",
       "    <tr style=\"text-align: right;\">\n",
       "      <th></th>\n",
       "      <th>B1</th>\n",
       "      <th>B2</th>\n",
       "      <th>B3</th>\n",
       "      <th>B4</th>\n",
       "      <th>B5</th>\n",
       "      <th>B6</th>\n",
       "      <th>B7</th>\n",
       "    </tr>\n",
       "    <tr>\n",
       "      <th>id_clase</th>\n",
       "      <th></th>\n",
       "      <th></th>\n",
       "      <th></th>\n",
       "      <th></th>\n",
       "      <th></th>\n",
       "      <th></th>\n",
       "      <th></th>\n",
       "    </tr>\n",
       "  </thead>\n",
       "  <tbody>\n",
       "    <tr>\n",
       "      <th>1.0</th>\n",
       "      <td>0.001971</td>\n",
       "      <td>0.004010</td>\n",
       "      <td>0.011018</td>\n",
       "      <td>0.006356</td>\n",
       "      <td>0.170971</td>\n",
       "      <td>0.037597</td>\n",
       "      <td>0.014538</td>\n",
       "    </tr>\n",
       "    <tr>\n",
       "      <th>2.0</th>\n",
       "      <td>0.007529</td>\n",
       "      <td>0.010314</td>\n",
       "      <td>0.027668</td>\n",
       "      <td>0.016461</td>\n",
       "      <td>0.254519</td>\n",
       "      <td>0.078667</td>\n",
       "      <td>0.031782</td>\n",
       "    </tr>\n",
       "    <tr>\n",
       "      <th>3.0</th>\n",
       "      <td>0.024680</td>\n",
       "      <td>0.030115</td>\n",
       "      <td>0.065067</td>\n",
       "      <td>0.051035</td>\n",
       "      <td>0.396944</td>\n",
       "      <td>0.209587</td>\n",
       "      <td>0.101517</td>\n",
       "    </tr>\n",
       "    <tr>\n",
       "      <th>4.0</th>\n",
       "      <td>0.080230</td>\n",
       "      <td>0.094354</td>\n",
       "      <td>0.125370</td>\n",
       "      <td>0.136132</td>\n",
       "      <td>0.227654</td>\n",
       "      <td>0.235353</td>\n",
       "      <td>0.196502</td>\n",
       "    </tr>\n",
       "    <tr>\n",
       "      <th>5.0</th>\n",
       "      <td>0.041860</td>\n",
       "      <td>0.055127</td>\n",
       "      <td>0.088857</td>\n",
       "      <td>0.114197</td>\n",
       "      <td>0.296893</td>\n",
       "      <td>0.301350</td>\n",
       "      <td>0.182160</td>\n",
       "    </tr>\n",
       "    <tr>\n",
       "      <th>6.0</th>\n",
       "      <td>0.008117</td>\n",
       "      <td>0.011906</td>\n",
       "      <td>0.022384</td>\n",
       "      <td>0.012827</td>\n",
       "      <td>0.011771</td>\n",
       "      <td>0.008219</td>\n",
       "      <td>0.006286</td>\n",
       "    </tr>\n",
       "  </tbody>\n",
       "</table>\n",
       "</div>"
      ],
      "text/plain": [
       "                B1        B2        B3        B4        B5        B6        B7\n",
       "id_clase                                                                      \n",
       "1.0       0.001971  0.004010  0.011018  0.006356  0.170971  0.037597  0.014538\n",
       "2.0       0.007529  0.010314  0.027668  0.016461  0.254519  0.078667  0.031782\n",
       "3.0       0.024680  0.030115  0.065067  0.051035  0.396944  0.209587  0.101517\n",
       "4.0       0.080230  0.094354  0.125370  0.136132  0.227654  0.235353  0.196502\n",
       "5.0       0.041860  0.055127  0.088857  0.114197  0.296893  0.301350  0.182160\n",
       "6.0       0.008117  0.011906  0.022384  0.012827  0.011771  0.008219  0.006286"
      ]
     },
     "execution_count": 9,
     "metadata": {},
     "output_type": "execute_result"
    }
   ],
   "source": [
    "sitios_mean = sitios_gr.groupby(by = ['id_clase']).mean()\n",
    "sitios_mean"
   ]
  },
  {
   "cell_type": "code",
   "execution_count": 10,
   "metadata": {},
   "outputs": [
    {
     "data": {
      "text/plain": [
       "<AxesSubplot:>"
      ]
     },
     "execution_count": 10,
     "metadata": {},
     "output_type": "execute_result"
    },
    {
     "data": {
      "image/png": "[encoded data removed]",
      "text/plain": [
       "<Figure size 432x288 with 1 Axes>"
      ]
     },
     "metadata": {
      "needs_background": "light"
     },
     "output_type": "display_data"
    }
   ],
   "source": [
    "sitios_mean.transpose().plot() ## Como podemos modificar la Leyenda para colocar los nombre de las categorias.\n"
   ]
  },
  {
   "cell_type": "code",
   "execution_count": 11,
   "metadata": {},
   "outputs": [
    {
     "data": {
      "text/plain": [
       "<AxesSubplot:>"
      ]
     },
     "execution_count": 11,
     "metadata": {},
     "output_type": "execute_result"
    },
    {
     "data": {
      "image/png": "[encoded data removed]",
      "text/plain": [
       "<Figure size 432x288 with 1 Axes>"
      ]
     },
     "metadata": {
      "needs_background": "light"
     },
     "output_type": "display_data"
    }
   ],
   "source": [
    "## Scatterplot para ver las firmas espectrales por punto\n",
    "## Esto lo podemos implementar en un grafico interactivo en streamlit\n",
    "## Para identificar la firma espectral para cada uno de los puntos\n",
    "sitios.iloc[[51,600],4:].transpose().plot()"
   ]
  },
  {
   "cell_type": "code",
   "execution_count": 12,
   "metadata": {},
   "outputs": [
    {
     "data": {
      "text/plain": [
       "array([[<AxesSubplot:title={'center':'B1'}>,\n",
       "        <AxesSubplot:title={'center':'B2'}>,\n",
       "        <AxesSubplot:title={'center':'B3'}>],\n",
       "       [<AxesSubplot:title={'center':'B4'}>,\n",
       "        <AxesSubplot:title={'center':'B5'}>,\n",
       "        <AxesSubplot:title={'center':'B6'}>],\n",
       "       [<AxesSubplot:title={'center':'B7'}>, <AxesSubplot:>,\n",
       "        <AxesSubplot:>]], dtype=object)"
      ]
     },
     "execution_count": 12,
     "metadata": {},
     "output_type": "execute_result"
    },
    {
     "data": {
      "image/png": "[encoded data removed]",
      "text/plain": [
       "<Figure size 720x720 with 9 Axes>"
      ]
     },
     "metadata": {
      "needs_background": "light"
     },
     "output_type": "display_data"
    }
   ],
   "source": [
    "(sitios.loc[:,['B1','B2','B3','B4','B5','B6', 'B7']]).hist(figsize=(10,10))"
   ]
  },
  {
   "cell_type": "markdown",
   "metadata": {},
   "source": [
    "# Categorias:\n",
    "\n",
    "1: Plantacion, 2: Bosque Nativo, 3:Praderas, 4:Urbano, 5: Suelo descubierto, \n",
    "6: Agua. "
   ]
  },
  {
   "cell_type": "code",
   "execution_count": 13,
   "metadata": {},
   "outputs": [
    {
     "data": {
      "text/plain": [
       "<AxesSubplot:xlabel='B4', ylabel='B5'>"
      ]
     },
     "execution_count": 13,
     "metadata": {},
     "output_type": "execute_result"
    },
    {
     "data": {
      "image/png": "[encoded data removed]",
      "text/plain": [
       "<Figure size 432x288 with 1 Axes>"
      ]
     },
     "metadata": {
      "needs_background": "light"
     },
     "output_type": "display_data"
    }
   ],
   "source": [
    "# Con grafico scattterplot en 2D y 3D se puede evaluar la sepabilidad de los datos.\n",
    "sns.scatterplot(sitios, x = 'B4', y = 'B5', hue = 'id_clase', palette=\"viridis\")\n"
   ]
  },
  {
   "cell_type": "code",
   "execution_count": 14,
   "metadata": {},
   "outputs": [],
   "source": [
    "from mpl_toolkits.mplot3d import Axes3D\n",
    "import numpy as np\n",
    "#%matplotlib inline"
   ]
  },
  {
   "cell_type": "code",
   "execution_count": 15,
   "metadata": {},
   "outputs": [
    {
     "data": {
      "image/png": "[encoded data removed]",
      "text/plain": [
       "<Figure size 432x432 with 1 Axes>"
      ]
     },
     "metadata": {
      "needs_background": "light"
     },
     "output_type": "display_data"
    }
   ],
   "source": [
    "import seaborn as sns\n",
    "import matplotlib.pyplot as plt\n",
    "import numpy as np\n",
    "from mpl_toolkits.mplot3d import Axes3D\n",
    "from matplotlib.colors import ListedColormap\n",
    "\n",
    "\n",
    "# Create a new figure\n",
    "fig = plt.figure(figsize=(6,6))\n",
    "\n",
    "# Add a 3D subplot\n",
    "ax = Axes3D(fig, auto_add_to_figure=False)\n",
    "fig.add_axes(ax)\n",
    "\n",
    "# Get colormap from seaborn\n",
    "cmap = ListedColormap(sns.color_palette(\"husl\", 160).as_hex())\n",
    "\n",
    "# Create a scatter plot\n",
    "sc = ax.scatter(sitios['B4'], sitios['B1'], sitios['B5'], s=40, c= sitios['B1'], marker='o', cmap=cmap, alpha=1)\n",
    "\n",
    "# Set labels\n",
    "ax.set_xlabel('X Label')\n",
    "ax.set_ylabel('Y Label')\n",
    "ax.set_zlabel('Z Label')\n",
    "\n",
    "# Create a legend\n",
    "plt.legend(*sc.legend_elements(), bbox_to_anchor=(1.05, 1), loc=2)\n",
    "\n",
    "# Show the plot\n",
    "plt.show()"
   ]
  },
  {
   "cell_type": "markdown",
   "metadata": {},
   "source": [
    "1. Ahora vamos a evaluar la presencia de outliers de forma visual utilizando \n",
    " boxplot por categoria.\n"
   ]
  },
  {
   "cell_type": "code",
   "execution_count": 17,
   "metadata": {},
   "outputs": [
    {
     "data": {
      "text/plain": [
       "<AxesSubplot:>"
      ]
     },
     "execution_count": 17,
     "metadata": {},
     "output_type": "execute_result"
    },
    {
     "data": {
      "image/png": "[encoded data removed]",
      "text/plain": [
       "<Figure size 432x288 with 1 Axes>"
      ]
     },
     "metadata": {
      "needs_background": "light"
     },
     "output_type": "display_data"
    }
   ],
   "source": [
    "### Vamos a filtrar por categoria\n",
    "\n",
    "sitios_gr.query('id_clase == 1').iloc[:,1:5\n",
    "                            ].boxplot()\n",
    "\n",
    "\n"
   ]
  },
  {
   "cell_type": "code",
   "execution_count": 18,
   "metadata": {},
   "outputs": [
    {
     "data": {
      "text/plain": [
       "<AxesSubplot:>"
      ]
     },
     "execution_count": 18,
     "metadata": {},
     "output_type": "execute_result"
    },
    {
     "data": {
      "image/png": "[encoded data removed]",
      "text/plain": [
       "<Figure size 432x288 with 1 Axes>"
      ]
     },
     "metadata": {
      "needs_background": "light"
     },
     "output_type": "display_data"
    }
   ],
   "source": [
    "sitios_gr.query('id_clase == 1').iloc[:,5:8\n",
    "                            ].boxplot()\n"
   ]
  },
  {
   "cell_type": "code",
   "execution_count": 20,
   "metadata": {},
   "outputs": [
    {
     "data": {
      "text/plain": [
       "<AxesSubplot:>"
      ]
     },
     "execution_count": 20,
     "metadata": {},
     "output_type": "execute_result"
    },
    {
     "data": {
      "image/png": "[encoded data removed]",
      "text/plain": [
       "<Figure size 432x288 with 1 Axes>"
      ]
     },
     "metadata": {
      "needs_background": "light"
     },
     "output_type": "display_data"
    }
   ],
   "source": [
    "sitios_gr.query('id_clase == 3').iloc[:,5:8\n",
    "                            ].boxplot()"
   ]
  },
  {
   "cell_type": "code",
   "execution_count": 21,
   "metadata": {},
   "outputs": [
    {
     "data": {
      "text/plain": [
       "<AxesSubplot:>"
      ]
     },
     "execution_count": 21,
     "metadata": {},
     "output_type": "execute_result"
    },
    {
     "data": {
      "image/png": "[encoded data removed]",
      "text/plain": [
       "<Figure size 432x288 with 1 Axes>"
      ]
     },
     "metadata": {
      "needs_background": "light"
     },
     "output_type": "display_data"
    }
   ],
   "source": [
    "sitios_gr.query('id_clase == 3').iloc[:,1:5\n",
    "                            ].boxplot()"
   ]
  },
  {
   "cell_type": "code",
   "execution_count": 22,
   "metadata": {},
   "outputs": [
    {
     "data": {
      "text/plain": [
       "<AxesSubplot:>"
      ]
     },
     "execution_count": 22,
     "metadata": {},
     "output_type": "execute_result"
    },
    {
     "data": {
      "image/png": "[encoded data removed]",
      "text/plain": [
       "<Figure size 432x288 with 1 Axes>"
      ]
     },
     "metadata": {
      "needs_background": "light"
     },
     "output_type": "display_data"
    }
   ],
   "source": [
    "sitios_gr.query('id_clase == 2').iloc[:,1:5\n",
    "                            ].boxplot()"
   ]
  },
  {
   "cell_type": "code",
   "execution_count": 23,
   "metadata": {},
   "outputs": [
    {
     "data": {
      "text/plain": [
       "<AxesSubplot:>"
      ]
     },
     "execution_count": 23,
     "metadata": {},
     "output_type": "execute_result"
    },
    {
     "data": {
      "image/png": "[encoded data removed]",
      "text/plain": [
       "<Figure size 432x288 with 1 Axes>"
      ]
     },
     "metadata": {
      "needs_background": "light"
     },
     "output_type": "display_data"
    }
   ],
   "source": [
    "sitios_gr.query('id_clase == 2').iloc[:,5:8\n",
    "                            ].boxplot()"
   ]
  },
  {
   "cell_type": "code",
   "execution_count": 103,
   "metadata": {},
   "outputs": [
    {
     "data": {
      "text/plain": [
       "<AxesSubplot:>"
      ]
     },
     "execution_count": 103,
     "metadata": {},
     "output_type": "execute_result"
    },
    {
     "data": {
      "image/png": "[encoded data removed]",
      "text/plain": [
       "<Figure size 432x288 with 1 Axes>"
      ]
     },
     "metadata": {
      "needs_background": "light"
     },
     "output_type": "display_data"
    }
   ],
   "source": [
    "sitios_gr.query('id_clase == 3').iloc[:,5:8\n",
    "                            ].boxplot()"
   ]
  },
  {
   "cell_type": "markdown",
   "metadata": {},
   "source": [
    "# Vamos a hacer los graficos interactivos de plotly"
   ]
  },
  {
   "cell_type": "code",
   "execution_count": 27,
   "metadata": {},
   "outputs": [],
   "source": [
    "import plotly.express as px\n",
    "import plotly.figure_factory as ff\n",
    "import plotly.graph_objects as go"
   ]
  },
  {
   "cell_type": "code",
   "execution_count": 51,
   "metadata": {},
   "outputs": [
    {
     "ename": "IndentationError",
     "evalue": "unexpected indent (1750312231.py, line 3)",
     "output_type": "error",
     "traceback": [
      "\u001b[1;36m  Input \u001b[1;32mIn [51]\u001b[1;36m\u001b[0m\n\u001b[1;33m    plotscat.update_layout(legend=dict(yanchor=\"top\", y=1.10, xanchor=\"center\", x=0.5))\u001b[0m\n\u001b[1;37m    ^\u001b[0m\n\u001b[1;31mIndentationError\u001b[0m\u001b[1;31m:\u001b[0m unexpected indent\n"
     ]
    }
   ],
   "source": [
    "plotscat = px.scatter(st.session_state.edited_df, x=x_axis_val, y = y_axis_val, trendline=\"ols\",trendline_color_override='darkblue',\n",
    "                          opacity=0.65,trendline_scope=\"overall\", hover_data =['Ciudades'])\n",
    "    plotscat.update_layout(legend=dict(yanchor=\"top\", y=1.10, xanchor=\"center\", x=0.5))"
   ]
  },
  {
   "cell_type": "code",
   "execution_count": 39,
   "metadata": {},
   "outputs": [],
   "source": [
    "sitios_gr = sitios_gr.reset_index()"
   ]
  },
  {
   "cell_type": "code",
   "execution_count": 50,
   "metadata": {},
   "outputs": [
    {
     "data": {
      "text/html": [
       "<div>\n",
       "<style scoped>\n",
       "    .dataframe tbody tr th:only-of-type {\n",
       "        vertical-align: middle;\n",
       "    }\n",
       "\n",
       "    .dataframe tbody tr th {\n",
       "        vertical-align: top;\n",
       "    }\n",
       "\n",
       "    .dataframe thead th {\n",
       "        text-align: right;\n",
       "    }\n",
       "</style>\n",
       "<table border=\"1\" class=\"dataframe\">\n",
       "  <thead>\n",
       "    <tr style=\"text-align: right;\">\n",
       "      <th></th>\n",
       "      <th>level_0</th>\n",
       "      <th>index</th>\n",
       "      <th>id_clase</th>\n",
       "      <th>B1</th>\n",
       "      <th>B2</th>\n",
       "      <th>B3</th>\n",
       "      <th>B4</th>\n",
       "      <th>B5</th>\n",
       "      <th>B6</th>\n",
       "      <th>B7</th>\n",
       "    </tr>\n",
       "  </thead>\n",
       "  <tbody>\n",
       "    <tr>\n",
       "      <th>0</th>\n",
       "      <td>0</td>\n",
       "      <td>0</td>\n",
       "      <td>1.0</td>\n",
       "      <td>0.002125</td>\n",
       "      <td>0.004902</td>\n",
       "      <td>0.012630</td>\n",
       "      <td>0.007047</td>\n",
       "      <td>0.196165</td>\n",
       "      <td>0.039470</td>\n",
       "      <td>0.014692</td>\n",
       "    </tr>\n",
       "    <tr>\n",
       "      <th>1</th>\n",
       "      <td>1</td>\n",
       "      <td>1</td>\n",
       "      <td>1.0</td>\n",
       "      <td>0.003142</td>\n",
       "      <td>0.005123</td>\n",
       "      <td>0.012795</td>\n",
       "      <td>0.006800</td>\n",
       "      <td>0.217505</td>\n",
       "      <td>0.042550</td>\n",
       "      <td>0.015105</td>\n",
       "    </tr>\n",
       "    <tr>\n",
       "      <th>2</th>\n",
       "      <td>2</td>\n",
       "      <td>2</td>\n",
       "      <td>1.0</td>\n",
       "      <td>0.003142</td>\n",
       "      <td>0.005123</td>\n",
       "      <td>0.012795</td>\n",
       "      <td>0.006800</td>\n",
       "      <td>0.217505</td>\n",
       "      <td>0.042550</td>\n",
       "      <td>0.015105</td>\n",
       "    </tr>\n",
       "    <tr>\n",
       "      <th>3</th>\n",
       "      <td>3</td>\n",
       "      <td>3</td>\n",
       "      <td>1.0</td>\n",
       "      <td>0.002785</td>\n",
       "      <td>0.004655</td>\n",
       "      <td>0.012822</td>\n",
       "      <td>0.007212</td>\n",
       "      <td>0.198447</td>\n",
       "      <td>0.041725</td>\n",
       "      <td>0.015352</td>\n",
       "    </tr>\n",
       "    <tr>\n",
       "      <th>4</th>\n",
       "      <td>4</td>\n",
       "      <td>4</td>\n",
       "      <td>1.0</td>\n",
       "      <td>0.002785</td>\n",
       "      <td>0.004655</td>\n",
       "      <td>0.012822</td>\n",
       "      <td>0.007212</td>\n",
       "      <td>0.198447</td>\n",
       "      <td>0.041725</td>\n",
       "      <td>0.015352</td>\n",
       "    </tr>\n",
       "    <tr>\n",
       "      <th>...</th>\n",
       "      <td>...</td>\n",
       "      <td>...</td>\n",
       "      <td>...</td>\n",
       "      <td>...</td>\n",
       "      <td>...</td>\n",
       "      <td>...</td>\n",
       "      <td>...</td>\n",
       "      <td>...</td>\n",
       "      <td>...</td>\n",
       "      <td>...</td>\n",
       "    </tr>\n",
       "    <tr>\n",
       "      <th>682</th>\n",
       "      <td>682</td>\n",
       "      <td>684</td>\n",
       "      <td>6.0</td>\n",
       "      <td>0.004985</td>\n",
       "      <td>0.007240</td>\n",
       "      <td>0.016425</td>\n",
       "      <td>0.008587</td>\n",
       "      <td>0.010320</td>\n",
       "      <td>0.006112</td>\n",
       "      <td>0.004573</td>\n",
       "    </tr>\n",
       "    <tr>\n",
       "      <th>683</th>\n",
       "      <td>683</td>\n",
       "      <td>685</td>\n",
       "      <td>6.0</td>\n",
       "      <td>0.009000</td>\n",
       "      <td>0.010815</td>\n",
       "      <td>0.018570</td>\n",
       "      <td>0.013593</td>\n",
       "      <td>0.073542</td>\n",
       "      <td>0.032238</td>\n",
       "      <td>0.020303</td>\n",
       "    </tr>\n",
       "    <tr>\n",
       "      <th>684</th>\n",
       "      <td>684</td>\n",
       "      <td>686</td>\n",
       "      <td>6.0</td>\n",
       "      <td>-0.002907</td>\n",
       "      <td>0.003857</td>\n",
       "      <td>0.017717</td>\n",
       "      <td>0.011365</td>\n",
       "      <td>0.007075</td>\n",
       "      <td>0.008807</td>\n",
       "      <td>0.008313</td>\n",
       "    </tr>\n",
       "    <tr>\n",
       "      <th>685</th>\n",
       "      <td>685</td>\n",
       "      <td>687</td>\n",
       "      <td>6.0</td>\n",
       "      <td>0.002097</td>\n",
       "      <td>0.007625</td>\n",
       "      <td>0.020880</td>\n",
       "      <td>0.012960</td>\n",
       "      <td>0.009825</td>\n",
       "      <td>0.007240</td>\n",
       "      <td>0.005535</td>\n",
       "    </tr>\n",
       "    <tr>\n",
       "      <th>686</th>\n",
       "      <td>686</td>\n",
       "      <td>688</td>\n",
       "      <td>6.0</td>\n",
       "      <td>0.003115</td>\n",
       "      <td>0.008560</td>\n",
       "      <td>0.020358</td>\n",
       "      <td>0.012493</td>\n",
       "      <td>0.009330</td>\n",
       "      <td>0.008093</td>\n",
       "      <td>0.006525</td>\n",
       "    </tr>\n",
       "  </tbody>\n",
       "</table>\n",
       "<p>687 rows × 10 columns</p>\n",
       "</div>"
      ],
      "text/plain": [
       "     level_0  index  id_clase        B1        B2        B3        B4  \\\n",
       "0          0      0       1.0  0.002125  0.004902  0.012630  0.007047   \n",
       "1          1      1       1.0  0.003142  0.005123  0.012795  0.006800   \n",
       "2          2      2       1.0  0.003142  0.005123  0.012795  0.006800   \n",
       "3          3      3       1.0  0.002785  0.004655  0.012822  0.007212   \n",
       "4          4      4       1.0  0.002785  0.004655  0.012822  0.007212   \n",
       "..       ...    ...       ...       ...       ...       ...       ...   \n",
       "682      682    684       6.0  0.004985  0.007240  0.016425  0.008587   \n",
       "683      683    685       6.0  0.009000  0.010815  0.018570  0.013593   \n",
       "684      684    686       6.0 -0.002907  0.003857  0.017717  0.011365   \n",
       "685      685    687       6.0  0.002097  0.007625  0.020880  0.012960   \n",
       "686      686    688       6.0  0.003115  0.008560  0.020358  0.012493   \n",
       "\n",
       "           B5        B6        B7  \n",
       "0    0.196165  0.039470  0.014692  \n",
       "1    0.217505  0.042550  0.015105  \n",
       "2    0.217505  0.042550  0.015105  \n",
       "3    0.198447  0.041725  0.015352  \n",
       "4    0.198447  0.041725  0.015352  \n",
       "..        ...       ...       ...  \n",
       "682  0.010320  0.006112  0.004573  \n",
       "683  0.073542  0.032238  0.020303  \n",
       "684  0.007075  0.008807  0.008313  \n",
       "685  0.009825  0.007240  0.005535  \n",
       "686  0.009330  0.008093  0.006525  \n",
       "\n",
       "[687 rows x 10 columns]"
      ]
     },
     "execution_count": 50,
     "metadata": {},
     "output_type": "execute_result"
    }
   ],
   "source": [
    "sitios_gr"
   ]
  },
  {
   "cell_type": "code",
   "execution_count": null,
   "metadata": {},
   "outputs": [],
   "source": []
  },
  {
   "cell_type": "code",
   "execution_count": 56,
   "metadata": {},
   "outputs": [
    {
     "data": {
      "application/vnd.plotly.v1+json": {
       "config": {
        "plotlyServerURL": "https://plot.ly"
       },
       "data": [
        {
         "customdata": [
          [
           0
          ],
          [
           1
          ],
          [
           2
          ],
          [
           3
          ],
          [
           4
          ],
          [
           5
          ],
          [
           6
          ],
          [
           7
          ],
          [
           8
          ],
          [
           9
          ],
          [
           10
          ],
          [
           11
          ],
          [
           12
          ],
          [
           13
          ],
          [
           14
          ],
          [
           15
          ],
          [
           16
          ],
          [
           17
          ],
          [
           18
          ],
          [
           19
          ],
          [
           20
          ],
          [
           21
          ],
          [
           22
          ],
          [
           23
          ],
          [
           24
          ],
          [
           25
          ],
          [
           26
          ],
          [
           27
          ],
          [
           28
          ],
          [
           29
          ],
          [
           30
          ],
          [
           31
          ],
          [
           32
          ],
          [
           33
          ],
          [
           34
          ],
          [
           35
          ],
          [
           36
          ],
          [
           37
          ],
          [
           38
          ],
          [
           39
          ],
          [
           40
          ],
          [
           41
          ],
          [
           42
          ],
          [
           43
          ],
          [
           44
          ],
          [
           45
          ],
          [
           46
          ],
          [
           47
          ],
          [
           48
          ],
          [
           49
          ],
          [
           50
          ],
          [
           51
          ],
          [
           52
          ],
          [
           53
          ],
          [
           54
          ],
          [
           55
          ],
          [
           56
          ],
          [
           57
          ],
          [
           58
          ],
          [
           59
          ],
          [
           60
          ],
          [
           61
          ],
          [
           62
          ],
          [
           63
          ],
          [
           64
          ],
          [
           65
          ],
          [
           66
          ],
          [
           67
          ],
          [
           68
          ],
          [
           69
          ],
          [
           70
          ],
          [
           71
          ],
          [
           72
          ],
          [
           73
          ],
          [
           74
          ],
          [
           75
          ],
          [
           76
          ],
          [
           77
          ],
          [
           78
          ],
          [
           79
          ],
          [
           80
          ],
          [
           81
          ],
          [
           82
          ],
          [
           83
          ],
          [
           84
          ],
          [
           85
          ],
          [
           86
          ],
          [
           87
          ],
          [
           88
          ],
          [
           89
          ],
          [
           90
          ],
          [
           91
          ],
          [
           92
          ],
          [
           93
          ],
          [
           94
          ],
          [
           95
          ],
          [
           96
          ],
          [
           97
          ],
          [
           98
          ],
          [
           99
          ],
          [
           100
          ],
          [
           101
          ],
          [
           102
          ],
          [
           103
          ],
          [
           104
          ],
          [
           105
          ],
          [
           106
          ],
          [
           107
          ],
          [
           108
          ],
          [
           109
          ],
          [
           110
          ],
          [
           111
          ],
          [
           112
          ],
          [
           113
          ],
          [
           114
          ],
          [
           115
          ],
          [
           116
          ],
          [
           117
          ],
          [
           118
          ],
          [
           119
          ],
          [
           120
          ],
          [
           121
          ],
          [
           122
          ],
          [
           123
          ],
          [
           124
          ],
          [
           125
          ],
          [
           126
          ],
          [
           127
          ],
          [
           128
          ],
          [
           129
          ],
          [
           130
          ],
          [
           131
          ],
          [
           132
          ],
          [
           133
          ],
          [
           134
          ],
          [
           135
          ],
          [
           136
          ],
          [
           137
          ],
          [
           138
          ],
          [
           139
          ],
          [
           140
          ],
          [
           141
          ],
          [
           142
          ],
          [
           143
          ],
          [
           144
          ],
          [
           145
          ],
          [
           146
          ],
          [
           147
          ],
          [
           148
          ],
          [
           149
          ],
          [
           150
          ],
          [
           151
          ],
          [
           152
          ],
          [
           153
          ],
          [
           154
          ],
          [
           155
          ],
          [
           156
          ],
          [
           157
          ],
          [
           158
          ],
          [
           159
          ],
          [
           160
          ],
          [
           161
          ],
          [
           162
          ],
          [
           163
          ],
          [
           164
          ],
          [
           165
          ],
          [
           166
          ],
          [
           167
          ],
          [
           168
          ],
          [
           169
          ],
          [
           170
          ],
          [
           171
          ],
          [
           172
          ],
          [
           173
          ],
          [
           174
          ],
          [
           175
          ],
          [
           176
          ],
          [
           177
          ],
          [
           178
          ],
          [
           179
          ],
          [
           180
          ],
          [
           181
          ],
          [
           182
          ],
          [
           183
          ],
          [
           184
          ],
          [
           185
          ],
          [
           186
          ],
          [
           187
          ],
          [
           188
          ],
          [
           189
          ],
          [
           190
          ],
          [
           191
          ],
          [
           192
          ],
          [
           193
          ],
          [
           194
          ],
          [
           195
          ],
          [
           196
          ],
          [
           197
          ],
          [
           198
          ],
          [
           199
          ],
          [
           200
          ],
          [
           201
          ],
          [
           202
          ],
          [
           203
          ],
          [
           204
          ],
          [
           205
          ],
          [
           206
          ],
          [
           207
          ],
          [
           208
          ],
          [
           209
          ],
          [
           210
          ],
          [
           211
          ],
          [
           212
          ],
          [
           213
          ],
          [
           214
          ],
          [
           215
          ],
          [
           216
          ],
          [
           217
          ],
          [
           218
          ],
          [
           219
          ],
          [
           220
          ],
          [
           221
          ],
          [
           222
          ],
          [
           223
          ],
          [
           224
          ],
          [
           225
          ],
          [
           226
          ],
          [
           227
          ],
          [
           228
          ],
          [
           229
          ],
          [
           230
          ],
          [
           231
          ],
          [
           232
          ],
          [
           233
          ],
          [
           234
          ],
          [
           235
          ],
          [
           236
          ],
          [
           237
          ],
          [
           238
          ],
          [
           239
          ],
          [
           240
          ],
          [
           241
          ],
          [
           242
          ],
          [
           243
          ],
          [
           244
          ],
          [
           245
          ],
          [
           246
          ],
          [
           247
          ],
          [
           248
          ],
          [
           249
          ],
          [
           250
          ],
          [
           251
          ],
          [
           252
          ],
          [
           253
          ],
          [
           254
          ],
          [
           255
          ],
          [
           256
          ],
          [
           257
          ],
          [
           258
          ],
          [
           259
          ],
          [
           260
          ],
          [
           262
          ],
          [
           263
          ],
          [
           264
          ],
          [
           265
          ],
          [
           266
          ],
          [
           267
          ],
          [
           268
          ],
          [
           269
          ],
          [
           270
          ],
          [
           271
          ],
          [
           272
          ],
          [
           273
          ],
          [
           274
          ],
          [
           275
          ],
          [
           276
          ],
          [
           277
          ],
          [
           278
          ],
          [
           279
          ],
          [
           280
          ],
          [
           281
          ],
          [
           282
          ],
          [
           283
          ],
          [
           284
          ],
          [
           285
          ],
          [
           286
          ],
          [
           287
          ],
          [
           288
          ],
          [
           289
          ],
          [
           290
          ],
          [
           291
          ],
          [
           292
          ],
          [
           293
          ],
          [
           294
          ],
          [
           295
          ],
          [
           296
          ],
          [
           297
          ],
          [
           298
          ],
          [
           299
          ],
          [
           300
          ],
          [
           301
          ],
          [
           302
          ],
          [
           303
          ],
          [
           304
          ],
          [
           305
          ],
          [
           306
          ],
          [
           307
          ],
          [
           308
          ],
          [
           309
          ],
          [
           310
          ],
          [
           311
          ],
          [
           312
          ],
          [
           313
          ],
          [
           314
          ],
          [
           315
          ],
          [
           316
          ],
          [
           317
          ],
          [
           318
          ],
          [
           319
          ],
          [
           320
          ],
          [
           321
          ],
          [
           322
          ],
          [
           323
          ],
          [
           324
          ],
          [
           325
          ],
          [
           326
          ],
          [
           327
          ],
          [
           328
          ],
          [
           329
          ],
          [
           330
          ],
          [
           331
          ],
          [
           332
          ],
          [
           333
          ],
          [
           334
          ],
          [
           335
          ],
          [
           336
          ],
          [
           337
          ],
          [
           338
          ],
          [
           339
          ],
          [
           340
          ],
          [
           341
          ],
          [
           342
          ],
          [
           343
          ],
          [
           344
          ],
          [
           345
          ],
          [
           346
          ],
          [
           347
          ],
          [
           348
          ],
          [
           349
          ],
          [
           350
          ],
          [
           351
          ],
          [
           352
          ],
          [
           353
          ],
          [
           354
          ],
          [
           355
          ],
          [
           356
          ],
          [
           357
          ],
          [
           358
          ],
          [
           359
          ],
          [
           360
          ],
          [
           361
          ],
          [
           362
          ],
          [
           363
          ],
          [
           364
          ],
          [
           365
          ],
          [
           366
          ],
          [
           367
          ],
          [
           368
          ],
          [
           369
          ],
          [
           370
          ],
          [
           371
          ],
          [
           372
          ],
          [
           373
          ],
          [
           374
          ],
          [
           375
          ],
          [
           376
          ],
          [
           377
          ],
          [
           378
          ],
          [
           379
          ],
          [
           380
          ],
          [
           381
          ],
          [
           382
          ],
          [
           383
          ],
          [
           384
          ],
          [
           385
          ],
          [
           386
          ],
          [
           387
          ],
          [
           388
          ],
          [
           389
          ],
          [
           390
          ],
          [
           391
          ],
          [
           392
          ],
          [
           393
          ],
          [
           394
          ],
          [
           395
          ],
          [
           396
          ],
          [
           397
          ],
          [
           398
          ],
          [
           399
          ],
          [
           400
          ],
          [
           401
          ],
          [
           402
          ],
          [
           403
          ],
          [
           404
          ],
          [
           405
          ],
          [
           406
          ],
          [
           407
          ],
          [
           408
          ],
          [
           409
          ],
          [
           410
          ],
          [
           411
          ],
          [
           412
          ],
          [
           413
          ],
          [
           414
          ],
          [
           415
          ],
          [
           416
          ],
          [
           417
          ],
          [
           418
          ],
          [
           419
          ],
          [
           420
          ],
          [
           421
          ],
          [
           422
          ],
          [
           423
          ],
          [
           424
          ],
          [
           425
          ],
          [
           426
          ],
          [
           427
          ],
          [
           428
          ],
          [
           429
          ],
          [
           430
          ],
          [
           431
          ],
          [
           432
          ],
          [
           433
          ],
          [
           434
          ],
          [
           435
          ],
          [
           436
          ],
          [
           437
          ],
          [
           438
          ],
          [
           439
          ],
          [
           440
          ],
          [
           441
          ],
          [
           442
          ],
          [
           443
          ],
          [
           444
          ],
          [
           445
          ],
          [
           446
          ],
          [
           447
          ],
          [
           448
          ],
          [
           449
          ],
          [
           450
          ],
          [
           451
          ],
          [
           452
          ],
          [
           453
          ],
          [
           454
          ],
          [
           455
          ],
          [
           456
          ],
          [
           457
          ],
          [
           458
          ],
          [
           459
          ],
          [
           460
          ],
          [
           461
          ],
          [
           462
          ],
          [
           463
          ],
          [
           464
          ],
          [
           465
          ],
          [
           466
          ],
          [
           467
          ],
          [
           468
          ],
          [
           469
          ],
          [
           470
          ],
          [
           471
          ],
          [
           472
          ],
          [
           473
          ],
          [
           474
          ],
          [
           475
          ],
          [
           476
          ],
          [
           477
          ],
          [
           478
          ],
          [
           479
          ],
          [
           480
          ],
          [
           481
          ],
          [
           482
          ],
          [
           483
          ],
          [
           484
          ],
          [
           485
          ],
          [
           486
          ],
          [
           487
          ],
          [
           488
          ],
          [
           489
          ],
          [
           490
          ],
          [
           491
          ],
          [
           492
          ],
          [
           493
          ],
          [
           494
          ],
          [
           495
          ],
          [
           496
          ],
          [
           497
          ],
          [
           498
          ],
          [
           499
          ],
          [
           500
          ],
          [
           501
          ],
          [
           502
          ],
          [
           503
          ],
          [
           504
          ],
          [
           505
          ],
          [
           506
          ],
          [
           507
          ],
          [
           508
          ],
          [
           509
          ],
          [
           510
          ],
          [
           511
          ],
          [
           512
          ],
          [
           513
          ],
          [
           514
          ],
          [
           515
          ],
          [
           516
          ],
          [
           517
          ],
          [
           518
          ],
          [
           519
          ],
          [
           520
          ],
          [
           521
          ],
          [
           522
          ],
          [
           523
          ],
          [
           524
          ],
          [
           525
          ],
          [
           526
          ],
          [
           527
          ],
          [
           528
          ],
          [
           529
          ],
          [
           530
          ],
          [
           531
          ],
          [
           532
          ],
          [
           533
          ],
          [
           534
          ],
          [
           535
          ],
          [
           536
          ],
          [
           537
          ],
          [
           538
          ],
          [
           539
          ],
          [
           540
          ],
          [
           541
          ],
          [
           542
          ],
          [
           543
          ],
          [
           544
          ],
          [
           545
          ],
          [
           546
          ],
          [
           547
          ],
          [
           548
          ],
          [
           549
          ],
          [
           550
          ],
          [
           551
          ],
          [
           552
          ],
          [
           553
          ],
          [
           554
          ],
          [
           555
          ],
          [
           556
          ],
          [
           557
          ],
          [
           558
          ],
          [
           559
          ],
          [
           560
          ],
          [
           561
          ],
          [
           562
          ],
          [
           563
          ],
          [
           564
          ],
          [
           565
          ],
          [
           566
          ],
          [
           567
          ],
          [
           568
          ],
          [
           569
          ],
          [
           570
          ],
          [
           571
          ],
          [
           573
          ],
          [
           574
          ],
          [
           575
          ],
          [
           576
          ],
          [
           577
          ],
          [
           578
          ],
          [
           579
          ],
          [
           580
          ],
          [
           581
          ],
          [
           582
          ],
          [
           583
          ],
          [
           584
          ],
          [
           585
          ],
          [
           586
          ],
          [
           587
          ],
          [
           588
          ],
          [
           589
          ],
          [
           590
          ],
          [
           591
          ],
          [
           592
          ],
          [
           593
          ],
          [
           594
          ],
          [
           595
          ],
          [
           596
          ],
          [
           597
          ],
          [
           598
          ],
          [
           599
          ],
          [
           600
          ],
          [
           601
          ],
          [
           602
          ],
          [
           603
          ],
          [
           604
          ],
          [
           605
          ],
          [
           606
          ],
          [
           607
          ],
          [
           608
          ],
          [
           609
          ],
          [
           610
          ],
          [
           611
          ],
          [
           612
          ],
          [
           613
          ],
          [
           614
          ],
          [
           615
          ],
          [
           616
          ],
          [
           617
          ],
          [
           618
          ],
          [
           619
          ],
          [
           620
          ],
          [
           621
          ],
          [
           622
          ],
          [
           623
          ],
          [
           624
          ],
          [
           625
          ],
          [
           626
          ],
          [
           627
          ],
          [
           628
          ],
          [
           629
          ],
          [
           630
          ],
          [
           631
          ],
          [
           632
          ],
          [
           633
          ],
          [
           634
          ],
          [
           635
          ],
          [
           636
          ],
          [
           637
          ],
          [
           638
          ],
          [
           639
          ],
          [
           640
          ],
          [
           641
          ],
          [
           642
          ],
          [
           643
          ],
          [
           644
          ],
          [
           645
          ],
          [
           646
          ],
          [
           647
          ],
          [
           648
          ],
          [
           649
          ],
          [
           650
          ],
          [
           651
          ],
          [
           652
          ],
          [
           653
          ],
          [
           654
          ],
          [
           655
          ],
          [
           656
          ],
          [
           657
          ],
          [
           658
          ],
          [
           659
          ],
          [
           660
          ],
          [
           661
          ],
          [
           662
          ],
          [
           663
          ],
          [
           664
          ],
          [
           665
          ],
          [
           666
          ],
          [
           667
          ],
          [
           668
          ],
          [
           669
          ],
          [
           670
          ],
          [
           671
          ],
          [
           672
          ],
          [
           673
          ],
          [
           674
          ],
          [
           675
          ],
          [
           676
          ],
          [
           677
          ],
          [
           678
          ],
          [
           679
          ],
          [
           680
          ],
          [
           681
          ],
          [
           682
          ],
          [
           683
          ],
          [
           684
          ],
          [
           685
          ],
          [
           686
          ],
          [
           687
          ],
          [
           688
          ]
         ],
         "hovertemplate": "B1=%{x}<br>B5=%{y}<br>index=%{customdata[0]}<br>id_clase=%{marker.color}<extra></extra>",
         "legendgroup": "",
         "marker": {
          "color": [
           1,
           1,
           1,
           1,
           1,
           1,
           1,
           1,
           1,
           1,
           1,
           1,
           1,
           1,
           1,
           1,
           1,
           1,
           1,
           1,
           1,
           1,
           1,
           1,
           1,
           1,
           1,
           1,
           1,
           1,
           1,
           1,
           1,
           1,
           1,
           1,
           1,
           1,
           1,
           1,
           1,
           1,
           1,
           1,
           2,
           2,
           2,
           2,
           2,
           2,
           2,
           2,
           2,
           2,
           2,
           2,
           3,
           3,
           3,
           3,
           3,
           3,
           3,
           3,
           3,
           3,
           3,
           3,
           3,
           3,
           3,
           3,
           3,
           3,
           3,
           3,
           3,
           3,
           3,
           4,
           4,
           4,
           4,
           4,
           4,
           4,
           4,
           4,
           4,
           4,
           4,
           4,
           4,
           4,
           2,
           2,
           2,
           2,
           2,
           2,
           2,
           1,
           1,
           1,
           1,
           1,
           1,
           1,
           1,
           1,
           1,
           1,
           1,
           1,
           1,
           1,
           1,
           1,
           1,
           1,
           1,
           1,
           1,
           1,
           1,
           1,
           1,
           1,
           1,
           1,
           1,
           1,
           1,
           1,
           1,
           1,
           1,
           1,
           1,
           1,
           1,
           1,
           1,
           1,
           1,
           1,
           1,
           1,
           1,
           1,
           1,
           1,
           1,
           1,
           1,
           1,
           1,
           1,
           1,
           1,
           1,
           1,
           1,
           1,
           1,
           1,
           1,
           1,
           1,
           1,
           1,
           1,
           1,
           1,
           1,
           1,
           1,
           1,
           1,
           1,
           1,
           1,
           1,
           1,
           1,
           1,
           1,
           1,
           1,
           1,
           1,
           1,
           1,
           1,
           1,
           1,
           1,
           1,
           1,
           1,
           1,
           1,
           1,
           1,
           1,
           1,
           1,
           1,
           1,
           1,
           1,
           1,
           1,
           1,
           1,
           1,
           1,
           1,
           1,
           1,
           1,
           1,
           1,
           1,
           1,
           1,
           1,
           1,
           1,
           1,
           1,
           1,
           1,
           1,
           1,
           1,
           1,
           1,
           1,
           1,
           1,
           1,
           1,
           1,
           1,
           1,
           1,
           1,
           1,
           2,
           2,
           2,
           2,
           2,
           2,
           2,
           2,
           2,
           2,
           2,
           2,
           2,
           2,
           2,
           2,
           2,
           2,
           2,
           2,
           2,
           2,
           2,
           2,
           2,
           2,
           2,
           2,
           2,
           2,
           2,
           2,
           2,
           2,
           2,
           2,
           2,
           2,
           2,
           2,
           2,
           2,
           2,
           2,
           2,
           2,
           2,
           2,
           2,
           2,
           2,
           2,
           2,
           2,
           2,
           2,
           2,
           2,
           2,
           2,
           2,
           2,
           2,
           2,
           2,
           2,
           2,
           2,
           2,
           2,
           2,
           2,
           2,
           2,
           2,
           2,
           2,
           2,
           2,
           2,
           2,
           2,
           2,
           2,
           2,
           2,
           2,
           2,
           2,
           2,
           2,
           2,
           2,
           2,
           2,
           2,
           2,
           2,
           2,
           2,
           2,
           2,
           2,
           2,
           2,
           2,
           2,
           2,
           2,
           2,
           2,
           2,
           2,
           2,
           2,
           2,
           2,
           2,
           2,
           2,
           2,
           2,
           2,
           2,
           2,
           2,
           2,
           2,
           2,
           2,
           2,
           2,
           2,
           2,
           2,
           2,
           2,
           2,
           2,
           2,
           2,
           2,
           2,
           2,
           2,
           2,
           2,
           2,
           2,
           2,
           2,
           2,
           2,
           2,
           2,
           2,
           2,
           2,
           3,
           3,
           3,
           3,
           3,
           3,
           3,
           3,
           3,
           3,
           3,
           3,
           3,
           3,
           3,
           3,
           3,
           3,
           3,
           3,
           3,
           3,
           3,
           3,
           3,
           3,
           3,
           3,
           3,
           3,
           3,
           3,
           3,
           3,
           3,
           3,
           3,
           3,
           3,
           3,
           3,
           3,
           3,
           3,
           3,
           3,
           3,
           3,
           3,
           3,
           3,
           3,
           3,
           3,
           3,
           3,
           3,
           3,
           3,
           3,
           3,
           3,
           3,
           3,
           3,
           3,
           3,
           3,
           3,
           3,
           3,
           3,
           3,
           3,
           3,
           3,
           3,
           3,
           3,
           3,
           3,
           3,
           3,
           3,
           3,
           3,
           3,
           3,
           3,
           3,
           3,
           3,
           3,
           3,
           3,
           3,
           3,
           3,
           3,
           3,
           3,
           3,
           3,
           3,
           3,
           3,
           3,
           3,
           3,
           3,
           3,
           3,
           3,
           3,
           3,
           3,
           3,
           3,
           3,
           3,
           3,
           3,
           3,
           5,
           5,
           5,
           5,
           5,
           5,
           5,
           5,
           5,
           5,
           5,
           5,
           5,
           5,
           5,
           5,
           5,
           5,
           5,
           5,
           5,
           5,
           5,
           5,
           5,
           5,
           5,
           5,
           5,
           5,
           5,
           5,
           5,
           5,
           5,
           5,
           5,
           5,
           5,
           5,
           5,
           5,
           5,
           5,
           5,
           5,
           5,
           5,
           5,
           5,
           5,
           5,
           5,
           5,
           5,
           5,
           5,
           5,
           5,
           5,
           5,
           5,
           5,
           5,
           5,
           5,
           5,
           5,
           5,
           4,
           4,
           4,
           4,
           4,
           4,
           4,
           4,
           4,
           4,
           4,
           4,
           4,
           4,
           4,
           4,
           4,
           4,
           4,
           4,
           4,
           4,
           4,
           4,
           4,
           4,
           4,
           4,
           4,
           4,
           4,
           4,
           4,
           4,
           4,
           4,
           4,
           4,
           4,
           4,
           4,
           4,
           4,
           4,
           4,
           4,
           4,
           6,
           6,
           6,
           6,
           6,
           6,
           6,
           6,
           6,
           6,
           6,
           6,
           6,
           6,
           6,
           6,
           6,
           6,
           6,
           6,
           6,
           6,
           6,
           6,
           6,
           6,
           6,
           6,
           6,
           6,
           6,
           6,
           6,
           6,
           6,
           6,
           6,
           6,
           6,
           6,
           6
          ],
          "coloraxis": "coloraxis",
          "symbol": "circle"
         },
         "mode": "markers",
         "name": "",
         "orientation": "v",
         "showlegend": false,
         "type": "scatter",
         "x": [
          0.0021249999999999,
          0.0031424999999999,
          0.0031424999999999,
          0.002785,
          0.002785,
          0.0025374999999999,
          0.0025374999999999,
          0.002785,
          0.002895,
          0.0022075,
          0.0022075,
          0.0017125,
          0.0017125,
          0.0017125,
          0.0017125,
          0.0017949999999999,
          0.0017949999999999,
          0.0021249999999999,
          0.0021249999999999,
          0.0021249999999999,
          0.0021249999999999,
          0.002785,
          0.0025924999999999,
          0.0022349999999999,
          0.0011212499999999,
          0.00131375,
          0.00139625,
          0.0023724999999999,
          0.0021112499999999,
          0.0022212499999999,
          0.0019187499999999,
          0.0022212499999999,
          0.0026612499999999,
          0.0019875,
          0.0007225,
          0.0024824999999999,
          0.0033212499999999,
          0.0021249999999999,
          0.0021112499999999,
          0.0021112499999999,
          0.0024824999999999,
          0.0024824999999999,
          0.0021112499999999,
          0.0021249999999999,
          0.0034724999999999,
          0.0047099999999999,
          0.0044899999999999,
          0.0039399999999999,
          0.0041874999999999,
          0.0033074999999999,
          0.0044899999999999,
          0.0039399999999999,
          0.0037474999999999,
          0.0043799999999999,
          0.0043249999999999,
          0.00295,
          0.0227225,
          0.0227225,
          0.0231625,
          0.0231625,
          0.0227225,
          0.0227225,
          0.0231625,
          0.0216224999999999,
          0.0221724999999999,
          0.0220624999999999,
          0.0209624999999999,
          0.0244,
          0.0243174999999999,
          0.0243174999999999,
          0.0263249999999999,
          0.0260225,
          0.0260225,
          0.0279474999999999,
          0.0268474999999999,
          0.0268474999999999,
          0.0260775,
          0.0264349999999999,
          0.0251974999999999,
          0.11750125,
          0.11750125,
          0.0969725,
          0.1053875,
          0.107945,
          0.0910599999999999,
          0.0910599999999999,
          0.097055,
          0.0904137499999999,
          0.097055,
          0.0904137499999999,
          0.098815,
          0.11867,
          0.097275,
          0.1376175,
          -0.0022062499999999,
          -0.00129875,
          -0.001175,
          -0.0022062499999999,
          -0.00129875,
          -0.001175,
          -0.00167,
          0.0030324999999999,
          0.0034587499999999,
          0.0048199999999999,
          0.0045449999999999,
          0.0021112499999999,
          0.0055624999999999,
          0.0038849999999999,
          0.0038849999999999,
          0.0054387499999999,
          0.0041187499999999,
          0.0033625,
          0.0038849999999999,
          0.0041049999999999,
          0.0033624999999999,
          0.0023175,
          0.0033074999999999,
          0.003335,
          0.0035137499999999,
          0.0020837499999999,
          0.0031974999999999,
          0.00293625,
          0.0025099999999999,
          0.0023449999999999,
          0.0012724999999999,
          0.0035824999999999,
          0.0021937499999999,
          0.00285375,
          0.0032662499999999,
          0.0012174999999999,
          0.0016299999999999,
          -0.00068,
          0.0018775,
          -0.0002399999999999,
          0.0020699999999999,
          0.0012587499999999,
          0.002235,
          0.0020149999999999,
          0.0026199999999999,
          0.0023724999999999,
          0.00031,
          0.0026199999999999,
          0.0012174999999999,
          0.0029774999999999,
          0.0025237499999999,
          0.0025512499999999,
          0.0023587499999999,
          0.0032524999999999,
          0.0018499999999999,
          0.0031149999999999,
          0.0027024999999999,
          0.00235875,
          0.0030324999999999,
          0.0028674999999999,
          0.0015474999999999,
          0.00075,
          0.0013549999999999,
          0.0021937499999999,
          0.0015475,
          0.0027024999999999,
          0.0030874999999999,
          0.0028399999999999,
          0.0017949999999999,
          0.0031837499999999,
          0.002125,
          0.0025512499999999,
          0.0010662499999999,
          0.0032525,
          0.0012449999999999,
          0.0017675,
          0.0013825,
          0.0003374999999999,
          -0.0008999999999999,
          0.0002137499999999,
          -0.000515,
          -0.00121625,
          -0.00068,
          0.00306,
          0.00295,
          0.0016299999999999,
          0.0008599999999999,
          0.00307375,
          0.0021799999999999,
          0.00288125,
          0.0027299999999999,
          0.0023724999999999,
          0.0017125,
          0.0012999999999999,
          0.0018774999999999,
          0.0015749999999999,
          0.0027024999999999,
          0.0012862499999999,
          0.0022625,
          0.00306,
          0.0046825,
          0.002895,
          0.0031424999999999,
          0.0005024999999999,
          0.0023449999999999,
          0.0024549999999999,
          0.0011074999999999,
          0.00009000000000000674,
          0.0003924999999999,
          0.000695,
          0.0021249999999999,
          0.0005024999999999,
          0.0011899999999999,
          0.0002137499999999,
          0.0022075,
          0.00009000000000000674,
          0.0012999999999999,
          0.0003374999999999,
          0.00031,
          0.0017125,
          0.0018912499999999,
          0.0029774999999999,
          0.0018499999999999,
          0.0008737499999999,
          0.003225,
          0.0024824999999999,
          0.0020699999999999,
          0.0018499999999999,
          -0.000955,
          0.0025924999999999,
          0.0028124999999999,
          0.0023449999999999,
          0.0017125,
          0.0041049999999999,
          0.0008324999999999,
          0.0019599999999999,
          0.0020149999999999,
          0.0027024999999999,
          -0.000515,
          0.0010524999999999,
          0.002785,
          0.0039674999999999,
          0.0020699999999999,
          0.0022625,
          -0.0023024999999999,
          -0.00481875,
          0.0020012499999999,
          0.0008462499999999,
          0.0003374999999999,
          0.0002274999999999,
          -0.00387,
          0.0022899999999999,
          -0.0013674999999999,
          -0.00432375,
          0.0014649999999999,
          0.0126437499999999,
          0.0118874999999999,
          0.0110075,
          0.00898625,
          0.01203875,
          0.0101962499999999,
          0.0079412499999999,
          0.0093024999999999,
          0.0136199999999999,
          0.0135237499999999,
          0.0079412499999999,
          0.00977,
          0.0135924999999999,
          0.014445,
          0.01296,
          0.0144312499999999,
          0.0133587499999999,
          0.0156274999999999,
          0.01296,
          0.01192875,
          0.0105675,
          0.0127812499999999,
          0.0135924999999999,
          0.01208,
          0.0134825,
          0.0111175,
          0.0125337499999999,
          0.0137024999999999,
          0.0147199999999999,
          0.0079549999999999,
          0.0084912499999999,
          0.01483,
          0.014995,
          0.011145,
          0.0084912499999999,
          0.0097012499999999,
          0.01044375,
          0.0088624999999999,
          0.0079549999999999,
          0.0080375,
          0.00801,
          0.00843625,
          0.00834,
          0.0039949999999999,
          0.0054799999999999,
          0.006745,
          0.00614,
          0.0086699999999999,
          0.0078312499999999,
          0.0063874999999999,
          0.00310125,
          0.0035962499999999,
          0.0071299999999999,
          0.00317,
          0.0063737499999999,
          0.00684125,
          0.0082575,
          0.0076249999999999,
          0.0105675,
          0.009385,
          0.0054524999999999,
          0.0042149999999999,
          0.0041324999999999,
          0.0032524999999999,
          0.0047649999999999,
          0.0022349999999999,
          0.0052187499999999,
          0.0069649999999999,
          0.0086424999999999,
          0.0091924999999999,
          0.0084225,
          0.0069649999999999,
          0.0074599999999999,
          0.0068,
          0.003445,
          0.0060024999999999,
          0.0081749999999999,
          0.0062362499999999,
          0.0078449999999999,
          0.006745,
          0.0039124999999999,
          0.0077899999999999,
          0.0053699999999999,
          0.0070749999999999,
          0.00728125,
          0.00647,
          0.006745,
          0.0050675,
          0.0083537499999999,
          0.0068412499999999,
          0.0066624999999999,
          0.0059887499999999,
          0.0050675,
          0.0072399999999999,
          0.0053974999999999,
          0.003115,
          0.0032799999999999,
          0.0076937499999999,
          0.0102924999999999,
          0.0037887499999999,
          0.0036924999999999,
          0.0049575,
          0.0054937499999999,
          0.0069099999999999,
          0.0061674999999999,
          0.0058374999999999,
          0.0060574999999999,
          0.0077899999999999,
          0.0070199999999999,
          0.0040499999999999,
          0.0102649999999999,
          0.0074875,
          0.0075425,
          0.0036374999999999,
          0.0077487499999999,
          0.0068824999999999,
          0.0054799999999999,
          0.0049849999999999,
          0.0054249999999999,
          0.0060024999999999,
          0.0033212499999999,
          0.0070337499999999,
          0.0066074999999999,
          0.0073775,
          0.0049025,
          0.0070749999999999,
          0.0054387499999999,
          0.0074599999999999,
          0.0045449999999999,
          0.0025099999999999,
          0.0062774999999999,
          0.0045999999999999,
          0.0088074999999999,
          0.0062087499999999,
          0.0074875,
          0.0086837499999999,
          0.0086699999999999,
          0.0115299999999999,
          0.0092474999999999,
          0.0105124999999999,
          0.0115987499999999,
          0.0074187499999999,
          0.0061674999999999,
          0.0081475,
          0.0044349999999999,
          0.0123824999999999,
          0.0120524999999999,
          0.0132899999999999,
          0.012685,
          0.012795,
          0.0111312499999999,
          0.0127124999999999,
          0.0130424999999999,
          0.00955,
          0.0109662499999999,
          0.0102099999999999,
          0.0116949999999999,
          0.0083675,
          0.0227499999999999,
          0.0284149999999999,
          0.0228875,
          0.0174425,
          0.0217324999999999,
          0.0273974999999999,
          0.0285525,
          0.0200275,
          0.0230112499999999,
          0.0260499999999999,
          0.0309037499999999,
          0.0296799999999999,
          0.0285524999999999,
          0.02209,
          0.03112375,
          0.0228049999999999,
          0.0225575,
          0.0240424999999999,
          0.0225299999999999,
          0.0235475,
          0.0230249999999999,
          0.0245374999999999,
          0.021375,
          0.0239874999999999,
          0.0236299999999999,
          0.0228049999999999,
          0.0199725,
          0.0200549999999999,
          0.0259125,
          0.0229149999999999,
          0.0253349999999999,
          0.0208524999999999,
          0.0240424999999999,
          0.0214574999999999,
          0.025115,
          0.0225025,
          0.027975,
          0.02587125,
          0.0210724999999999,
          0.0255825,
          0.0242074999999999,
          0.01824,
          0.0199999999999999,
          0.0185975,
          0.017965,
          0.020385,
          0.0175525,
          0.0169062499999999,
          0.0168375,
          0.0170025,
          0.0289374999999999,
          0.0347674999999999,
          0.02699875,
          0.0277549999999999,
          0.0282224999999999,
          0.03244375,
          0.0276999999999999,
          0.0256924999999999,
          0.0261462499999999,
          0.0351249999999999,
          0.032925,
          0.0327599999999999,
          0.0340249999999999,
          0.0310274999999999,
          0.0261325,
          0.0255275,
          0.02979,
          0.0360324999999999,
          0.01663125,
          0.0151324999999999,
          0.01503625,
          0.01723625,
          0.0162324999999999,
          0.01635625,
          0.01494,
          0.018075,
          0.015545,
          0.02686125,
          0.0258299999999999,
          0.02523875,
          0.02782375,
          0.0342175,
          0.0207974999999999,
          0.0232037499999999,
          0.0287999999999999,
          0.0292949999999999,
          0.021155,
          0.0237124999999999,
          0.02353375,
          0.0248675,
          0.0257475,
          0.0260362499999999,
          0.0199862499999999,
          0.0202337499999999,
          0.0188862499999999,
          0.02677875,
          0.0185562499999999,
          0.0203162499999999,
          0.02088,
          0.0218424999999999,
          0.0271224999999999,
          0.03089,
          0.023245,
          0.0201237499999999,
          0.0238499999999999,
          0.0230387499999999,
          0.0242212499999999,
          0.027865,
          0.0332274999999999,
          0.0309174999999999,
          0.020825,
          0.031,
          0.0320175,
          0.0338325,
          0.0360049999999999,
          0.0303125,
          0.0320449999999999,
          0.0282499999999999,
          0.03307625,
          0.023795,
          0.0277,
          0.0272874999999999,
          0.031,
          0.0428799999999999,
          0.03299375,
          0.04149125,
          0.0437049999999999,
          0.0319899999999999,
          0.0434849999999999,
          0.0410649999999999,
          0.0447499999999999,
          0.0437049999999999,
          0.0498924999999999,
          0.04556125,
          0.03859,
          0.039965,
          0.036115,
          0.0319899999999999,
          0.05091,
          0.0401574999999999,
          0.042385,
          0.038315,
          0.045355,
          0.0386175,
          0.0383975,
          0.03969,
          0.03628,
          0.04693625,
          0.0375449999999999,
          0.0408725,
          0.0420687499999999,
          0.04019875,
          0.0357575,
          0.0609474999999999,
          0.0440075,
          0.0382599999999999,
          0.04539625,
          0.0428662499999999,
          0.0400337499999999,
          0.0400062499999999,
          0.0351524999999999,
          0.04393875,
          0.0465649999999999,
          0.03705,
          0.0405149999999999,
          0.0446399999999999,
          0.0443925,
          0.03837,
          0.0381775,
          0.0349875,
          0.0446125,
          0.0308624999999999,
          0.0274524999999999,
          0.0467299999999999,
          0.0385625,
          0.0461112499999999,
          0.0513224999999999,
          0.0453275,
          0.0430862499999999,
          0.035895,
          0.0547599999999999,
          0.0543199999999999,
          0.0468399999999999,
          0.04607,
          0.0424124999999999,
          0.03788875,
          0.0503874999999999,
          0.05212,
          0.0426324999999999,
          0.0380125,
          0.0312474999999999,
          0.0446812499999999,
          0.0630375,
          0.0507312499999999,
          0.05125375,
          0.09280625,
          0.0568775,
          0.0545949999999999,
          0.06769875,
          0.08743,
          0.099805,
          0.0886124999999999,
          0.16262875,
          0.0695549999999999,
          0.06433,
          0.0525599999999999,
          0.0577024999999999,
          0.0941949999999999,
          0.0734325,
          0.06224,
          0.0826724999999999,
          0.0936175,
          0.0421924999999999,
          0.095185,
          0.0646324999999999,
          0.0502637499999999,
          0.07555,
          0.0854774999999999,
          0.0866325,
          0.064715,
          0.0762924999999999,
          0.0715624999999999,
          0.0586375,
          0.0530275,
          0.060645,
          0.0996949999999999,
          0.10393,
          0.060755,
          0.08545,
          0.0580324999999999,
          0.0687849999999999,
          0.0902075,
          0.06934875,
          0.0611674999999999,
          0.0685925,
          0.0641649999999999,
          0.0679874999999999,
          0.06378,
          0.0470325,
          0.0071574999999999,
          0.0083949999999999,
          0.0095774999999999,
          0.0087524999999999,
          0.0080925,
          0.0083675,
          0.0086424999999999,
          0.0099074999999999,
          0.0103199999999999,
          0.0116124999999999,
          0.012025,
          0.0137299999999999,
          0.0140325,
          0.014005,
          0.0140875,
          0.0132899999999999,
          0.0127674999999999,
          0.0117774999999999,
          0.0149674999999999,
          0.01274,
          0.0093574999999999,
          0.0097974999999999,
          0.0090274999999999,
          0.0080375,
          0.0046824999999999,
          0.0027574999999999,
          0.0016712499999999,
          0.0060024999999999,
          0.0058924999999999,
          0.006195,
          0.0021937499999999,
          0.0055074999999999,
          0.0061675,
          0.00538375,
          0.0045999999999999,
          0.004985,
          0.0049849999999999,
          0.009,
          -0.0029075,
          0.0020975,
          0.003115
         ],
         "xaxis": "x",
         "y": [
          0.1961649999999999,
          0.217505,
          0.217505,
          0.1984475,
          0.1984475,
          0.2172299999999999,
          0.2172299999999999,
          0.1984475,
          0.2318325,
          0.12181875,
          0.12181875,
          0.1403674999999999,
          0.1403674999999999,
          0.1403674999999999,
          0.1403674999999999,
          0.1729824999999999,
          0.1729824999999999,
          0.1863199999999999,
          0.1863199999999999,
          0.1863199999999999,
          0.1863199999999999,
          0.1595349999999999,
          0.1650625,
          0.13605,
          0.094525,
          0.14177,
          0.14057375,
          0.16763375,
          0.15234375,
          0.1466925,
          0.14227875,
          0.153595,
          0.16047,
          0.16735875,
          0.13507375,
          0.18005,
          0.1955875,
          0.16348125,
          0.13829125,
          0.13829125,
          0.15132625,
          0.15132625,
          0.13829125,
          0.16348125,
          0.262055,
          0.2700575,
          0.3119949999999999,
          0.3138924999999999,
          0.27773,
          0.269535,
          0.3119949999999999,
          0.3138924999999999,
          0.342135,
          0.3338025,
          0.2889225,
          0.28642,
          0.3770874999999999,
          0.3770874999999999,
          0.3973549999999999,
          0.3973549999999999,
          0.3740075,
          0.3740075,
          0.40423,
          0.3964475,
          0.3876475,
          0.4060175,
          0.38938,
          0.41457,
          0.4092075,
          0.4092075,
          0.4249375,
          0.4276049999999999,
          0.4276049999999999,
          0.4260649999999999,
          0.427495,
          0.427495,
          0.407255,
          0.407475,
          0.39114,
          0.23517375,
          0.23517375,
          0.24462,
          0.24242,
          0.2229775,
          0.2167899999999999,
          0.2167899999999999,
          0.19136625,
          0.202875,
          0.19136625,
          0.202875,
          0.2545475,
          0.2832575,
          0.2753925,
          0.2880425,
          0.26649625,
          0.288675,
          0.3080212499999999,
          0.26649625,
          0.288675,
          0.3080212499999999,
          0.30221875,
          0.1700674999999999,
          0.14544125,
          0.2273775,
          0.18427125,
          0.20145875,
          0.19853,
          0.209585,
          0.10611625,
          0.22893125,
          0.1756225,
          0.1462524999999999,
          0.164045,
          0.1576925,
          0.1854124999999999,
          0.2036175,
          0.1994925,
          0.19677,
          0.183075,
          0.1939924999999999,
          0.21542875,
          0.1865675,
          0.1716625,
          0.2059,
          0.1406425,
          0.23014125,
          0.15652375,
          0.206175,
          0.23415625,
          0.14903,
          0.1931675,
          0.185055,
          0.2263325,
          0.1452625,
          0.1361875,
          0.17195125,
          0.20932375,
          0.1870075,
          0.21713375,
          0.1981175,
          0.210795,
          0.1992175,
          0.20013875,
          0.191875,
          0.22431125,
          0.14709125,
          0.1654749999999999,
          0.20194,
          0.1756775,
          0.18424375,
          0.1791425,
          0.202435,
          0.206725,
          0.1921775,
          0.14975875,
          0.1592875,
          0.1455375,
          0.19813125,
          0.1742475,
          0.1604425,
          0.1529075,
          0.1625325,
          0.1531275,
          0.19340125,
          0.14703625,
          0.18069625,
          0.16562625,
          0.28433,
          0.21658375,
          0.1897849999999999,
          0.1510925,
          0.17917,
          0.1569087499999999,
          0.1363387499999999,
          0.0805825,
          0.1821125,
          0.16733125,
          0.2112075,
          0.15171125,
          0.130825,
          0.1522475,
          0.1701225,
          0.17206125,
          0.16007125,
          0.15253625,
          0.1329699999999999,
          0.0861649999999999,
          0.17167625,
          0.2171887499999999,
          0.1777675,
          0.170425,
          0.17543,
          0.1377824999999999,
          0.1576374999999999,
          0.163275,
          0.15453,
          0.1324475,
          0.1955049999999999,
          0.1199625,
          0.1278825,
          0.2003725,
          0.2442075,
          0.20986,
          0.2487174999999999,
          0.2374425,
          0.1875025,
          0.14276,
          0.1325025,
          0.25815,
          0.21822,
          0.2136825,
          0.288785,
          0.240055,
          0.285595,
          0.14348875,
          0.124885,
          0.18456,
          0.1714975,
          0.1683075,
          0.1219974999999999,
          0.113005,
          0.24308,
          0.12247875,
          0.15211,
          0.1878325,
          0.22669,
          0.18324,
          0.1933325,
          0.101785,
          0.1197699999999999,
          0.1269199999999999,
          0.13022,
          0.0712599999999999,
          0.1260675,
          0.1290375,
          0.1365724999999999,
          0.089135,
          0.1168825,
          0.15839375,
          0.09500625,
          0.16097875,
          0.10988375,
          0.09282,
          0.10624,
          0.1683899999999999,
          0.1560425,
          0.12058125,
          0.122575,
          0.23813,
          0.23736,
          0.20293,
          0.20228375,
          0.18421625,
          0.223665,
          0.2398624999999999,
          0.20128,
          0.1869525,
          0.2381025,
          0.27590125,
          0.20128,
          0.1980625,
          0.28035625,
          0.28316125,
          0.316065,
          0.29534375,
          0.2964299999999999,
          0.35022,
          0.27383875,
          0.24323125,
          0.239395,
          0.29350125,
          0.29236,
          0.274595,
          0.3065775,
          0.30699,
          0.25478125,
          0.30628875,
          0.2936525,
          0.23197,
          0.21138625,
          0.314195,
          0.3188975,
          0.320245,
          0.3503025,
          0.33846375,
          0.4129475,
          0.2707725,
          0.29115,
          0.23109,
          0.3153775,
          0.24433125,
          0.29311625,
          0.2024625,
          0.2491575,
          0.26905375,
          0.34879,
          0.34593,
          0.2495975,
          0.29742,
          0.27460875,
          0.30873625,
          0.24380875,
          0.235985,
          0.19444625,
          0.22769375,
          0.242915,
          0.2260575,
          0.25463,
          0.2445925,
          0.317385,
          0.2762725,
          0.3054225,
          0.2565825,
          0.2480025,
          0.35693,
          0.25302125,
          0.2359575,
          0.2680774999999999,
          0.261945,
          0.2209975,
          0.2359575,
          0.245445,
          0.2357925,
          0.26409,
          0.23571,
          0.2497625,
          0.24050875,
          0.2625775,
          0.186925,
          0.2256725,
          0.205075,
          0.2057075,
          0.2269924999999999,
          0.20473125,
          0.21877,
          0.2381849999999999,
          0.2464625,
          0.2369475,
          0.2246825,
          0.2600475,
          0.2140675,
          0.2222075,
          0.23619125,
          0.2568575,
          0.3194475,
          0.2424474999999999,
          0.2399175,
          0.2513849999999999,
          0.35595375,
          0.137315,
          0.22823,
          0.2158275,
          0.24539,
          0.2442349999999999,
          0.2421725,
          0.2017749999999999,
          0.2296325,
          0.2290825,
          0.182085,
          0.23714,
          0.2603225,
          0.2420075,
          0.1719375,
          0.27595625,
          0.25023,
          0.216185,
          0.1630825,
          0.197375,
          0.207275,
          0.14384625,
          0.1938,
          0.2009225,
          0.21789,
          0.1867325,
          0.255565,
          0.2123075,
          0.2533375,
          0.1517525,
          0.2022425,
          0.2368925,
          0.17279,
          0.2547125,
          0.1607724999999999,
          0.2042775,
          0.2250675,
          0.256665,
          0.23071875,
          0.2443725,
          0.24669625,
          0.252925,
          0.23148875,
          0.1815075,
          0.257545,
          0.170095,
          0.30622,
          0.2759837499999999,
          0.25529,
          0.2960725,
          0.316285,
          0.2542999999999999,
          0.30556,
          0.3109225,
          0.26820125,
          0.2672799999999999,
          0.27735875,
          0.26022625,
          0.27499375,
          0.3837974999999999,
          0.419685,
          0.455985,
          0.4450125,
          0.407695,
          0.3916624999999999,
          0.39191,
          0.371615,
          0.4032125,
          0.3477174999999999,
          0.432335,
          0.42024875,
          0.45638375,
          0.41061,
          0.41543625,
          0.4475699999999999,
          0.440365,
          0.41083,
          0.451475,
          0.4225175,
          0.41743,
          0.41545,
          0.39994,
          0.4651424999999999,
          0.4156975,
          0.384485,
          0.3964749999999999,
          0.375355,
          0.38223,
          0.3563525,
          0.3796449999999999,
          0.3874,
          0.364245,
          0.448285,
          0.41974,
          0.49102,
          0.451695,
          0.41991875,
          0.5909550000000001,
          0.454995,
          0.3132324999999999,
          0.3999125,
          0.426835,
          0.40542625,
          0.3907,
          0.400875,
          0.4405024999999999,
          0.392625,
          0.446525,
          0.4518875,
          0.40592125,
          0.37803625,
          0.4037625,
          0.4322525,
          0.392185,
          0.36332375,
          0.37281125,
          0.38188625,
          0.3878675,
          0.3421625,
          0.3782425,
          0.40555,
          0.37794,
          0.382835,
          0.328605,
          0.3600374999999999,
          0.3990324999999999,
          0.386465,
          0.36005125,
          0.3921575,
          0.34091125,
          0.33537,
          0.3845125,
          0.39092,
          0.3833025,
          0.380525,
          0.3579475,
          0.3511,
          0.3819275,
          0.36137125,
          0.3900125,
          0.3627875,
          0.3218125,
          0.4261749999999999,
          0.3185125,
          0.3474974999999999,
          0.340375,
          0.336745,
          0.4131125,
          0.37492875,
          0.3973549999999999,
          0.37888875,
          0.35116875,
          0.3206575,
          0.384265,
          0.35592625,
          0.3522825,
          0.357865,
          0.38271125,
          0.360065,
          0.38158375,
          0.3335825,
          0.4416025,
          0.42434625,
          0.38766125,
          0.3573425,
          0.3878675,
          0.3762899999999999,
          0.4053575,
          0.39877125,
          0.4451775,
          0.435965,
          0.4627225,
          0.39368375,
          0.3908375,
          0.427165,
          0.3840175,
          0.4186125,
          0.38914625,
          0.44878,
          0.40962,
          0.334105,
          0.4557374999999999,
          0.30065125,
          0.25892,
          0.2555375,
          0.26121625,
          0.29181,
          0.3043225,
          0.3001149999999999,
          0.28466,
          0.3040474999999999,
          0.314525,
          0.3262675,
          0.2950825,
          0.27344,
          0.303415,
          0.28917,
          0.28345,
          0.2575725,
          0.3057249999999999,
          0.25595,
          0.31282,
          0.23945,
          0.242145,
          0.3010775,
          0.2648875,
          0.29275875,
          0.3076224999999999,
          0.3088325,
          0.307375,
          0.27507625,
          0.2939275,
          0.27969625,
          0.25474,
          0.30351125,
          0.30648125,
          0.34234125,
          0.30287875,
          0.30469375,
          0.31563875,
          0.32446625,
          0.3407325,
          0.3456275,
          0.2846875,
          0.31425,
          0.320355,
          0.2954125,
          0.31656,
          0.302205,
          0.246435,
          0.304075,
          0.24638,
          0.3148,
          0.3033325,
          0.2653275,
          0.2463525,
          0.3269275,
          0.3512925,
          0.275695,
          0.322115,
          0.30424,
          0.30765,
          0.31106,
          0.31481375,
          0.2760249999999999,
          0.3070175,
          0.29974375,
          0.3183475,
          0.290545,
          0.35309375,
          0.334215,
          0.246105,
          0.2288349999999999,
          0.2230875,
          0.27487,
          0.2024625,
          0.24097625,
          0.25706375,
          0.235215,
          0.24941875,
          0.2686275,
          0.29982625,
          0.25991,
          0.1806825,
          0.203425,
          0.13484,
          0.2466825,
          0.239725,
          0.25617,
          0.248965,
          0.245445,
          0.09744,
          0.2359575,
          0.20733,
          0.2356275,
          0.2078249999999999,
          0.22944,
          0.256225,
          0.2420075,
          0.1933325,
          0.2526775,
          0.2475075,
          0.2075775,
          0.3028099999999999,
          0.28587,
          0.2363425,
          0.22416,
          0.25782,
          0.2579575,
          0.2291375,
          0.2291925,
          0.23327625,
          0.209035,
          0.1939374999999999,
          0.1557675,
          0.1132799999999999,
          0.109045,
          0.218,
          0.0077075,
          0.0083399999999999,
          0.0100999999999999,
          0.009605,
          0.0085599999999999,
          0.0085324999999999,
          0.009715,
          0.0088074999999999,
          0.00933,
          0.0091374999999999,
          0.0114199999999999,
          0.0120524999999999,
          0.0136199999999999,
          0.01520125,
          0.0176899999999999,
          0.0143899999999999,
          0.0141425,
          0.014775,
          0.0120524999999999,
          0.0079275,
          0.0121624999999999,
          0.0112275,
          0.00966,
          0.0090824999999999,
          0.0089999999999999,
          0.0053562499999999,
          0.0054524999999999,
          0.00988,
          0.0080099999999999,
          0.0102099999999999,
          0.0054799999999999,
          0.006195,
          0.0064837499999999,
          0.01646625,
          0.0148849999999999,
          0.0098525,
          0.0103199999999999,
          0.0735425,
          0.0070749999999999,
          0.009825,
          0.0093299999999999
         ],
         "yaxis": "y"
        }
       ],
       "layout": {
        "coloraxis": {
         "colorbar": {
          "title": {
           "text": "id_clase"
          }
         },
         "colorscale": [
          [
           0,
           "#0d0887"
          ],
          [
           0.1111111111111111,
           "#46039f"
          ],
          [
           0.2222222222222222,
           "#7201a8"
          ],
          [
           0.3333333333333333,
           "#9c179e"
          ],
          [
           0.4444444444444444,
           "#bd3786"
          ],
          [
           0.5555555555555556,
           "#d8576b"
          ],
          [
           0.6666666666666666,
           "#ed7953"
          ],
          [
           0.7777777777777778,
           "#fb9f3a"
          ],
          [
           0.8888888888888888,
           "#fdca26"
          ],
          [
           1,
           "#f0f921"
          ]
         ]
        },
        "legend": {
         "tracegroupgap": 0
        },
        "margin": {
         "t": 60
        },
        "template": {
         "data": {
          "bar": [
           {
            "error_x": {
             "color": "#2a3f5f"
            },
            "error_y": {
             "color": "#2a3f5f"
            },
            "marker": {
             "line": {
              "color": "#E5ECF6",
              "width": 0.5
             },
             "pattern": {
              "fillmode": "overlay",
              "size": 10,
              "solidity": 0.2
             }
            },
            "type": "bar"
           }
          ],
          "barpolar": [
           {
            "marker": {
             "line": {
              "color": "#E5ECF6",
              "width": 0.5
             },
             "pattern": {
              "fillmode": "overlay",
              "size": 10,
              "solidity": 0.2
             }
            },
            "type": "barpolar"
           }
          ],
          "carpet": [
           {
            "aaxis": {
             "endlinecolor": "#2a3f5f",
             "gridcolor": "white",
             "linecolor": "white",
             "minorgridcolor": "white",
             "startlinecolor": "#2a3f5f"
            },
            "baxis": {
             "endlinecolor": "#2a3f5f",
             "gridcolor": "white",
             "linecolor": "white",
             "minorgridcolor": "white",
             "startlinecolor": "#2a3f5f"
            },
            "type": "carpet"
           }
          ],
          "choropleth": [
           {
            "colorbar": {
             "outlinewidth": 0,
             "ticks": ""
            },
            "type": "choropleth"
           }
          ],
          "contour": [
           {
            "colorbar": {
             "outlinewidth": 0,
             "ticks": ""
            },
            "colorscale": [
             [
              0,
              "#0d0887"
             ],
             [
              0.1111111111111111,
              "#46039f"
             ],
             [
              0.2222222222222222,
              "#7201a8"
             ],
             [
              0.3333333333333333,
              "#9c179e"
             ],
             [
              0.4444444444444444,
              "#bd3786"
             ],
             [
              0.5555555555555556,
              "#d8576b"
             ],
             [
              0.6666666666666666,
              "#ed7953"
             ],
             [
              0.7777777777777778,
              "#fb9f3a"
             ],
             [
              0.8888888888888888,
              "#fdca26"
             ],
             [
              1,
              "#f0f921"
             ]
            ],
            "type": "contour"
           }
          ],
          "contourcarpet": [
           {
            "colorbar": {
             "outlinewidth": 0,
             "ticks": ""
            },
            "type": "contourcarpet"
           }
          ],
          "heatmap": [
           {
            "colorbar": {
             "outlinewidth": 0,
             "ticks": ""
            },
            "colorscale": [
             [
              0,
              "#0d0887"
             ],
             [
              0.1111111111111111,
              "#46039f"
             ],
             [
              0.2222222222222222,
              "#7201a8"
             ],
             [
              0.3333333333333333,
              "#9c179e"
             ],
             [
              0.4444444444444444,
              "#bd3786"
             ],
             [
              0.5555555555555556,
              "#d8576b"
             ],
             [
              0.6666666666666666,
              "#ed7953"
             ],
             [
              0.7777777777777778,
              "#fb9f3a"
             ],
             [
              0.8888888888888888,
              "#fdca26"
             ],
             [
              1,
              "#f0f921"
             ]
            ],
            "type": "heatmap"
           }
          ],
          "heatmapgl": [
           {
            "colorbar": {
             "outlinewidth": 0,
             "ticks": ""
            },
            "colorscale": [
             [
              0,
              "#0d0887"
             ],
             [
              0.1111111111111111,
              "#46039f"
             ],
             [
              0.2222222222222222,
              "#7201a8"
             ],
             [
              0.3333333333333333,
              "#9c179e"
             ],
             [
              0.4444444444444444,
              "#bd3786"
             ],
             [
              0.5555555555555556,
              "#d8576b"
             ],
             [
              0.6666666666666666,
              "#ed7953"
             ],
             [
              0.7777777777777778,
              "#fb9f3a"
             ],
             [
              0.8888888888888888,
              "#fdca26"
             ],
             [
              1,
              "#f0f921"
             ]
            ],
            "type": "heatmapgl"
           }
          ],
          "histogram": [
           {
            "marker": {
             "pattern": {
              "fillmode": "overlay",
              "size": 10,
              "solidity": 0.2
             }
            },
            "type": "histogram"
           }
          ],
          "histogram2d": [
           {
            "colorbar": {
             "outlinewidth": 0,
             "ticks": ""
            },
            "colorscale": [
             [
              0,
              "#0d0887"
             ],
             [
              0.1111111111111111,
              "#46039f"
             ],
             [
              0.2222222222222222,
              "#7201a8"
             ],
             [
              0.3333333333333333,
              "#9c179e"
             ],
             [
              0.4444444444444444,
              "#bd3786"
             ],
             [
              0.5555555555555556,
              "#d8576b"
             ],
             [
              0.6666666666666666,
              "#ed7953"
             ],
             [
              0.7777777777777778,
              "#fb9f3a"
             ],
             [
              0.8888888888888888,
              "#fdca26"
             ],
             [
              1,
              "#f0f921"
             ]
            ],
            "type": "histogram2d"
           }
          ],
          "histogram2dcontour": [
           {
            "colorbar": {
             "outlinewidth": 0,
             "ticks": ""
            },
            "colorscale": [
             [
              0,
              "#0d0887"
             ],
             [
              0.1111111111111111,
              "#46039f"
             ],
             [
              0.2222222222222222,
              "#7201a8"
             ],
             [
              0.3333333333333333,
              "#9c179e"
             ],
             [
              0.4444444444444444,
              "#bd3786"
             ],
             [
              0.5555555555555556,
              "#d8576b"
             ],
             [
              0.6666666666666666,
              "#ed7953"
             ],
             [
              0.7777777777777778,
              "#fb9f3a"
             ],
             [
              0.8888888888888888,
              "#fdca26"
             ],
             [
              1,
              "#f0f921"
             ]
            ],
            "type": "histogram2dcontour"
           }
          ],
          "mesh3d": [
           {
            "colorbar": {
             "outlinewidth": 0,
             "ticks": ""
            },
            "type": "mesh3d"
           }
          ],
          "parcoords": [
           {
            "line": {
             "colorbar": {
              "outlinewidth": 0,
              "ticks": ""
             }
            },
            "type": "parcoords"
           }
          ],
          "pie": [
           {
            "automargin": true,
            "type": "pie"
           }
          ],
          "scatter": [
           {
            "fillpattern": {
             "fillmode": "overlay",
             "size": 10,
             "solidity": 0.2
            },
            "type": "scatter"
           }
          ],
          "scatter3d": [
           {
            "line": {
             "colorbar": {
              "outlinewidth": 0,
              "ticks": ""
             }
            },
            "marker": {
             "colorbar": {
              "outlinewidth": 0,
              "ticks": ""
             }
            },
            "type": "scatter3d"
           }
          ],
          "scattercarpet": [
           {
            "marker": {
             "colorbar": {
              "outlinewidth": 0,
              "ticks": ""
             }
            },
            "type": "scattercarpet"
           }
          ],
          "scattergeo": [
           {
            "marker": {
             "colorbar": {
              "outlinewidth": 0,
              "ticks": ""
             }
            },
            "type": "scattergeo"
           }
          ],
          "scattergl": [
           {
            "marker": {
             "colorbar": {
              "outlinewidth": 0,
              "ticks": ""
             }
            },
            "type": "scattergl"
           }
          ],
          "scattermapbox": [
           {
            "marker": {
             "colorbar": {
              "outlinewidth": 0,
              "ticks": ""
             }
            },
            "type": "scattermapbox"
           }
          ],
          "scatterpolar": [
           {
            "marker": {
             "colorbar": {
              "outlinewidth": 0,
              "ticks": ""
             }
            },
            "type": "scatterpolar"
           }
          ],
          "scatterpolargl": [
           {
            "marker": {
             "colorbar": {
              "outlinewidth": 0,
              "ticks": ""
             }
            },
            "type": "scatterpolargl"
           }
          ],
          "scatterternary": [
           {
            "marker": {
             "colorbar": {
              "outlinewidth": 0,
              "ticks": ""
             }
            },
            "type": "scatterternary"
           }
          ],
          "surface": [
           {
            "colorbar": {
             "outlinewidth": 0,
             "ticks": ""
            },
            "colorscale": [
             [
              0,
              "#0d0887"
             ],
             [
              0.1111111111111111,
              "#46039f"
             ],
             [
              0.2222222222222222,
              "#7201a8"
             ],
             [
              0.3333333333333333,
              "#9c179e"
             ],
             [
              0.4444444444444444,
              "#bd3786"
             ],
             [
              0.5555555555555556,
              "#d8576b"
             ],
             [
              0.6666666666666666,
              "#ed7953"
             ],
             [
              0.7777777777777778,
              "#fb9f3a"
             ],
             [
              0.8888888888888888,
              "#fdca26"
             ],
             [
              1,
              "#f0f921"
             ]
            ],
            "type": "surface"
           }
          ],
          "table": [
           {
            "cells": {
             "fill": {
              "color": "#EBF0F8"
             },
             "line": {
              "color": "white"
             }
            },
            "header": {
             "fill": {
              "color": "#C8D4E3"
             },
             "line": {
              "color": "white"
             }
            },
            "type": "table"
           }
          ]
         },
         "layout": {
          "annotationdefaults": {
           "arrowcolor": "#2a3f5f",
           "arrowhead": 0,
           "arrowwidth": 1
          },
          "autotypenumbers": "strict",
          "coloraxis": {
           "colorbar": {
            "outlinewidth": 0,
            "ticks": ""
           }
          },
          "colorscale": {
           "diverging": [
            [
             0,
             "#8e0152"
            ],
            [
             0.1,
             "#c51b7d"
            ],
            [
             0.2,
             "#de77ae"
            ],
            [
             0.3,
             "#f1b6da"
            ],
            [
             0.4,
             "#fde0ef"
            ],
            [
             0.5,
             "#f7f7f7"
            ],
            [
             0.6,
             "#e6f5d0"
            ],
            [
             0.7,
             "#b8e186"
            ],
            [
             0.8,
             "#7fbc41"
            ],
            [
             0.9,
             "#4d9221"
            ],
            [
             1,
             "#276419"
            ]
           ],
           "sequential": [
            [
             0,
             "#0d0887"
            ],
            [
             0.1111111111111111,
             "#46039f"
            ],
            [
             0.2222222222222222,
             "#7201a8"
            ],
            [
             0.3333333333333333,
             "#9c179e"
            ],
            [
             0.4444444444444444,
             "#bd3786"
            ],
            [
             0.5555555555555556,
             "#d8576b"
            ],
            [
             0.6666666666666666,
             "#ed7953"
            ],
            [
             0.7777777777777778,
             "#fb9f3a"
            ],
            [
             0.8888888888888888,
             "#fdca26"
            ],
            [
             1,
             "#f0f921"
            ]
           ],
           "sequentialminus": [
            [
             0,
             "#0d0887"
            ],
            [
             0.1111111111111111,
             "#46039f"
            ],
            [
             0.2222222222222222,
             "#7201a8"
            ],
            [
             0.3333333333333333,
             "#9c179e"
            ],
            [
             0.4444444444444444,
             "#bd3786"
            ],
            [
             0.5555555555555556,
             "#d8576b"
            ],
            [
             0.6666666666666666,
             "#ed7953"
            ],
            [
             0.7777777777777778,
             "#fb9f3a"
            ],
            [
             0.8888888888888888,
             "#fdca26"
            ],
            [
             1,
             "#f0f921"
            ]
           ]
          },
          "colorway": [
           "#636efa",
           "#EF553B",
           "#00cc96",
           "#ab63fa",
           "#FFA15A",
           "#19d3f3",
           "#FF6692",
           "#B6E880",
           "#FF97FF",
           "#FECB52"
          ],
          "font": {
           "color": "#2a3f5f"
          },
          "geo": {
           "bgcolor": "white",
           "lakecolor": "white",
           "landcolor": "#E5ECF6",
           "showlakes": true,
           "showland": true,
           "subunitcolor": "white"
          },
          "hoverlabel": {
           "align": "left"
          },
          "hovermode": "closest",
          "mapbox": {
           "style": "light"
          },
          "paper_bgcolor": "white",
          "plot_bgcolor": "#E5ECF6",
          "polar": {
           "angularaxis": {
            "gridcolor": "white",
            "linecolor": "white",
            "ticks": ""
           },
           "bgcolor": "#E5ECF6",
           "radialaxis": {
            "gridcolor": "white",
            "linecolor": "white",
            "ticks": ""
           }
          },
          "scene": {
           "xaxis": {
            "backgroundcolor": "#E5ECF6",
            "gridcolor": "white",
            "gridwidth": 2,
            "linecolor": "white",
            "showbackground": true,
            "ticks": "",
            "zerolinecolor": "white"
           },
           "yaxis": {
            "backgroundcolor": "#E5ECF6",
            "gridcolor": "white",
            "gridwidth": 2,
            "linecolor": "white",
            "showbackground": true,
            "ticks": "",
            "zerolinecolor": "white"
           },
           "zaxis": {
            "backgroundcolor": "#E5ECF6",
            "gridcolor": "white",
            "gridwidth": 2,
            "linecolor": "white",
            "showbackground": true,
            "ticks": "",
            "zerolinecolor": "white"
           }
          },
          "shapedefaults": {
           "line": {
            "color": "#2a3f5f"
           }
          },
          "ternary": {
           "aaxis": {
            "gridcolor": "white",
            "linecolor": "white",
            "ticks": ""
           },
           "baxis": {
            "gridcolor": "white",
            "linecolor": "white",
            "ticks": ""
           },
           "bgcolor": "#E5ECF6",
           "caxis": {
            "gridcolor": "white",
            "linecolor": "white",
            "ticks": ""
           }
          },
          "title": {
           "x": 0.05
          },
          "xaxis": {
           "automargin": true,
           "gridcolor": "white",
           "linecolor": "white",
           "ticks": "",
           "title": {
            "standoff": 15
           },
           "zerolinecolor": "white",
           "zerolinewidth": 2
          },
          "yaxis": {
           "automargin": true,
           "gridcolor": "white",
           "linecolor": "white",
           "ticks": "",
           "title": {
            "standoff": 15
           },
           "zerolinecolor": "white",
           "zerolinewidth": 2
          }
         }
        },
        "xaxis": {
         "anchor": "y",
         "domain": [
          0,
          1
         ],
         "title": {
          "text": "B1"
         }
        },
        "yaxis": {
         "anchor": "x",
         "domain": [
          0,
          1
         ],
         "title": {
          "text": "B5"
         }
        }
       }
      }
     },
     "metadata": {},
     "output_type": "display_data"
    }
   ],
   "source": [
    "# Seria interesante poder saber el indice del punto para poder ubicarlo en el mapa.\n",
    "# Con reset index hemos añadido el index de los puntos para poder indentificarlos.\n",
    "\n",
    "px.scatter(sitios, x = \"B1\", y = \"B5\", color = \"id_clase\", hover_data =['index'])"
   ]
  },
  {
   "cell_type": "code",
   "execution_count": 61,
   "metadata": {},
   "outputs": [
    {
     "data": {
      "application/vnd.plotly.v1+json": {
       "config": {
        "plotlyServerURL": "https://plot.ly"
       },
       "data": [
        {
         "customdata": [
          [
           0
          ],
          [
           1
          ],
          [
           2
          ],
          [
           3
          ],
          [
           4
          ],
          [
           5
          ],
          [
           6
          ],
          [
           7
          ],
          [
           8
          ],
          [
           9
          ],
          [
           10
          ],
          [
           11
          ],
          [
           12
          ],
          [
           13
          ],
          [
           14
          ],
          [
           15
          ],
          [
           16
          ],
          [
           17
          ],
          [
           18
          ],
          [
           19
          ],
          [
           20
          ],
          [
           21
          ],
          [
           22
          ],
          [
           23
          ],
          [
           24
          ],
          [
           25
          ],
          [
           26
          ],
          [
           27
          ],
          [
           28
          ],
          [
           29
          ],
          [
           30
          ],
          [
           31
          ],
          [
           32
          ],
          [
           33
          ],
          [
           34
          ],
          [
           35
          ],
          [
           36
          ],
          [
           37
          ],
          [
           38
          ],
          [
           39
          ],
          [
           40
          ],
          [
           41
          ],
          [
           42
          ],
          [
           43
          ],
          [
           44
          ],
          [
           45
          ],
          [
           46
          ],
          [
           47
          ],
          [
           48
          ],
          [
           49
          ],
          [
           50
          ],
          [
           51
          ],
          [
           52
          ],
          [
           53
          ],
          [
           54
          ],
          [
           55
          ],
          [
           56
          ],
          [
           57
          ],
          [
           58
          ],
          [
           59
          ],
          [
           60
          ],
          [
           61
          ],
          [
           62
          ],
          [
           63
          ],
          [
           64
          ],
          [
           65
          ],
          [
           66
          ],
          [
           67
          ],
          [
           68
          ],
          [
           69
          ],
          [
           70
          ],
          [
           71
          ],
          [
           72
          ],
          [
           73
          ],
          [
           74
          ],
          [
           75
          ],
          [
           76
          ],
          [
           77
          ],
          [
           78
          ],
          [
           79
          ],
          [
           80
          ],
          [
           81
          ],
          [
           82
          ],
          [
           83
          ],
          [
           84
          ],
          [
           85
          ],
          [
           86
          ],
          [
           87
          ],
          [
           88
          ],
          [
           89
          ],
          [
           90
          ],
          [
           91
          ],
          [
           92
          ],
          [
           93
          ],
          [
           94
          ],
          [
           95
          ],
          [
           96
          ],
          [
           97
          ],
          [
           98
          ],
          [
           99
          ],
          [
           100
          ],
          [
           101
          ],
          [
           102
          ],
          [
           103
          ],
          [
           104
          ],
          [
           105
          ],
          [
           106
          ],
          [
           107
          ],
          [
           108
          ],
          [
           109
          ],
          [
           110
          ],
          [
           111
          ],
          [
           112
          ],
          [
           113
          ],
          [
           114
          ],
          [
           115
          ],
          [
           116
          ],
          [
           117
          ],
          [
           118
          ],
          [
           119
          ],
          [
           120
          ],
          [
           121
          ],
          [
           122
          ],
          [
           123
          ],
          [
           124
          ],
          [
           125
          ],
          [
           126
          ],
          [
           127
          ],
          [
           128
          ],
          [
           129
          ],
          [
           130
          ],
          [
           131
          ],
          [
           132
          ],
          [
           133
          ],
          [
           134
          ],
          [
           135
          ],
          [
           136
          ],
          [
           137
          ],
          [
           138
          ],
          [
           139
          ],
          [
           140
          ],
          [
           141
          ],
          [
           142
          ],
          [
           143
          ],
          [
           144
          ],
          [
           145
          ],
          [
           146
          ],
          [
           147
          ],
          [
           148
          ],
          [
           149
          ],
          [
           150
          ],
          [
           151
          ],
          [
           152
          ],
          [
           153
          ],
          [
           154
          ],
          [
           155
          ],
          [
           156
          ],
          [
           157
          ],
          [
           158
          ],
          [
           159
          ],
          [
           160
          ],
          [
           161
          ],
          [
           162
          ],
          [
           163
          ],
          [
           164
          ],
          [
           165
          ],
          [
           166
          ],
          [
           167
          ],
          [
           168
          ],
          [
           169
          ],
          [
           170
          ],
          [
           171
          ],
          [
           172
          ],
          [
           173
          ],
          [
           174
          ],
          [
           175
          ],
          [
           176
          ],
          [
           177
          ],
          [
           178
          ],
          [
           179
          ],
          [
           180
          ],
          [
           181
          ],
          [
           182
          ],
          [
           183
          ],
          [
           184
          ],
          [
           185
          ],
          [
           186
          ],
          [
           187
          ],
          [
           188
          ],
          [
           189
          ],
          [
           190
          ],
          [
           191
          ],
          [
           192
          ],
          [
           193
          ],
          [
           194
          ],
          [
           195
          ],
          [
           196
          ],
          [
           197
          ],
          [
           198
          ],
          [
           199
          ],
          [
           200
          ],
          [
           201
          ],
          [
           202
          ],
          [
           203
          ],
          [
           204
          ],
          [
           205
          ],
          [
           206
          ],
          [
           207
          ],
          [
           208
          ],
          [
           209
          ],
          [
           210
          ],
          [
           211
          ],
          [
           212
          ],
          [
           213
          ],
          [
           214
          ],
          [
           215
          ],
          [
           216
          ],
          [
           217
          ],
          [
           218
          ],
          [
           219
          ],
          [
           220
          ],
          [
           221
          ],
          [
           222
          ],
          [
           223
          ],
          [
           224
          ],
          [
           225
          ],
          [
           226
          ],
          [
           227
          ],
          [
           228
          ],
          [
           229
          ],
          [
           230
          ],
          [
           231
          ],
          [
           232
          ],
          [
           233
          ],
          [
           234
          ],
          [
           235
          ],
          [
           236
          ],
          [
           237
          ],
          [
           238
          ],
          [
           239
          ],
          [
           240
          ],
          [
           241
          ],
          [
           242
          ],
          [
           243
          ],
          [
           244
          ],
          [
           245
          ],
          [
           246
          ],
          [
           247
          ],
          [
           248
          ],
          [
           249
          ],
          [
           250
          ],
          [
           251
          ],
          [
           252
          ],
          [
           253
          ],
          [
           254
          ],
          [
           255
          ],
          [
           256
          ],
          [
           257
          ],
          [
           258
          ],
          [
           259
          ],
          [
           260
          ],
          [
           262
          ],
          [
           263
          ],
          [
           264
          ],
          [
           265
          ],
          [
           266
          ],
          [
           267
          ],
          [
           268
          ],
          [
           269
          ],
          [
           270
          ],
          [
           271
          ],
          [
           272
          ],
          [
           273
          ],
          [
           274
          ],
          [
           275
          ],
          [
           276
          ],
          [
           277
          ],
          [
           278
          ],
          [
           279
          ],
          [
           280
          ],
          [
           281
          ],
          [
           282
          ],
          [
           283
          ],
          [
           284
          ],
          [
           285
          ],
          [
           286
          ],
          [
           287
          ],
          [
           288
          ],
          [
           289
          ],
          [
           290
          ],
          [
           291
          ],
          [
           292
          ],
          [
           293
          ],
          [
           294
          ],
          [
           295
          ],
          [
           296
          ],
          [
           297
          ],
          [
           298
          ],
          [
           299
          ],
          [
           300
          ],
          [
           301
          ],
          [
           302
          ],
          [
           303
          ],
          [
           304
          ],
          [
           305
          ],
          [
           306
          ],
          [
           307
          ],
          [
           308
          ],
          [
           309
          ],
          [
           310
          ],
          [
           311
          ],
          [
           312
          ],
          [
           313
          ],
          [
           314
          ],
          [
           315
          ],
          [
           316
          ],
          [
           317
          ],
          [
           318
          ],
          [
           319
          ],
          [
           320
          ],
          [
           321
          ],
          [
           322
          ],
          [
           323
          ],
          [
           324
          ],
          [
           325
          ],
          [
           326
          ],
          [
           327
          ],
          [
           328
          ],
          [
           329
          ],
          [
           330
          ],
          [
           331
          ],
          [
           332
          ],
          [
           333
          ],
          [
           334
          ],
          [
           335
          ],
          [
           336
          ],
          [
           337
          ],
          [
           338
          ],
          [
           339
          ],
          [
           340
          ],
          [
           341
          ],
          [
           342
          ],
          [
           343
          ],
          [
           344
          ],
          [
           345
          ],
          [
           346
          ],
          [
           347
          ],
          [
           348
          ],
          [
           349
          ],
          [
           350
          ],
          [
           351
          ],
          [
           352
          ],
          [
           353
          ],
          [
           354
          ],
          [
           355
          ],
          [
           356
          ],
          [
           357
          ],
          [
           358
          ],
          [
           359
          ],
          [
           360
          ],
          [
           361
          ],
          [
           362
          ],
          [
           363
          ],
          [
           364
          ],
          [
           365
          ],
          [
           366
          ],
          [
           367
          ],
          [
           368
          ],
          [
           369
          ],
          [
           370
          ],
          [
           371
          ],
          [
           372
          ],
          [
           373
          ],
          [
           374
          ],
          [
           375
          ],
          [
           376
          ],
          [
           377
          ],
          [
           378
          ],
          [
           379
          ],
          [
           380
          ],
          [
           381
          ],
          [
           382
          ],
          [
           383
          ],
          [
           384
          ],
          [
           385
          ],
          [
           386
          ],
          [
           387
          ],
          [
           388
          ],
          [
           389
          ],
          [
           390
          ],
          [
           391
          ],
          [
           392
          ],
          [
           393
          ],
          [
           394
          ],
          [
           395
          ],
          [
           396
          ],
          [
           397
          ],
          [
           398
          ],
          [
           399
          ],
          [
           400
          ],
          [
           401
          ],
          [
           402
          ],
          [
           403
          ],
          [
           404
          ],
          [
           405
          ],
          [
           406
          ],
          [
           407
          ],
          [
           408
          ],
          [
           409
          ],
          [
           410
          ],
          [
           411
          ],
          [
           412
          ],
          [
           413
          ],
          [
           414
          ],
          [
           415
          ],
          [
           416
          ],
          [
           417
          ],
          [
           418
          ],
          [
           419
          ],
          [
           420
          ],
          [
           421
          ],
          [
           422
          ],
          [
           423
          ],
          [
           424
          ],
          [
           425
          ],
          [
           426
          ],
          [
           427
          ],
          [
           428
          ],
          [
           429
          ],
          [
           430
          ],
          [
           431
          ],
          [
           432
          ],
          [
           433
          ],
          [
           434
          ],
          [
           435
          ],
          [
           436
          ],
          [
           437
          ],
          [
           438
          ],
          [
           439
          ],
          [
           440
          ],
          [
           441
          ],
          [
           442
          ],
          [
           443
          ],
          [
           444
          ],
          [
           445
          ],
          [
           446
          ],
          [
           447
          ],
          [
           448
          ],
          [
           449
          ],
          [
           450
          ],
          [
           451
          ],
          [
           452
          ],
          [
           453
          ],
          [
           454
          ],
          [
           455
          ],
          [
           456
          ],
          [
           457
          ],
          [
           458
          ],
          [
           459
          ],
          [
           460
          ],
          [
           461
          ],
          [
           462
          ],
          [
           463
          ],
          [
           464
          ],
          [
           465
          ],
          [
           466
          ],
          [
           467
          ],
          [
           468
          ],
          [
           469
          ],
          [
           470
          ],
          [
           471
          ],
          [
           472
          ],
          [
           473
          ],
          [
           474
          ],
          [
           475
          ],
          [
           476
          ],
          [
           477
          ],
          [
           478
          ],
          [
           479
          ],
          [
           480
          ],
          [
           481
          ],
          [
           482
          ],
          [
           483
          ],
          [
           484
          ],
          [
           485
          ],
          [
           486
          ],
          [
           487
          ],
          [
           488
          ],
          [
           489
          ],
          [
           490
          ],
          [
           491
          ],
          [
           492
          ],
          [
           493
          ],
          [
           494
          ],
          [
           495
          ],
          [
           496
          ],
          [
           497
          ],
          [
           498
          ],
          [
           499
          ],
          [
           500
          ],
          [
           501
          ],
          [
           502
          ],
          [
           503
          ],
          [
           504
          ],
          [
           505
          ],
          [
           506
          ],
          [
           507
          ],
          [
           508
          ],
          [
           509
          ],
          [
           510
          ],
          [
           511
          ],
          [
           512
          ],
          [
           513
          ],
          [
           514
          ],
          [
           515
          ],
          [
           516
          ],
          [
           517
          ],
          [
           518
          ],
          [
           519
          ],
          [
           520
          ],
          [
           521
          ],
          [
           522
          ],
          [
           523
          ],
          [
           524
          ],
          [
           525
          ],
          [
           526
          ],
          [
           527
          ],
          [
           528
          ],
          [
           529
          ],
          [
           530
          ],
          [
           531
          ],
          [
           532
          ],
          [
           533
          ],
          [
           534
          ],
          [
           535
          ],
          [
           536
          ],
          [
           537
          ],
          [
           538
          ],
          [
           539
          ],
          [
           540
          ],
          [
           541
          ],
          [
           542
          ],
          [
           543
          ],
          [
           544
          ],
          [
           545
          ],
          [
           546
          ],
          [
           547
          ],
          [
           548
          ],
          [
           549
          ],
          [
           550
          ],
          [
           551
          ],
          [
           552
          ],
          [
           553
          ],
          [
           554
          ],
          [
           555
          ],
          [
           556
          ],
          [
           557
          ],
          [
           558
          ],
          [
           559
          ],
          [
           560
          ],
          [
           561
          ],
          [
           562
          ],
          [
           563
          ],
          [
           564
          ],
          [
           565
          ],
          [
           566
          ],
          [
           567
          ],
          [
           568
          ],
          [
           569
          ],
          [
           570
          ],
          [
           571
          ],
          [
           573
          ],
          [
           574
          ],
          [
           575
          ],
          [
           576
          ],
          [
           577
          ],
          [
           578
          ],
          [
           579
          ],
          [
           580
          ],
          [
           581
          ],
          [
           582
          ],
          [
           583
          ],
          [
           584
          ],
          [
           585
          ],
          [
           586
          ],
          [
           587
          ],
          [
           588
          ],
          [
           589
          ],
          [
           590
          ],
          [
           591
          ],
          [
           592
          ],
          [
           593
          ],
          [
           594
          ],
          [
           595
          ],
          [
           596
          ],
          [
           597
          ],
          [
           598
          ],
          [
           599
          ],
          [
           600
          ],
          [
           601
          ],
          [
           602
          ],
          [
           603
          ],
          [
           604
          ],
          [
           605
          ],
          [
           606
          ],
          [
           607
          ],
          [
           608
          ],
          [
           609
          ],
          [
           610
          ],
          [
           611
          ],
          [
           612
          ],
          [
           613
          ],
          [
           614
          ],
          [
           615
          ],
          [
           616
          ],
          [
           617
          ],
          [
           618
          ],
          [
           619
          ],
          [
           620
          ],
          [
           621
          ],
          [
           622
          ],
          [
           623
          ],
          [
           624
          ],
          [
           625
          ],
          [
           626
          ],
          [
           627
          ],
          [
           628
          ],
          [
           629
          ],
          [
           630
          ],
          [
           631
          ],
          [
           632
          ],
          [
           633
          ],
          [
           634
          ],
          [
           635
          ],
          [
           636
          ],
          [
           637
          ],
          [
           638
          ],
          [
           639
          ],
          [
           640
          ],
          [
           641
          ],
          [
           642
          ],
          [
           643
          ],
          [
           644
          ],
          [
           645
          ],
          [
           646
          ],
          [
           647
          ],
          [
           648
          ],
          [
           649
          ],
          [
           650
          ],
          [
           651
          ],
          [
           652
          ],
          [
           653
          ],
          [
           654
          ],
          [
           655
          ],
          [
           656
          ],
          [
           657
          ],
          [
           658
          ],
          [
           659
          ],
          [
           660
          ],
          [
           661
          ],
          [
           662
          ],
          [
           663
          ],
          [
           664
          ],
          [
           665
          ],
          [
           666
          ],
          [
           667
          ],
          [
           668
          ],
          [
           669
          ],
          [
           670
          ],
          [
           671
          ],
          [
           672
          ],
          [
           673
          ],
          [
           674
          ],
          [
           675
          ],
          [
           676
          ],
          [
           677
          ],
          [
           678
          ],
          [
           679
          ],
          [
           680
          ],
          [
           681
          ],
          [
           682
          ],
          [
           683
          ],
          [
           684
          ],
          [
           685
          ],
          [
           686
          ],
          [
           687
          ],
          [
           688
          ]
         ],
         "hovertemplate": "B7=%{x}<br>B4=%{y}<br>B5=%{z}<br>index=%{customdata[0]}<br>id_clase=%{marker.color}<extra></extra>",
         "legendgroup": "",
         "marker": {
          "color": [
           1,
           1,
           1,
           1,
           1,
           1,
           1,
           1,
           1,
           1,
           1,
           1,
           1,
           1,
           1,
           1,
           1,
           1,
           1,
           1,
           1,
           1,
           1,
           1,
           1,
           1,
           1,
           1,
           1,
           1,
           1,
           1,
           1,
           1,
           1,
           1,
           1,
           1,
           1,
           1,
           1,
           1,
           1,
           1,
           2,
           2,
           2,
           2,
           2,
           2,
           2,
           2,
           2,
           2,
           2,
           2,
           3,
           3,
           3,
           3,
           3,
           3,
           3,
           3,
           3,
           3,
           3,
           3,
           3,
           3,
           3,
           3,
           3,
           3,
           3,
           3,
           3,
           3,
           3,
           4,
           4,
           4,
           4,
           4,
           4,
           4,
           4,
           4,
           4,
           4,
           4,
           4,
           4,
           4,
           2,
           2,
           2,
           2,
           2,
           2,
           2,
           1,
           1,
           1,
           1,
           1,
           1,
           1,
           1,
           1,
           1,
           1,
           1,
           1,
           1,
           1,
           1,
           1,
           1,
           1,
           1,
           1,
           1,
           1,
           1,
           1,
           1,
           1,
           1,
           1,
           1,
           1,
           1,
           1,
           1,
           1,
           1,
           1,
           1,
           1,
           1,
           1,
           1,
           1,
           1,
           1,
           1,
           1,
           1,
           1,
           1,
           1,
           1,
           1,
           1,
           1,
           1,
           1,
           1,
           1,
           1,
           1,
           1,
           1,
           1,
           1,
           1,
           1,
           1,
           1,
           1,
           1,
           1,
           1,
           1,
           1,
           1,
           1,
           1,
           1,
           1,
           1,
           1,
           1,
           1,
           1,
           1,
           1,
           1,
           1,
           1,
           1,
           1,
           1,
           1,
           1,
           1,
           1,
           1,
           1,
           1,
           1,
           1,
           1,
           1,
           1,
           1,
           1,
           1,
           1,
           1,
           1,
           1,
           1,
           1,
           1,
           1,
           1,
           1,
           1,
           1,
           1,
           1,
           1,
           1,
           1,
           1,
           1,
           1,
           1,
           1,
           1,
           1,
           1,
           1,
           1,
           1,
           1,
           1,
           1,
           1,
           1,
           1,
           1,
           1,
           1,
           1,
           1,
           1,
           2,
           2,
           2,
           2,
           2,
           2,
           2,
           2,
           2,
           2,
           2,
           2,
           2,
           2,
           2,
           2,
           2,
           2,
           2,
           2,
           2,
           2,
           2,
           2,
           2,
           2,
           2,
           2,
           2,
           2,
           2,
           2,
           2,
           2,
           2,
           2,
           2,
           2,
           2,
           2,
           2,
           2,
           2,
           2,
           2,
           2,
           2,
           2,
           2,
           2,
           2,
           2,
           2,
           2,
           2,
           2,
           2,
           2,
           2,
           2,
           2,
           2,
           2,
           2,
           2,
           2,
           2,
           2,
           2,
           2,
           2,
           2,
           2,
           2,
           2,
           2,
           2,
           2,
           2,
           2,
           2,
           2,
           2,
           2,
           2,
           2,
           2,
           2,
           2,
           2,
           2,
           2,
           2,
           2,
           2,
           2,
           2,
           2,
           2,
           2,
           2,
           2,
           2,
           2,
           2,
           2,
           2,
           2,
           2,
           2,
           2,
           2,
           2,
           2,
           2,
           2,
           2,
           2,
           2,
           2,
           2,
           2,
           2,
           2,
           2,
           2,
           2,
           2,
           2,
           2,
           2,
           2,
           2,
           2,
           2,
           2,
           2,
           2,
           2,
           2,
           2,
           2,
           2,
           2,
           2,
           2,
           2,
           2,
           2,
           2,
           2,
           2,
           2,
           2,
           2,
           2,
           2,
           2,
           3,
           3,
           3,
           3,
           3,
           3,
           3,
           3,
           3,
           3,
           3,
           3,
           3,
           3,
           3,
           3,
           3,
           3,
           3,
           3,
           3,
           3,
           3,
           3,
           3,
           3,
           3,
           3,
           3,
           3,
           3,
           3,
           3,
           3,
           3,
           3,
           3,
           3,
           3,
           3,
           3,
           3,
           3,
           3,
           3,
           3,
           3,
           3,
           3,
           3,
           3,
           3,
           3,
           3,
           3,
           3,
           3,
           3,
           3,
           3,
           3,
           3,
           3,
           3,
           3,
           3,
           3,
           3,
           3,
           3,
           3,
           3,
           3,
           3,
           3,
           3,
           3,
           3,
           3,
           3,
           3,
           3,
           3,
           3,
           3,
           3,
           3,
           3,
           3,
           3,
           3,
           3,
           3,
           3,
           3,
           3,
           3,
           3,
           3,
           3,
           3,
           3,
           3,
           3,
           3,
           3,
           3,
           3,
           3,
           3,
           3,
           3,
           3,
           3,
           3,
           3,
           3,
           3,
           3,
           3,
           3,
           3,
           3,
           5,
           5,
           5,
           5,
           5,
           5,
           5,
           5,
           5,
           5,
           5,
           5,
           5,
           5,
           5,
           5,
           5,
           5,
           5,
           5,
           5,
           5,
           5,
           5,
           5,
           5,
           5,
           5,
           5,
           5,
           5,
           5,
           5,
           5,
           5,
           5,
           5,
           5,
           5,
           5,
           5,
           5,
           5,
           5,
           5,
           5,
           5,
           5,
           5,
           5,
           5,
           5,
           5,
           5,
           5,
           5,
           5,
           5,
           5,
           5,
           5,
           5,
           5,
           5,
           5,
           5,
           5,
           5,
           5,
           4,
           4,
           4,
           4,
           4,
           4,
           4,
           4,
           4,
           4,
           4,
           4,
           4,
           4,
           4,
           4,
           4,
           4,
           4,
           4,
           4,
           4,
           4,
           4,
           4,
           4,
           4,
           4,
           4,
           4,
           4,
           4,
           4,
           4,
           4,
           4,
           4,
           4,
           4,
           4,
           4,
           4,
           4,
           4,
           4,
           4,
           4,
           6,
           6,
           6,
           6,
           6,
           6,
           6,
           6,
           6,
           6,
           6,
           6,
           6,
           6,
           6,
           6,
           6,
           6,
           6,
           6,
           6,
           6,
           6,
           6,
           6,
           6,
           6,
           6,
           6,
           6,
           6,
           6,
           6,
           6,
           6,
           6,
           6,
           6,
           6,
           6,
           6
          ],
          "coloraxis": "coloraxis",
          "symbol": "circle"
         },
         "mode": "markers",
         "name": "",
         "scene": "scene",
         "showlegend": false,
         "type": "scatter3d",
         "x": [
          0.0146924999999999,
          0.015105,
          0.015105,
          0.0153524999999999,
          0.0153524999999999,
          0.015545,
          0.015545,
          0.0153524999999999,
          0.0166449999999999,
          0.0111037499999999,
          0.0111037499999999,
          0.0139499999999999,
          0.0139499999999999,
          0.0139499999999999,
          0.0139499999999999,
          0.0140049999999999,
          0.0140049999999999,
          0.0139499999999999,
          0.0139499999999999,
          0.0139499999999999,
          0.0139499999999999,
          0.0126574999999999,
          0.0138949999999999,
          0.0146099999999999,
          0.0118875,
          0.0133449999999999,
          0.0130287499999999,
          0.01487125,
          0.0122175,
          0.01316625,
          0.0125475,
          0.0129187499999999,
          0.0144725,
          0.0141562499999999,
          0.01322125,
          0.0150362499999999,
          0.0156687499999999,
          0.0130012499999999,
          0.01296,
          0.01296,
          0.0132349999999999,
          0.0132349999999999,
          0.01296,
          0.0130012499999999,
          0.021155,
          0.024235,
          0.0245374999999999,
          0.0243724999999999,
          0.0224749999999999,
          0.0229149999999999,
          0.0245374999999999,
          0.0243724999999999,
          0.0254725,
          0.0258299999999999,
          0.0230799999999999,
          0.0239324999999999,
          0.0990075,
          0.0990075,
          0.0976325,
          0.0976325,
          0.1029674999999999,
          0.1029674999999999,
          0.1019225,
          0.0988425,
          0.094415,
          0.0960925,
          0.094965,
          0.09326,
          0.09821,
          0.09821,
          0.10338,
          0.1015924999999999,
          0.1015924999999999,
          0.1102,
          0.1063775,
          0.1063775,
          0.09799,
          0.0935624999999999,
          0.0988975,
          0.26575375,
          0.26575375,
          0.2538325,
          0.27927,
          0.28422,
          0.255565,
          0.255565,
          0.239505,
          0.24572,
          0.239505,
          0.24572,
          0.25786125,
          0.2524575,
          0.22647,
          0.2371125,
          0.0204537499999999,
          0.0187212499999999,
          0.01811625,
          0.0204537499999999,
          0.0187212499999999,
          0.01811625,
          0.0182949999999999,
          0.0169749999999999,
          0.0127125,
          0.0146649999999999,
          0.01549,
          0.0128637499999999,
          0.0174975,
          0.015215,
          0.0127125,
          0.018955,
          0.0198899999999999,
          0.01489875,
          0.0141699999999999,
          0.0147474999999999,
          0.0163699999999999,
          0.0147474999999999,
          0.0153524999999999,
          0.01333125,
          0.0177587499999999,
          0.0139087499999999,
          0.0156824999999999,
          0.0132624999999999,
          0.0129874999999999,
          0.0133725,
          0.0100174999999999,
          0.0162187499999999,
          0.0107599999999999,
          0.0139775,
          0.0172912499999999,
          0.0135925,
          0.01505,
          0.0141425,
          0.0174149999999999,
          0.0119974999999999,
          0.01063625,
          0.0141287499999999,
          0.01384,
          0.01517375,
          0.0144175,
          0.014885,
          0.0139499999999999,
          0.0137575,
          0.0145137499999999,
          0.0146099999999999,
          0.0165624999999999,
          0.0114062499999999,
          0.0127812499999999,
          0.0160674999999999,
          0.0132349999999999,
          0.0129049999999999,
          0.0144312499999999,
          0.01583375,
          0.0136749999999999,
          0.0136199999999999,
          0.0130562499999999,
          0.0133449999999999,
          0.0103199999999999,
          0.0153387499999999,
          0.015105,
          0.0146649999999999,
          0.0170299999999999,
          0.0186249999999999,
          0.0166999999999999,
          0.01758,
          0.0151874999999999,
          0.0161637499999999,
          0.0149262499999999,
          0.023025,
          0.0170024999999999,
          0.0149124999999999,
          0.0132074999999999,
          0.0160675,
          0.0130562499999999,
          0.0128362499999999,
          0.0074049999999999,
          0.0176349999999999,
          0.01671375,
          0.0144449999999999,
          0.01484375,
          0.0140599999999999,
          0.0108012499999999,
          0.01679625,
          0.0136199999999999,
          0.0152424999999999,
          0.0149949999999999,
          0.0118324999999999,
          0.00988,
          0.01830875,
          0.0162874999999999,
          0.0169062499999999,
          0.0145549999999999,
          0.0131799999999999,
          0.014775,
          0.0143625,
          0.0206049999999999,
          0.0149124999999999,
          0.0224199999999999,
          0.01197,
          0.0133725,
          0.0174699999999999,
          0.015985,
          0.0168925,
          0.01483,
          0.0111449999999999,
          0.0117224999999999,
          0.0088074999999999,
          0.020385,
          0.0102649999999999,
          0.012135,
          0.0104575,
          0.0136749999999999,
          0.012905,
          0.0118324999999999,
          0.01604,
          0.0197524999999999,
          0.0137849999999999,
          0.018515,
          0.019065,
          0.0189274999999999,
          0.0171125,
          0.0099624999999999,
          0.018845,
          0.01327625,
          0.0163699999999999,
          0.0107325,
          0.014995,
          0.0136199999999999,
          0.01802,
          0.015325,
          0.0167275,
          0.0173325,
          0.0176899999999999,
          0.0085324999999999,
          0.0107049999999999,
          0.0145274999999999,
          0.01868,
          0.009605,
          0.0140325,
          0.0217325,
          0.0163012499999999,
          0.01363375,
          0.01049875,
          0.0087249999999999,
          0.0108699999999999,
          0.02154,
          0.0183224999999999,
          0.01212125,
          0.0125062499999999,
          0.0182674999999999,
          0.0389749999999999,
          0.0324437499999999,
          0.02856625,
          0.02649,
          0.0364449999999999,
          0.0281125,
          0.0290612499999999,
          0.032705,
          0.03750375,
          0.04355375,
          0.0290612499999999,
          0.03150875,
          0.03299375,
          0.0399925,
          0.0408725,
          0.0407624999999999,
          0.04374625,
          0.0516249999999999,
          0.0413125,
          0.0355925,
          0.0352349999999999,
          0.0404599999999999,
          0.0411887499999999,
          0.0397724999999999,
          0.04288,
          0.0403225,
          0.03959375,
          0.0420824999999999,
          0.04333375,
          0.0301474999999999,
          0.02851125,
          0.043045,
          0.0445849999999999,
          0.0360324999999999,
          0.0320999999999999,
          0.0375724999999999,
          0.0361287499999999,
          0.029955,
          0.0257475,
          0.0326225,
          0.02372625,
          0.0310275,
          0.0345474999999999,
          0.0314399999999999,
          0.0388924999999999,
          0.03071125,
          0.0282087499999999,
          0.03329625,
          0.0290612499999999,
          0.02792,
          0.0205087499999999,
          0.0204125,
          0.0294599999999999,
          0.0218974999999999,
          0.02567875,
          0.0294874999999999,
          0.03197625,
          0.0325125,
          0.0394424999999999,
          0.037325,
          0.0257749999999999,
          0.0240425,
          0.0198075,
          0.0193675,
          0.0203025,
          0.0169475,
          0.02727375,
          0.03772375,
          0.0398962499999999,
          0.0415325,
          0.039965,
          0.03772375,
          0.0380675,
          0.036005,
          0.02451,
          0.0330074999999999,
          0.0343825,
          0.03027125,
          0.0350149999999999,
          0.0267924999999999,
          0.0311374999999999,
          0.0316325,
          0.0279474999999999,
          0.02704,
          0.03024375,
          0.0294325,
          0.0286899999999999,
          0.0270674999999999,
          0.035235,
          0.03254,
          0.0307387499999999,
          0.0288275,
          0.0245924999999999,
          0.0368162499999999,
          0.0266824999999999,
          0.0232175,
          0.02232375,
          0.03879625,
          0.04360875,
          0.0230662499999999,
          0.0184874999999999,
          0.0253899999999999,
          0.0263799999999999,
          0.03056,
          0.034135,
          0.02726,
          0.0265725,
          0.0339974999999999,
          0.02814,
          0.0225299999999999,
          0.042715,
          0.02693,
          0.0332274999999999,
          0.0195875,
          0.0325262499999999,
          0.031275,
          0.0304774999999999,
          0.024455,
          0.0257199999999999,
          0.0287999999999999,
          0.02086625,
          0.0265862499999999,
          0.0284149999999999,
          0.0343,
          0.0234099999999999,
          0.0299,
          0.0299824999999999,
          0.0343687499999999,
          0.0228049999999999,
          0.024565,
          0.0346025,
          0.0264899999999999,
          0.038755,
          0.0258025,
          0.033255,
          0.0399374999999999,
          0.04024,
          0.04343,
          0.0403775,
          0.040185,
          0.0403225,
          0.0326087499999999,
          0.027205,
          0.0356749999999999,
          0.0261599999999999,
          0.0470875,
          0.041065,
          0.04607,
          0.04563,
          0.04882,
          0.04765125,
          0.0437875,
          0.0491224999999999,
          0.03879625,
          0.03508375,
          0.0411887499999999,
          0.0425224999999999,
          0.0411474999999999,
          0.1038474999999999,
          0.12153,
          0.095515,
          0.084625,
          0.1016475,
          0.1127024999999999,
          0.1152874999999999,
          0.107175,
          0.125875,
          0.10679,
          0.1126612499999999,
          0.1169649999999999,
          0.1095124999999999,
          0.09986,
          0.11414625,
          0.101675,
          0.1036825,
          0.0956799999999999,
          0.1001349999999999,
          0.1012075,
          0.113995,
          0.0971099999999999,
          0.112565,
          0.0988425,
          0.09766,
          0.0972474999999999,
          0.1102825,
          0.1108049999999999,
          0.138085,
          0.1001624999999999,
          0.0970274999999999,
          0.0910325,
          0.1032974999999999,
          0.0726074999999999,
          0.08699,
          0.0804174999999999,
          0.0924625,
          0.0887224999999999,
          0.0730474999999999,
          0.077365,
          0.156675,
          0.05806,
          0.0600125,
          0.0610437499999999,
          0.0629825,
          0.07262125,
          0.058995,
          0.0561899999999999,
          0.0591875,
          0.0588024999999999,
          0.0977425,
          0.119165,
          0.11378875,
          0.11252375,
          0.12060875,
          0.13122375,
          0.1156725,
          0.10146875,
          0.10855,
          0.1381125,
          0.1301649999999999,
          0.1244175,
          0.1405875,
          0.1285425,
          0.11097,
          0.1082475,
          0.1202099999999999,
          0.133135,
          0.0696099999999999,
          0.0560799999999999,
          0.0561075,
          0.0602874999999999,
          0.0594899999999999,
          0.0598475,
          0.0557225,
          0.0619374999999999,
          0.060865,
          0.10889375,
          0.10265125,
          0.1224512499999999,
          0.1246925,
          0.1417149999999999,
          0.1020599999999999,
          0.11909625,
          0.1386075,
          0.131815,
          0.1156174999999999,
          0.114875,
          0.100685,
          0.11095625,
          0.103765,
          0.11054375,
          0.1000524999999999,
          0.10009375,
          0.0991175,
          0.11158875,
          0.08886,
          0.1008774999999999,
          0.0982099999999999,
          0.09931,
          0.1082475,
          0.1210899999999999,
          0.0991725,
          0.0901525,
          0.12025125,
          0.11642875,
          0.118725,
          0.113555,
          0.1167725,
          0.12437625,
          0.10041,
          0.1171849999999999,
          0.109595,
          0.1159474999999999,
          0.134895,
          0.09788,
          0.123895,
          0.0894375,
          0.1323649999999999,
          0.0806374999999999,
          0.094635,
          0.08666,
          0.0976874999999999,
          0.197815,
          0.13055,
          0.158765,
          0.16333,
          0.1327225,
          0.19534,
          0.1857424999999999,
          0.2013075,
          0.2018575,
          0.2306225,
          0.1992725,
          0.18819,
          0.18258,
          0.1503499999999999,
          0.14298,
          0.1960825,
          0.1567575,
          0.1495524999999999,
          0.1477375,
          0.19523,
          0.1977875,
          0.1987775,
          0.20271,
          0.1746325,
          0.1851925,
          0.16686375,
          0.17873,
          0.1694625,
          0.16493875,
          0.131265,
          0.198475,
          0.18693875,
          0.18358375,
          0.20690375,
          0.18361125,
          0.15710125,
          0.148755,
          0.133795,
          0.145345,
          0.14533125,
          0.1353349999999999,
          0.2023249999999999,
          0.22348625,
          0.2419525,
          0.19265875,
          0.2225925,
          0.1449325,
          0.2098875,
          0.19061,
          0.1271399999999999,
          0.1992175,
          0.1795962499999999,
          0.22321125,
          0.2239674999999999,
          0.1910637499999999,
          0.1922875,
          0.139625,
          0.2465999999999999,
          0.2499275,
          0.209255,
          0.2073025,
          0.21116625,
          0.18193375,
          0.1973475,
          0.20189875,
          0.1914624999999999,
          0.174605,
          0.1175287499999999,
          0.17310625,
          0.179115,
          0.15149125,
          0.16476,
          0.212225,
          0.14412125,
          0.16271125,
          0.1944325,
          0.252925,
          0.22755625,
          0.199685,
          0.265135,
          0.204195,
          0.1690775,
          0.16014,
          0.10008,
          0.2354625,
          0.23098,
          0.1773275,
          0.1950375,
          0.2219875,
          0.08633,
          0.24592625,
          0.1578025,
          0.15189,
          0.1923425,
          0.15990625,
          0.2289725,
          0.16315125,
          0.1600025,
          0.20964,
          0.1664375,
          0.1441625,
          0.1706174999999999,
          0.222455,
          0.192205,
          0.1538149999999999,
          0.20750875,
          0.1751825,
          0.17026,
          0.1905825,
          0.1615012499999999,
          0.150955,
          0.1413849999999999,
          0.1235649999999999,
          0.11757,
          0.1179275,
          0.1682525,
          0.0044625,
          0.0049849999999999,
          0.0053149999999999,
          0.0046549999999999,
          0.0045999999999999,
          0.0054524999999999,
          0.0053699999999999,
          0.0046275,
          0.0048199999999999,
          0.0055349999999999,
          0.0066074999999999,
          0.0073499999999999,
          0.0067174999999999,
          0.0082437499999999,
          0.0094124999999999,
          0.0101274999999999,
          0.009275,
          0.0082299999999999,
          0.00581,
          0.0047375,
          0.006745,
          0.0052599999999999,
          0.0054524999999999,
          0.0058374999999999,
          0.0065112499999999,
          0.0035412499999999,
          0.0036237499999999,
          0.0052875,
          0.0044349999999999,
          0.0050675,
          0.0038712499999999,
          0.0047649999999999,
          0.00565875,
          0.00714375,
          0.00746,
          0.0054937499999999,
          0.0045725,
          0.0203025,
          0.0083125,
          0.0055349999999999,
          0.006525
         ],
         "y": [
          0.0070474999999999,
          0.0068,
          0.0068,
          0.0072124999999999,
          0.0072124999999999,
          0.0075699999999999,
          0.0075699999999999,
          0.0072124999999999,
          0.0073225,
          0.0048474999999999,
          0.0048474999999999,
          0.0056724999999999,
          0.0056724999999999,
          0.0056724999999999,
          0.0056724999999999,
          0.0066074999999999,
          0.0066074999999999,
          0.0067724999999999,
          0.0067724999999999,
          0.0067724999999999,
          0.0067724999999999,
          0.0058374999999999,
          0.0060024999999999,
          0.00647,
          0.0033074999999999,
          0.0054524999999999,
          0.005315,
          0.00604375,
          0.0053425,
          0.0052049999999999,
          0.0054249999999999,
          0.0054937499999999,
          0.00609875,
          0.0063737499999999,
          0.0050124999999999,
          0.0064012499999999,
          0.0068274999999999,
          0.0055074999999999,
          0.0054799999999999,
          0.0054799999999999,
          0.0056999999999999,
          0.0056999999999999,
          0.0054799999999999,
          0.0055074999999999,
          0.012245,
          0.0144725,
          0.01538,
          0.0141149999999999,
          0.0141149999999999,
          0.0131799999999999,
          0.01538,
          0.0141149999999999,
          0.0156274999999999,
          0.01549,
          0.0141425,
          0.0138399999999999,
          0.04585,
          0.04585,
          0.045025,
          0.045025,
          0.0466199999999999,
          0.0466199999999999,
          0.04838,
          0.0475825,
          0.0443925,
          0.045355,
          0.044915,
          0.0397724999999999,
          0.0415325,
          0.0415325,
          0.0442825,
          0.0435675,
          0.0435675,
          0.049095,
          0.04497,
          0.04497,
          0.0409825,
          0.0404599999999999,
          0.04189,
          0.17921125,
          0.17921125,
          0.1596725,
          0.1673175,
          0.1816175,
          0.1596725,
          0.1596725,
          0.1619962499999999,
          0.16504875,
          0.1619962499999999,
          0.16504875,
          0.1608824999999999,
          0.1744675,
          0.1503499999999999,
          0.217505,
          0.0123824999999999,
          0.0135924999999999,
          0.0144175,
          0.0123824999999999,
          0.0135924999999999,
          0.0144175,
          0.014225,
          0.0065524999999999,
          0.00420125,
          0.0059474999999999,
          0.0066212499999999,
          0.005975,
          0.0058787499999999,
          0.0062224999999999,
          0.0050125,
          0.0072262499999999,
          0.0090824999999999,
          0.0070749999999999,
          0.0073225,
          0.0063874999999999,
          0.0074325,
          0.0074049999999999,
          0.0069374999999999,
          0.00614,
          0.0085324999999999,
          0.0060849999999999,
          0.0063049999999999,
          0.0049299999999999,
          0.0056174999999999,
          0.0055074999999999,
          0.0035687499999999,
          0.0063874999999999,
          0.0042974999999999,
          0.0053974999999999,
          0.0067174999999999,
          0.0047925,
          0.00592,
          0.0053149999999999,
          0.0075425,
          0.0040774999999999,
          0.0040499999999999,
          0.0051499999999999,
          0.00607125,
          0.0064974999999999,
          0.0061674999999999,
          0.0068,
          0.0064424999999999,
          0.006415,
          0.00625,
          0.0067724999999999,
          0.0065799999999999,
          0.0051087499999999,
          0.0054249999999999,
          0.0065524999999999,
          0.006195,
          0.004545,
          0.0064424999999999,
          0.0071987499999999,
          0.0049849999999999,
          0.0056449999999999,
          0.0056174999999999,
          0.0058924999999999,
          0.0040224999999999,
          0.0065525,
          0.0069374999999999,
          0.0072399999999999,
          0.00763875,
          0.0082437499999999,
          0.006195,
          0.0076249999999999,
          0.0064562499999999,
          0.007955,
          0.0072124999999999,
          0.0092474999999999,
          0.0079687499999999,
          0.0069924999999999,
          0.0054524999999999,
          0.0069649999999999,
          0.00439375,
          0.0052324999999999,
          0.0029774999999999,
          0.0076524999999999,
          0.00667625,
          0.0073499999999999,
          0.0075699999999999,
          0.00636,
          0.0047374999999999,
          0.0080375,
          0.0064425,
          0.00673125,
          0.0064837499999999,
          0.0056174999999999,
          0.003335,
          0.0074324999999999,
          0.0064974999999999,
          0.00741875,
          0.0071299999999999,
          0.00571375,
          0.00614,
          0.0079549999999999,
          0.0061674999999999,
          0.0067724999999999,
          0.00988,
          0.0070199999999999,
          0.0053974999999999,
          0.0073225,
          0.0081749999999999,
          0.0072949999999999,
          0.0063874999999999,
          0.0083675,
          0.0082025,
          0.00603,
          0.0068687499999999,
          0.00436625,
          0.0078999999999999,
          0.0077349999999999,
          0.0100449999999999,
          0.00878,
          0.0081749999999999,
          0.00944,
          0.007625,
          0.005975,
          0.0082849999999999,
          0.00752875,
          0.0086699999999999,
          0.0052599999999999,
          0.0045725,
          0.00581,
          0.0057549999999999,
          0.0072399999999999,
          0.0038574999999999,
          0.006745,
          0.0061124999999999,
          0.00658,
          0.0066074999999999,
          0.0088074999999999,
          0.008945,
          0.0082025,
          0.0023999999999999,
          0.0045999999999999,
          0.0069374999999999,
          0.0082849999999999,
          0.0039674999999999,
          0.006195,
          0.0073087499999999,
          0.0044212499999999,
          0.0064012499999999,
          0.0047787499999999,
          0.0024549999999999,
          0.0042424999999999,
          0.0083675,
          0.0080375,
          0.0052462499999999,
          0.0044624999999999,
          0.0086149999999999,
          0.0187075,
          0.0155175,
          0.0157924999999999,
          0.01349625,
          0.0177449999999999,
          0.0147612499999999,
          0.01492625,
          0.0162462499999999,
          0.0177724999999999,
          0.017525,
          0.01492625,
          0.0157649999999999,
          0.0153387499999999,
          0.0167,
          0.0196975,
          0.01979375,
          0.0206462499999999,
          0.0209074999999999,
          0.02251625,
          0.0193674999999999,
          0.0203025,
          0.0249225,
          0.0213199999999999,
          0.02121,
          0.02154,
          0.01868,
          0.02116875,
          0.02248875,
          0.0214849999999999,
          0.0169475,
          0.01588875,
          0.0177724999999999,
          0.0196149999999999,
          0.0165075,
          0.0171537499999999,
          0.01800625,
          0.0163149999999999,
          0.0178,
          0.0167275,
          0.0170025,
          0.01327625,
          0.01635625,
          0.0179374999999999,
          0.0146649999999999,
          0.0187074999999999,
          0.0175662499999999,
          0.01349625,
          0.01668625,
          0.0170987499999999,
          0.015655,
          0.01187375,
          0.01459625,
          0.01747,
          0.0140599999999999,
          0.0142112499999999,
          0.01582,
          0.01813,
          0.0171125,
          0.0191199999999999,
          0.0207699999999999,
          0.0143349999999999,
          0.0152837499999999,
          0.0143349999999999,
          0.01219,
          0.0139775,
          0.0113925,
          0.01481625,
          0.01940875,
          0.0208524999999999,
          0.02198,
          0.0193399999999999,
          0.01940875,
          0.0198075,
          0.0177724999999999,
          0.0141975,
          0.0175799999999999,
          0.01791,
          0.0148849999999999,
          0.0167549999999999,
          0.0139225,
          0.0141699999999999,
          0.0166999999999999,
          0.0139499999999999,
          0.0144175,
          0.0156687499999999,
          0.0140599999999999,
          0.0156824999999999,
          0.0123,
          0.0165899999999999,
          0.0152837499999999,
          0.0160537499999999,
          0.0122312499999999,
          0.012905,
          0.015765,
          0.0174425,
          0.014995,
          0.0144725,
          0.0172225,
          0.0199174999999999,
          0.0173875,
          0.0102099999999999,
          0.0138125,
          0.0143212499999999,
          0.0168099999999999,
          0.01879,
          0.015325,
          0.01505,
          0.01857,
          0.0150774999999999,
          0.0110075,
          0.0223099999999999,
          0.0136475,
          0.0170849999999999,
          0.0100999999999999,
          0.0176624999999999,
          0.0166175,
          0.0142525,
          0.0144999999999999,
          0.012685,
          0.0151874999999999,
          0.0112,
          0.0154075,
          0.0139499999999999,
          0.01791,
          0.0134825,
          0.0163149999999999,
          0.0130837499999999,
          0.015655,
          0.009825,
          0.0136475,
          0.0152424999999999,
          0.0140599999999999,
          0.0212099999999999,
          0.0145137499999999,
          0.0176074999999999,
          0.01671375,
          0.020935,
          0.02119625,
          0.01817125,
          0.0217599999999999,
          0.0205775,
          0.01770375,
          0.0130699999999999,
          0.0173049999999999,
          0.0132349999999999,
          0.0206599999999999,
          0.0228599999999999,
          0.0162599999999999,
          0.01857,
          0.0173875,
          0.0184874999999999,
          0.0184324999999999,
          0.0185424999999999,
          0.0193949999999999,
          0.0186524999999999,
          0.0206874999999999,
          0.0198625,
          0.0169337499999999,
          0.05157,
          0.0565749999999999,
          0.0421924999999999,
          0.0406525,
          0.0486824999999999,
          0.0518724999999999,
          0.0606174999999999,
          0.0534124999999999,
          0.06164875,
          0.0490124999999999,
          0.051185,
          0.05260125,
          0.050195,
          0.0464,
          0.050415,
          0.0510475,
          0.055475,
          0.04332,
          0.0519549999999999,
          0.0521475,
          0.0555025,
          0.04519,
          0.0574549999999999,
          0.0453274999999999,
          0.0494525,
          0.04783,
          0.052505,
          0.0567949999999999,
          0.0650999999999999,
          0.0543474999999999,
          0.0527524999999999,
          0.0428524999999999,
          0.0482974999999999,
          0.034025,
          0.0416425,
          0.0393324999999999,
          0.0514599999999999,
          0.0592699999999999,
          0.0349599999999999,
          0.0419724999999999,
          0.0712599999999999,
          0.032925,
          0.03386,
          0.03772375,
          0.039965,
          0.0376549999999999,
          0.030395,
          0.0292262499999999,
          0.0258299999999999,
          0.0253625,
          0.0467162499999999,
          0.0603425,
          0.06016375,
          0.05854125,
          0.05694625,
          0.0677262499999999,
          0.06059,
          0.05568125,
          0.0584175,
          0.066585,
          0.0689225,
          0.0639175,
          0.06758875,
          0.0595724999999999,
          0.0608099999999999,
          0.0599299999999999,
          0.0625425,
          0.0664474999999999,
          0.03183875,
          0.0271224999999999,
          0.0268199999999999,
          0.0299825,
          0.028305,
          0.0283874999999999,
          0.0257199999999999,
          0.0300374999999999,
          0.0250324999999999,
          0.05667125,
          0.0507725,
          0.06994,
          0.06376625,
          0.06943125,
          0.0729099999999999,
          0.05601125,
          0.073295,
          0.0726625,
          0.0668874999999999,
          0.0677125,
          0.05015375,
          0.0599575,
          0.05619,
          0.05980625,
          0.0649625,
          0.05526875,
          0.05430625,
          0.06087875,
          0.0580462499999999,
          0.0614562499999999,
          0.05927,
          0.0562725,
          0.0562999999999999,
          0.065045,
          0.054485,
          0.0460012499999999,
          0.06877125,
          0.0610712499999999,
          0.0648525,
          0.06136,
          0.0570424999999999,
          0.0605349999999999,
          0.0537424999999999,
          0.052945,
          0.0513224999999999,
          0.0627487499999999,
          0.0670524999999999,
          0.0491087499999999,
          0.0616075,
          0.0458774999999999,
          0.0688125,
          0.04805,
          0.0474725,
          0.0461524999999999,
          0.046015,
          0.10930625,
          0.1135275,
          0.1341525,
          0.137645,
          0.1072299999999999,
          0.10503,
          0.10349,
          0.1110249999999999,
          0.1115475,
          0.12443125,
          0.1173225,
          0.1015649999999999,
          0.1009875,
          0.12274,
          0.1095125,
          0.116085,
          0.1232625,
          0.1138575,
          0.1268375,
          0.1181749999999999,
          0.09469,
          0.0934525,
          0.10503,
          0.0929849999999999,
          0.1070375,
          0.09932375,
          0.10518125,
          0.09942,
          0.09057875,
          0.0982925,
          0.1213237499999999,
          0.09827875,
          0.11310125,
          0.1190962499999999,
          0.0957899999999999,
          0.1404225,
          0.14266375,
          0.1412199999999999,
          0.15517625,
          0.17145625,
          0.13528,
          0.0999424999999999,
          0.11123125,
          0.1531825,
          0.0987875,
          0.12285,
          0.0920774999999999,
          0.1079725,
          0.1168,
          0.0770899999999999,
          0.09953,
          0.094855,
          0.1085775,
          0.1146275,
          0.1095674999999999,
          0.09909,
          0.1114375,
          0.1476275,
          0.14012,
          0.1164425,
          0.1210899999999999,
          0.10507125,
          0.10837125,
          0.114765,
          0.112565,
          0.100685,
          0.0930949999999999,
          0.15772,
          0.11689625,
          0.124555,
          0.09077125,
          0.09788,
          0.14156375,
          0.09679375,
          0.100135,
          0.1178449999999999,
          0.1584074999999999,
          0.14474,
          0.150295,
          0.2580125,
          0.133245,
          0.1396525,
          0.115645,
          0.1108325,
          0.1377824999999999,
          0.13169125,
          0.1158374999999999,
          0.12923,
          0.145235,
          0.0938375,
          0.1683075,
          0.106625,
          0.0896299999999999,
          0.1317324999999999,
          0.1512025,
          0.15068,
          0.10768375,
          0.1231525,
          0.137865,
          0.11163,
          0.1102549999999999,
          0.118505,
          0.1540075,
          0.15343,
          0.1021699999999999,
          0.13930875,
          0.1039574999999999,
          0.11284,
          0.145455,
          0.1161949999999999,
          0.0957899999999999,
          0.1171575,
          0.1053325,
          0.1053875,
          0.1026374999999999,
          0.101565,
          0.0121624999999999,
          0.01208,
          0.0154074999999999,
          0.0126024999999999,
          0.0130974999999999,
          0.0133175,
          0.0134275,
          0.0136749999999999,
          0.0132624999999999,
          0.0132899999999999,
          0.0144725,
          0.0154074999999999,
          0.0145549999999999,
          0.0186387499999999,
          0.0158474999999999,
          0.0141425,
          0.0136475,
          0.0148574999999999,
          0.018405,
          0.0165899999999999,
          0.01505,
          0.0166449999999999,
          0.0138399999999999,
          0.0130699999999999,
          0.0092612499999999,
          0.0072674999999999,
          0.0065937499999999,
          0.01263,
          0.0123824999999999,
          0.01285,
          0.0084225,
          0.0083399999999999,
          0.01027875,
          0.0105674999999999,
          0.0103062499999999,
          0.0105124999999999,
          0.0085874999999999,
          0.0135925,
          0.0113649999999999,
          0.01296,
          0.0124925
         ],
         "z": [
          0.1961649999999999,
          0.217505,
          0.217505,
          0.1984475,
          0.1984475,
          0.2172299999999999,
          0.2172299999999999,
          0.1984475,
          0.2318325,
          0.12181875,
          0.12181875,
          0.1403674999999999,
          0.1403674999999999,
          0.1403674999999999,
          0.1403674999999999,
          0.1729824999999999,
          0.1729824999999999,
          0.1863199999999999,
          0.1863199999999999,
          0.1863199999999999,
          0.1863199999999999,
          0.1595349999999999,
          0.1650625,
          0.13605,
          0.094525,
          0.14177,
          0.14057375,
          0.16763375,
          0.15234375,
          0.1466925,
          0.14227875,
          0.153595,
          0.16047,
          0.16735875,
          0.13507375,
          0.18005,
          0.1955875,
          0.16348125,
          0.13829125,
          0.13829125,
          0.15132625,
          0.15132625,
          0.13829125,
          0.16348125,
          0.262055,
          0.2700575,
          0.3119949999999999,
          0.3138924999999999,
          0.27773,
          0.269535,
          0.3119949999999999,
          0.3138924999999999,
          0.342135,
          0.3338025,
          0.2889225,
          0.28642,
          0.3770874999999999,
          0.3770874999999999,
          0.3973549999999999,
          0.3973549999999999,
          0.3740075,
          0.3740075,
          0.40423,
          0.3964475,
          0.3876475,
          0.4060175,
          0.38938,
          0.41457,
          0.4092075,
          0.4092075,
          0.4249375,
          0.4276049999999999,
          0.4276049999999999,
          0.4260649999999999,
          0.427495,
          0.427495,
          0.407255,
          0.407475,
          0.39114,
          0.23517375,
          0.23517375,
          0.24462,
          0.24242,
          0.2229775,
          0.2167899999999999,
          0.2167899999999999,
          0.19136625,
          0.202875,
          0.19136625,
          0.202875,
          0.2545475,
          0.2832575,
          0.2753925,
          0.2880425,
          0.26649625,
          0.288675,
          0.3080212499999999,
          0.26649625,
          0.288675,
          0.3080212499999999,
          0.30221875,
          0.1700674999999999,
          0.14544125,
          0.2273775,
          0.18427125,
          0.20145875,
          0.19853,
          0.209585,
          0.10611625,
          0.22893125,
          0.1756225,
          0.1462524999999999,
          0.164045,
          0.1576925,
          0.1854124999999999,
          0.2036175,
          0.1994925,
          0.19677,
          0.183075,
          0.1939924999999999,
          0.21542875,
          0.1865675,
          0.1716625,
          0.2059,
          0.1406425,
          0.23014125,
          0.15652375,
          0.206175,
          0.23415625,
          0.14903,
          0.1931675,
          0.185055,
          0.2263325,
          0.1452625,
          0.1361875,
          0.17195125,
          0.20932375,
          0.1870075,
          0.21713375,
          0.1981175,
          0.210795,
          0.1992175,
          0.20013875,
          0.191875,
          0.22431125,
          0.14709125,
          0.1654749999999999,
          0.20194,
          0.1756775,
          0.18424375,
          0.1791425,
          0.202435,
          0.206725,
          0.1921775,
          0.14975875,
          0.1592875,
          0.1455375,
          0.19813125,
          0.1742475,
          0.1604425,
          0.1529075,
          0.1625325,
          0.1531275,
          0.19340125,
          0.14703625,
          0.18069625,
          0.16562625,
          0.28433,
          0.21658375,
          0.1897849999999999,
          0.1510925,
          0.17917,
          0.1569087499999999,
          0.1363387499999999,
          0.0805825,
          0.1821125,
          0.16733125,
          0.2112075,
          0.15171125,
          0.130825,
          0.1522475,
          0.1701225,
          0.17206125,
          0.16007125,
          0.15253625,
          0.1329699999999999,
          0.0861649999999999,
          0.17167625,
          0.2171887499999999,
          0.1777675,
          0.170425,
          0.17543,
          0.1377824999999999,
          0.1576374999999999,
          0.163275,
          0.15453,
          0.1324475,
          0.1955049999999999,
          0.1199625,
          0.1278825,
          0.2003725,
          0.2442075,
          0.20986,
          0.2487174999999999,
          0.2374425,
          0.1875025,
          0.14276,
          0.1325025,
          0.25815,
          0.21822,
          0.2136825,
          0.288785,
          0.240055,
          0.285595,
          0.14348875,
          0.124885,
          0.18456,
          0.1714975,
          0.1683075,
          0.1219974999999999,
          0.113005,
          0.24308,
          0.12247875,
          0.15211,
          0.1878325,
          0.22669,
          0.18324,
          0.1933325,
          0.101785,
          0.1197699999999999,
          0.1269199999999999,
          0.13022,
          0.0712599999999999,
          0.1260675,
          0.1290375,
          0.1365724999999999,
          0.089135,
          0.1168825,
          0.15839375,
          0.09500625,
          0.16097875,
          0.10988375,
          0.09282,
          0.10624,
          0.1683899999999999,
          0.1560425,
          0.12058125,
          0.122575,
          0.23813,
          0.23736,
          0.20293,
          0.20228375,
          0.18421625,
          0.223665,
          0.2398624999999999,
          0.20128,
          0.1869525,
          0.2381025,
          0.27590125,
          0.20128,
          0.1980625,
          0.28035625,
          0.28316125,
          0.316065,
          0.29534375,
          0.2964299999999999,
          0.35022,
          0.27383875,
          0.24323125,
          0.239395,
          0.29350125,
          0.29236,
          0.274595,
          0.3065775,
          0.30699,
          0.25478125,
          0.30628875,
          0.2936525,
          0.23197,
          0.21138625,
          0.314195,
          0.3188975,
          0.320245,
          0.3503025,
          0.33846375,
          0.4129475,
          0.2707725,
          0.29115,
          0.23109,
          0.3153775,
          0.24433125,
          0.29311625,
          0.2024625,
          0.2491575,
          0.26905375,
          0.34879,
          0.34593,
          0.2495975,
          0.29742,
          0.27460875,
          0.30873625,
          0.24380875,
          0.235985,
          0.19444625,
          0.22769375,
          0.242915,
          0.2260575,
          0.25463,
          0.2445925,
          0.317385,
          0.2762725,
          0.3054225,
          0.2565825,
          0.2480025,
          0.35693,
          0.25302125,
          0.2359575,
          0.2680774999999999,
          0.261945,
          0.2209975,
          0.2359575,
          0.245445,
          0.2357925,
          0.26409,
          0.23571,
          0.2497625,
          0.24050875,
          0.2625775,
          0.186925,
          0.2256725,
          0.205075,
          0.2057075,
          0.2269924999999999,
          0.20473125,
          0.21877,
          0.2381849999999999,
          0.2464625,
          0.2369475,
          0.2246825,
          0.2600475,
          0.2140675,
          0.2222075,
          0.23619125,
          0.2568575,
          0.3194475,
          0.2424474999999999,
          0.2399175,
          0.2513849999999999,
          0.35595375,
          0.137315,
          0.22823,
          0.2158275,
          0.24539,
          0.2442349999999999,
          0.2421725,
          0.2017749999999999,
          0.2296325,
          0.2290825,
          0.182085,
          0.23714,
          0.2603225,
          0.2420075,
          0.1719375,
          0.27595625,
          0.25023,
          0.216185,
          0.1630825,
          0.197375,
          0.207275,
          0.14384625,
          0.1938,
          0.2009225,
          0.21789,
          0.1867325,
          0.255565,
          0.2123075,
          0.2533375,
          0.1517525,
          0.2022425,
          0.2368925,
          0.17279,
          0.2547125,
          0.1607724999999999,
          0.2042775,
          0.2250675,
          0.256665,
          0.23071875,
          0.2443725,
          0.24669625,
          0.252925,
          0.23148875,
          0.1815075,
          0.257545,
          0.170095,
          0.30622,
          0.2759837499999999,
          0.25529,
          0.2960725,
          0.316285,
          0.2542999999999999,
          0.30556,
          0.3109225,
          0.26820125,
          0.2672799999999999,
          0.27735875,
          0.26022625,
          0.27499375,
          0.3837974999999999,
          0.419685,
          0.455985,
          0.4450125,
          0.407695,
          0.3916624999999999,
          0.39191,
          0.371615,
          0.4032125,
          0.3477174999999999,
          0.432335,
          0.42024875,
          0.45638375,
          0.41061,
          0.41543625,
          0.4475699999999999,
          0.440365,
          0.41083,
          0.451475,
          0.4225175,
          0.41743,
          0.41545,
          0.39994,
          0.4651424999999999,
          0.4156975,
          0.384485,
          0.3964749999999999,
          0.375355,
          0.38223,
          0.3563525,
          0.3796449999999999,
          0.3874,
          0.364245,
          0.448285,
          0.41974,
          0.49102,
          0.451695,
          0.41991875,
          0.5909550000000001,
          0.454995,
          0.3132324999999999,
          0.3999125,
          0.426835,
          0.40542625,
          0.3907,
          0.400875,
          0.4405024999999999,
          0.392625,
          0.446525,
          0.4518875,
          0.40592125,
          0.37803625,
          0.4037625,
          0.4322525,
          0.392185,
          0.36332375,
          0.37281125,
          0.38188625,
          0.3878675,
          0.3421625,
          0.3782425,
          0.40555,
          0.37794,
          0.382835,
          0.328605,
          0.3600374999999999,
          0.3990324999999999,
          0.386465,
          0.36005125,
          0.3921575,
          0.34091125,
          0.33537,
          0.3845125,
          0.39092,
          0.3833025,
          0.380525,
          0.3579475,
          0.3511,
          0.3819275,
          0.36137125,
          0.3900125,
          0.3627875,
          0.3218125,
          0.4261749999999999,
          0.3185125,
          0.3474974999999999,
          0.340375,
          0.336745,
          0.4131125,
          0.37492875,
          0.3973549999999999,
          0.37888875,
          0.35116875,
          0.3206575,
          0.384265,
          0.35592625,
          0.3522825,
          0.357865,
          0.38271125,
          0.360065,
          0.38158375,
          0.3335825,
          0.4416025,
          0.42434625,
          0.38766125,
          0.3573425,
          0.3878675,
          0.3762899999999999,
          0.4053575,
          0.39877125,
          0.4451775,
          0.435965,
          0.4627225,
          0.39368375,
          0.3908375,
          0.427165,
          0.3840175,
          0.4186125,
          0.38914625,
          0.44878,
          0.40962,
          0.334105,
          0.4557374999999999,
          0.30065125,
          0.25892,
          0.2555375,
          0.26121625,
          0.29181,
          0.3043225,
          0.3001149999999999,
          0.28466,
          0.3040474999999999,
          0.314525,
          0.3262675,
          0.2950825,
          0.27344,
          0.303415,
          0.28917,
          0.28345,
          0.2575725,
          0.3057249999999999,
          0.25595,
          0.31282,
          0.23945,
          0.242145,
          0.3010775,
          0.2648875,
          0.29275875,
          0.3076224999999999,
          0.3088325,
          0.307375,
          0.27507625,
          0.2939275,
          0.27969625,
          0.25474,
          0.30351125,
          0.30648125,
          0.34234125,
          0.30287875,
          0.30469375,
          0.31563875,
          0.32446625,
          0.3407325,
          0.3456275,
          0.2846875,
          0.31425,
          0.320355,
          0.2954125,
          0.31656,
          0.302205,
          0.246435,
          0.304075,
          0.24638,
          0.3148,
          0.3033325,
          0.2653275,
          0.2463525,
          0.3269275,
          0.3512925,
          0.275695,
          0.322115,
          0.30424,
          0.30765,
          0.31106,
          0.31481375,
          0.2760249999999999,
          0.3070175,
          0.29974375,
          0.3183475,
          0.290545,
          0.35309375,
          0.334215,
          0.246105,
          0.2288349999999999,
          0.2230875,
          0.27487,
          0.2024625,
          0.24097625,
          0.25706375,
          0.235215,
          0.24941875,
          0.2686275,
          0.29982625,
          0.25991,
          0.1806825,
          0.203425,
          0.13484,
          0.2466825,
          0.239725,
          0.25617,
          0.248965,
          0.245445,
          0.09744,
          0.2359575,
          0.20733,
          0.2356275,
          0.2078249999999999,
          0.22944,
          0.256225,
          0.2420075,
          0.1933325,
          0.2526775,
          0.2475075,
          0.2075775,
          0.3028099999999999,
          0.28587,
          0.2363425,
          0.22416,
          0.25782,
          0.2579575,
          0.2291375,
          0.2291925,
          0.23327625,
          0.209035,
          0.1939374999999999,
          0.1557675,
          0.1132799999999999,
          0.109045,
          0.218,
          0.0077075,
          0.0083399999999999,
          0.0100999999999999,
          0.009605,
          0.0085599999999999,
          0.0085324999999999,
          0.009715,
          0.0088074999999999,
          0.00933,
          0.0091374999999999,
          0.0114199999999999,
          0.0120524999999999,
          0.0136199999999999,
          0.01520125,
          0.0176899999999999,
          0.0143899999999999,
          0.0141425,
          0.014775,
          0.0120524999999999,
          0.0079275,
          0.0121624999999999,
          0.0112275,
          0.00966,
          0.0090824999999999,
          0.0089999999999999,
          0.0053562499999999,
          0.0054524999999999,
          0.00988,
          0.0080099999999999,
          0.0102099999999999,
          0.0054799999999999,
          0.006195,
          0.0064837499999999,
          0.01646625,
          0.0148849999999999,
          0.0098525,
          0.0103199999999999,
          0.0735425,
          0.0070749999999999,
          0.009825,
          0.0093299999999999
         ]
        }
       ],
       "layout": {
        "coloraxis": {
         "colorbar": {
          "title": {
           "text": "id_clase"
          }
         },
         "colorscale": [
          [
           0,
           "#0d0887"
          ],
          [
           0.1111111111111111,
           "#46039f"
          ],
          [
           0.2222222222222222,
           "#7201a8"
          ],
          [
           0.3333333333333333,
           "#9c179e"
          ],
          [
           0.4444444444444444,
           "#bd3786"
          ],
          [
           0.5555555555555556,
           "#d8576b"
          ],
          [
           0.6666666666666666,
           "#ed7953"
          ],
          [
           0.7777777777777778,
           "#fb9f3a"
          ],
          [
           0.8888888888888888,
           "#fdca26"
          ],
          [
           1,
           "#f0f921"
          ]
         ]
        },
        "legend": {
         "tracegroupgap": 0
        },
        "margin": {
         "t": 60
        },
        "scene": {
         "domain": {
          "x": [
           0,
           1
          ],
          "y": [
           0,
           1
          ]
         },
         "xaxis": {
          "title": {
           "text": "B7"
          }
         },
         "yaxis": {
          "title": {
           "text": "B4"
          }
         },
         "zaxis": {
          "title": {
           "text": "B5"
          }
         }
        },
        "template": {
         "data": {
          "bar": [
           {
            "error_x": {
             "color": "#2a3f5f"
            },
            "error_y": {
             "color": "#2a3f5f"
            },
            "marker": {
             "line": {
              "color": "#E5ECF6",
              "width": 0.5
             },
             "pattern": {
              "fillmode": "overlay",
              "size": 10,
              "solidity": 0.2
             }
            },
            "type": "bar"
           }
          ],
          "barpolar": [
           {
            "marker": {
             "line": {
              "color": "#E5ECF6",
              "width": 0.5
             },
             "pattern": {
              "fillmode": "overlay",
              "size": 10,
              "solidity": 0.2
             }
            },
            "type": "barpolar"
           }
          ],
          "carpet": [
           {
            "aaxis": {
             "endlinecolor": "#2a3f5f",
             "gridcolor": "white",
             "linecolor": "white",
             "minorgridcolor": "white",
             "startlinecolor": "#2a3f5f"
            },
            "baxis": {
             "endlinecolor": "#2a3f5f",
             "gridcolor": "white",
             "linecolor": "white",
             "minorgridcolor": "white",
             "startlinecolor": "#2a3f5f"
            },
            "type": "carpet"
           }
          ],
          "choropleth": [
           {
            "colorbar": {
             "outlinewidth": 0,
             "ticks": ""
            },
            "type": "choropleth"
           }
          ],
          "contour": [
           {
            "colorbar": {
             "outlinewidth": 0,
             "ticks": ""
            },
            "colorscale": [
             [
              0,
              "#0d0887"
             ],
             [
              0.1111111111111111,
              "#46039f"
             ],
             [
              0.2222222222222222,
              "#7201a8"
             ],
             [
              0.3333333333333333,
              "#9c179e"
             ],
             [
              0.4444444444444444,
              "#bd3786"
             ],
             [
              0.5555555555555556,
              "#d8576b"
             ],
             [
              0.6666666666666666,
              "#ed7953"
             ],
             [
              0.7777777777777778,
              "#fb9f3a"
             ],
             [
              0.8888888888888888,
              "#fdca26"
             ],
             [
              1,
              "#f0f921"
             ]
            ],
            "type": "contour"
           }
          ],
          "contourcarpet": [
           {
            "colorbar": {
             "outlinewidth": 0,
             "ticks": ""
            },
            "type": "contourcarpet"
           }
          ],
          "heatmap": [
           {
            "colorbar": {
             "outlinewidth": 0,
             "ticks": ""
            },
            "colorscale": [
             [
              0,
              "#0d0887"
             ],
             [
              0.1111111111111111,
              "#46039f"
             ],
             [
              0.2222222222222222,
              "#7201a8"
             ],
             [
              0.3333333333333333,
              "#9c179e"
             ],
             [
              0.4444444444444444,
              "#bd3786"
             ],
             [
              0.5555555555555556,
              "#d8576b"
             ],
             [
              0.6666666666666666,
              "#ed7953"
             ],
             [
              0.7777777777777778,
              "#fb9f3a"
             ],
             [
              0.8888888888888888,
              "#fdca26"
             ],
             [
              1,
              "#f0f921"
             ]
            ],
            "type": "heatmap"
           }
          ],
          "heatmapgl": [
           {
            "colorbar": {
             "outlinewidth": 0,
             "ticks": ""
            },
            "colorscale": [
             [
              0,
              "#0d0887"
             ],
             [
              0.1111111111111111,
              "#46039f"
             ],
             [
              0.2222222222222222,
              "#7201a8"
             ],
             [
              0.3333333333333333,
              "#9c179e"
             ],
             [
              0.4444444444444444,
              "#bd3786"
             ],
             [
              0.5555555555555556,
              "#d8576b"
             ],
             [
              0.6666666666666666,
              "#ed7953"
             ],
             [
              0.7777777777777778,
              "#fb9f3a"
             ],
             [
              0.8888888888888888,
              "#fdca26"
             ],
             [
              1,
              "#f0f921"
             ]
            ],
            "type": "heatmapgl"
           }
          ],
          "histogram": [
           {
            "marker": {
             "pattern": {
              "fillmode": "overlay",
              "size": 10,
              "solidity": 0.2
             }
            },
            "type": "histogram"
           }
          ],
          "histogram2d": [
           {
            "colorbar": {
             "outlinewidth": 0,
             "ticks": ""
            },
            "colorscale": [
             [
              0,
              "#0d0887"
             ],
             [
              0.1111111111111111,
              "#46039f"
             ],
             [
              0.2222222222222222,
              "#7201a8"
             ],
             [
              0.3333333333333333,
              "#9c179e"
             ],
             [
              0.4444444444444444,
              "#bd3786"
             ],
             [
              0.5555555555555556,
              "#d8576b"
             ],
             [
              0.6666666666666666,
              "#ed7953"
             ],
             [
              0.7777777777777778,
              "#fb9f3a"
             ],
             [
              0.8888888888888888,
              "#fdca26"
             ],
             [
              1,
              "#f0f921"
             ]
            ],
            "type": "histogram2d"
           }
          ],
          "histogram2dcontour": [
           {
            "colorbar": {
             "outlinewidth": 0,
             "ticks": ""
            },
            "colorscale": [
             [
              0,
              "#0d0887"
             ],
             [
              0.1111111111111111,
              "#46039f"
             ],
             [
              0.2222222222222222,
              "#7201a8"
             ],
             [
              0.3333333333333333,
              "#9c179e"
             ],
             [
              0.4444444444444444,
              "#bd3786"
             ],
             [
              0.5555555555555556,
              "#d8576b"
             ],
             [
              0.6666666666666666,
              "#ed7953"
             ],
             [
              0.7777777777777778,
              "#fb9f3a"
             ],
             [
              0.8888888888888888,
              "#fdca26"
             ],
             [
              1,
              "#f0f921"
             ]
            ],
            "type": "histogram2dcontour"
           }
          ],
          "mesh3d": [
           {
            "colorbar": {
             "outlinewidth": 0,
             "ticks": ""
            },
            "type": "mesh3d"
           }
          ],
          "parcoords": [
           {
            "line": {
             "colorbar": {
              "outlinewidth": 0,
              "ticks": ""
             }
            },
            "type": "parcoords"
           }
          ],
          "pie": [
           {
            "automargin": true,
            "type": "pie"
           }
          ],
          "scatter": [
           {
            "fillpattern": {
             "fillmode": "overlay",
             "size": 10,
             "solidity": 0.2
            },
            "type": "scatter"
           }
          ],
          "scatter3d": [
           {
            "line": {
             "colorbar": {
              "outlinewidth": 0,
              "ticks": ""
             }
            },
            "marker": {
             "colorbar": {
              "outlinewidth": 0,
              "ticks": ""
             }
            },
            "type": "scatter3d"
           }
          ],
          "scattercarpet": [
           {
            "marker": {
             "colorbar": {
              "outlinewidth": 0,
              "ticks": ""
             }
            },
            "type": "scattercarpet"
           }
          ],
          "scattergeo": [
           {
            "marker": {
             "colorbar": {
              "outlinewidth": 0,
              "ticks": ""
             }
            },
            "type": "scattergeo"
           }
          ],
          "scattergl": [
           {
            "marker": {
             "colorbar": {
              "outlinewidth": 0,
              "ticks": ""
             }
            },
            "type": "scattergl"
           }
          ],
          "scattermapbox": [
           {
            "marker": {
             "colorbar": {
              "outlinewidth": 0,
              "ticks": ""
             }
            },
            "type": "scattermapbox"
           }
          ],
          "scatterpolar": [
           {
            "marker": {
             "colorbar": {
              "outlinewidth": 0,
              "ticks": ""
             }
            },
            "type": "scatterpolar"
           }
          ],
          "scatterpolargl": [
           {
            "marker": {
             "colorbar": {
              "outlinewidth": 0,
              "ticks": ""
             }
            },
            "type": "scatterpolargl"
           }
          ],
          "scatterternary": [
           {
            "marker": {
             "colorbar": {
              "outlinewidth": 0,
              "ticks": ""
             }
            },
            "type": "scatterternary"
           }
          ],
          "surface": [
           {
            "colorbar": {
             "outlinewidth": 0,
             "ticks": ""
            },
            "colorscale": [
             [
              0,
              "#0d0887"
             ],
             [
              0.1111111111111111,
              "#46039f"
             ],
             [
              0.2222222222222222,
              "#7201a8"
             ],
             [
              0.3333333333333333,
              "#9c179e"
             ],
             [
              0.4444444444444444,
              "#bd3786"
             ],
             [
              0.5555555555555556,
              "#d8576b"
             ],
             [
              0.6666666666666666,
              "#ed7953"
             ],
             [
              0.7777777777777778,
              "#fb9f3a"
             ],
             [
              0.8888888888888888,
              "#fdca26"
             ],
             [
              1,
              "#f0f921"
             ]
            ],
            "type": "surface"
           }
          ],
          "table": [
           {
            "cells": {
             "fill": {
              "color": "#EBF0F8"
             },
             "line": {
              "color": "white"
             }
            },
            "header": {
             "fill": {
              "color": "#C8D4E3"
             },
             "line": {
              "color": "white"
             }
            },
            "type": "table"
           }
          ]
         },
         "layout": {
          "annotationdefaults": {
           "arrowcolor": "#2a3f5f",
           "arrowhead": 0,
           "arrowwidth": 1
          },
          "autotypenumbers": "strict",
          "coloraxis": {
           "colorbar": {
            "outlinewidth": 0,
            "ticks": ""
           }
          },
          "colorscale": {
           "diverging": [
            [
             0,
             "#8e0152"
            ],
            [
             0.1,
             "#c51b7d"
            ],
            [
             0.2,
             "#de77ae"
            ],
            [
             0.3,
             "#f1b6da"
            ],
            [
             0.4,
             "#fde0ef"
            ],
            [
             0.5,
             "#f7f7f7"
            ],
            [
             0.6,
             "#e6f5d0"
            ],
            [
             0.7,
             "#b8e186"
            ],
            [
             0.8,
             "#7fbc41"
            ],
            [
             0.9,
             "#4d9221"
            ],
            [
             1,
             "#276419"
            ]
           ],
           "sequential": [
            [
             0,
             "#0d0887"
            ],
            [
             0.1111111111111111,
             "#46039f"
            ],
            [
             0.2222222222222222,
             "#7201a8"
            ],
            [
             0.3333333333333333,
             "#9c179e"
            ],
            [
             0.4444444444444444,
             "#bd3786"
            ],
            [
             0.5555555555555556,
             "#d8576b"
            ],
            [
             0.6666666666666666,
             "#ed7953"
            ],
            [
             0.7777777777777778,
             "#fb9f3a"
            ],
            [
             0.8888888888888888,
             "#fdca26"
            ],
            [
             1,
             "#f0f921"
            ]
           ],
           "sequentialminus": [
            [
             0,
             "#0d0887"
            ],
            [
             0.1111111111111111,
             "#46039f"
            ],
            [
             0.2222222222222222,
             "#7201a8"
            ],
            [
             0.3333333333333333,
             "#9c179e"
            ],
            [
             0.4444444444444444,
             "#bd3786"
            ],
            [
             0.5555555555555556,
             "#d8576b"
            ],
            [
             0.6666666666666666,
             "#ed7953"
            ],
            [
             0.7777777777777778,
             "#fb9f3a"
            ],
            [
             0.8888888888888888,
             "#fdca26"
            ],
            [
             1,
             "#f0f921"
            ]
           ]
          },
          "colorway": [
           "#636efa",
           "#EF553B",
           "#00cc96",
           "#ab63fa",
           "#FFA15A",
           "#19d3f3",
           "#FF6692",
           "#B6E880",
           "#FF97FF",
           "#FECB52"
          ],
          "font": {
           "color": "#2a3f5f"
          },
          "geo": {
           "bgcolor": "white",
           "lakecolor": "white",
           "landcolor": "#E5ECF6",
           "showlakes": true,
           "showland": true,
           "subunitcolor": "white"
          },
          "hoverlabel": {
           "align": "left"
          },
          "hovermode": "closest",
          "mapbox": {
           "style": "light"
          },
          "paper_bgcolor": "white",
          "plot_bgcolor": "#E5ECF6",
          "polar": {
           "angularaxis": {
            "gridcolor": "white",
            "linecolor": "white",
            "ticks": ""
           },
           "bgcolor": "#E5ECF6",
           "radialaxis": {
            "gridcolor": "white",
            "linecolor": "white",
            "ticks": ""
           }
          },
          "scene": {
           "xaxis": {
            "backgroundcolor": "#E5ECF6",
            "gridcolor": "white",
            "gridwidth": 2,
            "linecolor": "white",
            "showbackground": true,
            "ticks": "",
            "zerolinecolor": "white"
           },
           "yaxis": {
            "backgroundcolor": "#E5ECF6",
            "gridcolor": "white",
            "gridwidth": 2,
            "linecolor": "white",
            "showbackground": true,
            "ticks": "",
            "zerolinecolor": "white"
           },
           "zaxis": {
            "backgroundcolor": "#E5ECF6",
            "gridcolor": "white",
            "gridwidth": 2,
            "linecolor": "white",
            "showbackground": true,
            "ticks": "",
            "zerolinecolor": "white"
           }
          },
          "shapedefaults": {
           "line": {
            "color": "#2a3f5f"
           }
          },
          "ternary": {
           "aaxis": {
            "gridcolor": "white",
            "linecolor": "white",
            "ticks": ""
           },
           "baxis": {
            "gridcolor": "white",
            "linecolor": "white",
            "ticks": ""
           },
           "bgcolor": "#E5ECF6",
           "caxis": {
            "gridcolor": "white",
            "linecolor": "white",
            "ticks": ""
           }
          },
          "title": {
           "x": 0.05
          },
          "xaxis": {
           "automargin": true,
           "gridcolor": "white",
           "linecolor": "white",
           "ticks": "",
           "title": {
            "standoff": 15
           },
           "zerolinecolor": "white",
           "zerolinewidth": 2
          },
          "yaxis": {
           "automargin": true,
           "gridcolor": "white",
           "linecolor": "white",
           "ticks": "",
           "title": {
            "standoff": 15
           },
           "zerolinecolor": "white",
           "zerolinewidth": 2
          }
         }
        }
       }
      }
     },
     "metadata": {},
     "output_type": "display_data"
    }
   ],
   "source": [
    "px.scatter_3d(sitios, x = \"B7\", y = \"B4\", z = \"B5\", color = \"id_clase\", hover_data = [\"index\"])\n",
    "                          \n",
    "                        \n"
   ]
  },
  {
   "cell_type": "code",
   "execution_count": 98,
   "metadata": {},
   "outputs": [
    {
     "data": {
      "application/vnd.plotly.v1+json": {
       "config": {
        "plotlyServerURL": "https://plot.ly"
       },
       "data": [
        {
         "alignmentgroup": "True",
         "customdata": [
          [
           0
          ],
          [
           1
          ],
          [
           2
          ],
          [
           3
          ],
          [
           4
          ],
          [
           5
          ],
          [
           6
          ],
          [
           7
          ],
          [
           8
          ],
          [
           9
          ],
          [
           10
          ],
          [
           11
          ],
          [
           12
          ],
          [
           13
          ],
          [
           14
          ],
          [
           15
          ],
          [
           16
          ],
          [
           17
          ],
          [
           18
          ],
          [
           19
          ],
          [
           20
          ],
          [
           21
          ],
          [
           22
          ],
          [
           23
          ],
          [
           24
          ],
          [
           25
          ],
          [
           26
          ],
          [
           27
          ],
          [
           28
          ],
          [
           29
          ],
          [
           30
          ],
          [
           31
          ],
          [
           32
          ],
          [
           33
          ],
          [
           34
          ],
          [
           35
          ],
          [
           36
          ],
          [
           37
          ],
          [
           38
          ],
          [
           39
          ],
          [
           40
          ],
          [
           41
          ],
          [
           42
          ],
          [
           43
          ],
          [
           44
          ],
          [
           45
          ],
          [
           46
          ],
          [
           47
          ],
          [
           48
          ],
          [
           49
          ],
          [
           50
          ],
          [
           51
          ],
          [
           52
          ],
          [
           53
          ],
          [
           54
          ],
          [
           55
          ],
          [
           56
          ],
          [
           57
          ],
          [
           58
          ],
          [
           59
          ],
          [
           60
          ],
          [
           61
          ],
          [
           62
          ],
          [
           63
          ],
          [
           64
          ],
          [
           65
          ],
          [
           66
          ],
          [
           67
          ],
          [
           68
          ],
          [
           69
          ],
          [
           70
          ],
          [
           71
          ],
          [
           72
          ],
          [
           73
          ],
          [
           74
          ],
          [
           75
          ],
          [
           76
          ],
          [
           77
          ],
          [
           78
          ],
          [
           79
          ],
          [
           80
          ],
          [
           81
          ],
          [
           82
          ],
          [
           83
          ],
          [
           84
          ],
          [
           85
          ],
          [
           86
          ],
          [
           87
          ],
          [
           88
          ],
          [
           89
          ],
          [
           90
          ],
          [
           91
          ],
          [
           92
          ],
          [
           93
          ],
          [
           94
          ],
          [
           95
          ],
          [
           96
          ],
          [
           97
          ],
          [
           98
          ],
          [
           99
          ],
          [
           100
          ],
          [
           101
          ],
          [
           102
          ],
          [
           103
          ],
          [
           104
          ],
          [
           105
          ],
          [
           106
          ],
          [
           107
          ],
          [
           108
          ],
          [
           109
          ],
          [
           110
          ],
          [
           111
          ],
          [
           112
          ],
          [
           113
          ],
          [
           114
          ],
          [
           115
          ],
          [
           116
          ],
          [
           117
          ],
          [
           118
          ],
          [
           119
          ],
          [
           120
          ],
          [
           121
          ],
          [
           122
          ],
          [
           123
          ],
          [
           124
          ],
          [
           125
          ],
          [
           126
          ],
          [
           127
          ],
          [
           128
          ],
          [
           129
          ],
          [
           130
          ],
          [
           131
          ],
          [
           132
          ],
          [
           133
          ],
          [
           134
          ],
          [
           135
          ],
          [
           136
          ],
          [
           137
          ],
          [
           138
          ],
          [
           139
          ],
          [
           140
          ],
          [
           141
          ],
          [
           142
          ],
          [
           143
          ],
          [
           144
          ],
          [
           145
          ],
          [
           146
          ],
          [
           147
          ],
          [
           148
          ],
          [
           149
          ],
          [
           150
          ],
          [
           151
          ],
          [
           152
          ],
          [
           153
          ],
          [
           154
          ],
          [
           155
          ],
          [
           156
          ],
          [
           157
          ],
          [
           158
          ],
          [
           159
          ],
          [
           160
          ],
          [
           161
          ],
          [
           162
          ],
          [
           163
          ],
          [
           164
          ],
          [
           165
          ],
          [
           166
          ],
          [
           167
          ],
          [
           168
          ],
          [
           169
          ],
          [
           170
          ],
          [
           171
          ],
          [
           172
          ],
          [
           173
          ],
          [
           174
          ],
          [
           175
          ],
          [
           176
          ],
          [
           177
          ],
          [
           178
          ],
          [
           179
          ],
          [
           180
          ],
          [
           181
          ],
          [
           182
          ],
          [
           183
          ],
          [
           184
          ],
          [
           185
          ],
          [
           186
          ],
          [
           187
          ],
          [
           188
          ],
          [
           189
          ],
          [
           190
          ],
          [
           191
          ],
          [
           192
          ],
          [
           193
          ],
          [
           194
          ],
          [
           195
          ],
          [
           196
          ],
          [
           197
          ],
          [
           198
          ],
          [
           199
          ],
          [
           200
          ],
          [
           201
          ],
          [
           202
          ],
          [
           203
          ],
          [
           204
          ],
          [
           205
          ],
          [
           206
          ],
          [
           207
          ],
          [
           208
          ],
          [
           209
          ],
          [
           210
          ],
          [
           211
          ],
          [
           212
          ],
          [
           213
          ],
          [
           214
          ],
          [
           215
          ],
          [
           216
          ],
          [
           217
          ],
          [
           218
          ],
          [
           219
          ],
          [
           220
          ],
          [
           221
          ],
          [
           222
          ],
          [
           223
          ],
          [
           224
          ],
          [
           225
          ],
          [
           226
          ],
          [
           227
          ],
          [
           228
          ],
          [
           229
          ],
          [
           230
          ],
          [
           231
          ],
          [
           232
          ],
          [
           233
          ],
          [
           234
          ],
          [
           235
          ],
          [
           236
          ],
          [
           237
          ],
          [
           238
          ],
          [
           239
          ],
          [
           240
          ],
          [
           241
          ],
          [
           242
          ],
          [
           243
          ],
          [
           244
          ],
          [
           245
          ],
          [
           246
          ],
          [
           247
          ],
          [
           248
          ],
          [
           249
          ],
          [
           250
          ],
          [
           251
          ],
          [
           252
          ],
          [
           253
          ],
          [
           254
          ],
          [
           255
          ],
          [
           256
          ],
          [
           257
          ],
          [
           258
          ],
          [
           259
          ],
          [
           260
          ],
          [
           262
          ],
          [
           263
          ],
          [
           264
          ],
          [
           265
          ],
          [
           266
          ],
          [
           267
          ],
          [
           268
          ],
          [
           269
          ],
          [
           270
          ],
          [
           271
          ],
          [
           272
          ],
          [
           273
          ],
          [
           274
          ],
          [
           275
          ],
          [
           276
          ],
          [
           277
          ],
          [
           278
          ],
          [
           279
          ],
          [
           280
          ],
          [
           281
          ],
          [
           282
          ],
          [
           283
          ],
          [
           284
          ],
          [
           285
          ],
          [
           286
          ],
          [
           287
          ],
          [
           288
          ],
          [
           289
          ],
          [
           290
          ],
          [
           291
          ],
          [
           292
          ],
          [
           293
          ],
          [
           294
          ],
          [
           295
          ],
          [
           296
          ],
          [
           297
          ],
          [
           298
          ],
          [
           299
          ],
          [
           300
          ],
          [
           301
          ],
          [
           302
          ],
          [
           303
          ],
          [
           304
          ],
          [
           305
          ],
          [
           306
          ],
          [
           307
          ],
          [
           308
          ],
          [
           309
          ],
          [
           310
          ],
          [
           311
          ],
          [
           312
          ],
          [
           313
          ],
          [
           314
          ],
          [
           315
          ],
          [
           316
          ],
          [
           317
          ],
          [
           318
          ],
          [
           319
          ],
          [
           320
          ],
          [
           321
          ],
          [
           322
          ],
          [
           323
          ],
          [
           324
          ],
          [
           325
          ],
          [
           326
          ],
          [
           327
          ],
          [
           328
          ],
          [
           329
          ],
          [
           330
          ],
          [
           331
          ],
          [
           332
          ],
          [
           333
          ],
          [
           334
          ],
          [
           335
          ],
          [
           336
          ],
          [
           337
          ],
          [
           338
          ],
          [
           339
          ],
          [
           340
          ],
          [
           341
          ],
          [
           342
          ],
          [
           343
          ],
          [
           344
          ],
          [
           345
          ],
          [
           346
          ],
          [
           347
          ],
          [
           348
          ],
          [
           349
          ],
          [
           350
          ],
          [
           351
          ],
          [
           352
          ],
          [
           353
          ],
          [
           354
          ],
          [
           355
          ],
          [
           356
          ],
          [
           357
          ],
          [
           358
          ],
          [
           359
          ],
          [
           360
          ],
          [
           361
          ],
          [
           362
          ],
          [
           363
          ],
          [
           364
          ],
          [
           365
          ],
          [
           366
          ],
          [
           367
          ],
          [
           368
          ],
          [
           369
          ],
          [
           370
          ],
          [
           371
          ],
          [
           372
          ],
          [
           373
          ],
          [
           374
          ],
          [
           375
          ],
          [
           376
          ],
          [
           377
          ],
          [
           378
          ],
          [
           379
          ],
          [
           380
          ],
          [
           381
          ],
          [
           382
          ],
          [
           383
          ],
          [
           384
          ],
          [
           385
          ],
          [
           386
          ],
          [
           387
          ],
          [
           388
          ],
          [
           389
          ],
          [
           390
          ],
          [
           391
          ],
          [
           392
          ],
          [
           393
          ],
          [
           394
          ],
          [
           395
          ],
          [
           396
          ],
          [
           397
          ],
          [
           398
          ],
          [
           399
          ],
          [
           400
          ],
          [
           401
          ],
          [
           402
          ],
          [
           403
          ],
          [
           404
          ],
          [
           405
          ],
          [
           406
          ],
          [
           407
          ],
          [
           408
          ],
          [
           409
          ],
          [
           410
          ],
          [
           411
          ],
          [
           412
          ],
          [
           413
          ],
          [
           414
          ],
          [
           415
          ],
          [
           416
          ],
          [
           417
          ],
          [
           418
          ],
          [
           419
          ],
          [
           420
          ],
          [
           421
          ],
          [
           422
          ],
          [
           423
          ],
          [
           424
          ],
          [
           425
          ],
          [
           426
          ],
          [
           427
          ],
          [
           428
          ],
          [
           429
          ],
          [
           430
          ],
          [
           431
          ],
          [
           432
          ],
          [
           433
          ],
          [
           434
          ],
          [
           435
          ],
          [
           436
          ],
          [
           437
          ],
          [
           438
          ],
          [
           439
          ],
          [
           440
          ],
          [
           441
          ],
          [
           442
          ],
          [
           443
          ],
          [
           444
          ],
          [
           445
          ],
          [
           446
          ],
          [
           447
          ],
          [
           448
          ],
          [
           449
          ],
          [
           450
          ],
          [
           451
          ],
          [
           452
          ],
          [
           453
          ],
          [
           454
          ],
          [
           455
          ],
          [
           456
          ],
          [
           457
          ],
          [
           458
          ],
          [
           459
          ],
          [
           460
          ],
          [
           461
          ],
          [
           462
          ],
          [
           463
          ],
          [
           464
          ],
          [
           465
          ],
          [
           466
          ],
          [
           467
          ],
          [
           468
          ],
          [
           469
          ],
          [
           470
          ],
          [
           471
          ],
          [
           472
          ],
          [
           473
          ],
          [
           474
          ],
          [
           475
          ],
          [
           476
          ],
          [
           477
          ],
          [
           478
          ],
          [
           479
          ],
          [
           480
          ],
          [
           481
          ],
          [
           482
          ],
          [
           483
          ],
          [
           484
          ],
          [
           485
          ],
          [
           486
          ],
          [
           487
          ],
          [
           488
          ],
          [
           489
          ],
          [
           490
          ],
          [
           491
          ],
          [
           492
          ],
          [
           493
          ],
          [
           494
          ],
          [
           495
          ],
          [
           496
          ],
          [
           497
          ],
          [
           498
          ],
          [
           499
          ],
          [
           500
          ],
          [
           501
          ],
          [
           502
          ],
          [
           503
          ],
          [
           504
          ],
          [
           505
          ],
          [
           506
          ],
          [
           507
          ],
          [
           508
          ],
          [
           509
          ],
          [
           510
          ],
          [
           511
          ],
          [
           512
          ],
          [
           513
          ],
          [
           514
          ],
          [
           515
          ],
          [
           516
          ],
          [
           517
          ],
          [
           518
          ],
          [
           519
          ],
          [
           520
          ],
          [
           521
          ],
          [
           522
          ],
          [
           523
          ],
          [
           524
          ],
          [
           525
          ],
          [
           526
          ],
          [
           527
          ],
          [
           528
          ],
          [
           529
          ],
          [
           530
          ],
          [
           531
          ],
          [
           532
          ],
          [
           533
          ],
          [
           534
          ],
          [
           535
          ],
          [
           536
          ],
          [
           537
          ],
          [
           538
          ],
          [
           539
          ],
          [
           540
          ],
          [
           541
          ],
          [
           542
          ],
          [
           543
          ],
          [
           544
          ],
          [
           545
          ],
          [
           546
          ],
          [
           547
          ],
          [
           548
          ],
          [
           549
          ],
          [
           550
          ],
          [
           551
          ],
          [
           552
          ],
          [
           553
          ],
          [
           554
          ],
          [
           555
          ],
          [
           556
          ],
          [
           557
          ],
          [
           558
          ],
          [
           559
          ],
          [
           560
          ],
          [
           561
          ],
          [
           562
          ],
          [
           563
          ],
          [
           564
          ],
          [
           565
          ],
          [
           566
          ],
          [
           567
          ],
          [
           568
          ],
          [
           569
          ],
          [
           570
          ],
          [
           571
          ],
          [
           573
          ],
          [
           574
          ],
          [
           575
          ],
          [
           576
          ],
          [
           577
          ],
          [
           578
          ],
          [
           579
          ],
          [
           580
          ],
          [
           581
          ],
          [
           582
          ],
          [
           583
          ],
          [
           584
          ],
          [
           585
          ],
          [
           586
          ],
          [
           587
          ],
          [
           588
          ],
          [
           589
          ],
          [
           590
          ],
          [
           591
          ],
          [
           592
          ],
          [
           593
          ],
          [
           594
          ],
          [
           595
          ],
          [
           596
          ],
          [
           597
          ],
          [
           598
          ],
          [
           599
          ],
          [
           600
          ],
          [
           601
          ],
          [
           602
          ],
          [
           603
          ],
          [
           604
          ],
          [
           605
          ],
          [
           606
          ],
          [
           607
          ],
          [
           608
          ],
          [
           609
          ],
          [
           610
          ],
          [
           611
          ],
          [
           612
          ],
          [
           613
          ],
          [
           614
          ],
          [
           615
          ],
          [
           616
          ],
          [
           617
          ],
          [
           618
          ],
          [
           619
          ],
          [
           620
          ],
          [
           621
          ],
          [
           622
          ],
          [
           623
          ],
          [
           624
          ],
          [
           625
          ],
          [
           626
          ],
          [
           627
          ],
          [
           628
          ],
          [
           629
          ],
          [
           630
          ],
          [
           631
          ],
          [
           632
          ],
          [
           633
          ],
          [
           634
          ],
          [
           635
          ],
          [
           636
          ],
          [
           637
          ],
          [
           638
          ],
          [
           639
          ],
          [
           640
          ],
          [
           641
          ],
          [
           642
          ],
          [
           643
          ],
          [
           644
          ],
          [
           645
          ],
          [
           646
          ],
          [
           647
          ],
          [
           648
          ],
          [
           649
          ],
          [
           650
          ],
          [
           651
          ],
          [
           652
          ],
          [
           653
          ],
          [
           654
          ],
          [
           655
          ],
          [
           656
          ],
          [
           657
          ],
          [
           658
          ],
          [
           659
          ],
          [
           660
          ],
          [
           661
          ],
          [
           662
          ],
          [
           663
          ],
          [
           664
          ],
          [
           665
          ],
          [
           666
          ],
          [
           667
          ],
          [
           668
          ],
          [
           669
          ],
          [
           670
          ],
          [
           671
          ],
          [
           672
          ],
          [
           673
          ],
          [
           674
          ],
          [
           675
          ],
          [
           676
          ],
          [
           677
          ],
          [
           678
          ],
          [
           679
          ],
          [
           680
          ],
          [
           681
          ],
          [
           682
          ],
          [
           683
          ],
          [
           684
          ],
          [
           685
          ],
          [
           686
          ],
          [
           687
          ],
          [
           688
          ]
         ],
         "hovertemplate": "B2=%{y}<br>index=%{customdata[0]}<extra></extra>",
         "legendgroup": "",
         "marker": {
          "color": "#636efa"
         },
         "name": "",
         "notched": false,
         "offsetgroup": "",
         "orientation": "v",
         "showlegend": false,
         "type": "box",
         "x0": " ",
         "xaxis": "x",
         "y": [
          0.0049025,
          0.0051225,
          0.0051225,
          0.0046549999999999,
          0.0046549999999999,
          0.0053425,
          0.0053425,
          0.0046549999999999,
          0.0055899999999999,
          0.0037474999999999,
          0.0037474999999999,
          0.0039124999999999,
          0.0039124999999999,
          0.0039124999999999,
          0.0039124999999999,
          0.0041599999999999,
          0.0041599999999999,
          0.0045175,
          0.0045175,
          0.0045175,
          0.0045175,
          0.0045999999999999,
          0.0041874999999999,
          0.0043249999999999,
          0.0028949999999999,
          0.0033625,
          0.0038574999999999,
          0.0045312499999999,
          0.0037887499999999,
          0.0034999999999999,
          0.0033625,
          0.0039812499999999,
          0.0040087499999999,
          0.0042699999999999,
          0.0027024999999999,
          0.0046687499999999,
          0.0048062499999999,
          0.0039262499999999,
          0.003335,
          0.003335,
          0.0035962499999999,
          0.0035962499999999,
          0.003335,
          0.0039262499999999,
          0.0057549999999999,
          0.0073775,
          0.0076525,
          0.0071849999999999,
          0.0068274999999999,
          0.0061124999999999,
          0.0076525,
          0.0071849999999999,
          0.0071574999999999,
          0.0076249999999999,
          0.006635,
          0.0064424999999999,
          0.0270674999999999,
          0.0270674999999999,
          0.027425,
          0.027425,
          0.0271224999999999,
          0.0271224999999999,
          0.0281124999999999,
          0.026875,
          0.0262425,
          0.0271224999999999,
          0.0265999999999999,
          0.0272874999999999,
          0.02715,
          0.02715,
          0.0286349999999999,
          0.02814,
          0.02814,
          0.0299824999999999,
          0.0289925,
          0.0289925,
          0.0287175,
          0.0271774999999999,
          0.0278374999999999,
          0.13625625,
          0.13625625,
          0.11196,
          0.1226849999999999,
          0.13055,
          0.1118775,
          0.1118775,
          0.1166075,
          0.10886625,
          0.1166075,
          0.10886625,
          0.11670375,
          0.137865,
          0.1105025,
          0.1703974999999999,
          0.0026337499999999,
          0.0034587499999999,
          0.00383,
          0.0026337499999999,
          0.0034587499999999,
          0.00383,
          0.0038987499999999,
          0.0058374999999999,
          0.0046687499999999,
          0.00614,
          0.0055624999999999,
          0.00431125,
          0.0059475,
          0.0049575,
          0.0047787499999999,
          0.0068274999999999,
          0.0064287499999999,
          0.0053287499999999,
          0.0050949999999999,
          0.0055899999999999,
          0.0052599999999999,
          0.0050399999999999,
          0.0049025,
          0.0050399999999999,
          0.0055487499999999,
          0.0045449999999999,
          0.0049712499999999,
          0.0044762499999999,
          0.0042975,
          0.0038574999999999,
          0.0026337499999999,
          0.0057137499999999,
          0.00414625,
          0.0046137499999999,
          0.0054112499999999,
          0.0025374999999999,
          0.00372,
          0.0022899999999999,
          0.0041874999999999,
          0.0025924999999999,
          0.0028949999999999,
          0.003115,
          0.0042149999999999,
          0.00455875,
          0.0045724999999999,
          0.0049299999999999,
          0.00306,
          0.0050399999999999,
          0.0035137499999999,
          0.0050675,
          0.0051774999999999,
          0.0046,
          0.0040499999999999,
          0.0047925,
          0.0041599999999999,
          0.0047512499999999,
          0.0045174999999999,
          0.0047512499999999,
          0.003775,
          0.0048749999999999,
          0.0041324999999999,
          0.00361,
          0.0030324999999999,
          0.0046,
          0.0047099999999999,
          0.0050125,
          0.0050675,
          0.00425625,
          0.0039949999999999,
          0.00535625,
          0.0044762499999999,
          0.0052049999999999,
          0.0053562499999999,
          0.0049712499999999,
          0.0035825,
          0.0042975,
          0.0043525,
          0.0026337499999999,
          0.0015199999999999,
          0.0017537499999999,
          0.0004474999999999,
          0.0017949999999999,
          0.0014099999999999,
          0.0054524999999999,
          0.0048749999999999,
          0.0048199999999999,
          0.0032249999999999,
          0.0052325,
          0.00433875,
          0.0047512499999999,
          0.0046549999999999,
          0.0042975,
          0.0033074999999999,
          0.0039949999999999,
          0.00395375,
          0.0036512499999999,
          0.0053149999999999,
          0.0036649999999999,
          0.0039674999999999,
          0.0053974999999999,
          0.0055074999999999,
          0.0046549999999999,
          0.0055624999999999,
          0.003665,
          0.0039949999999999,
          0.0049025,
          0.0039399999999999,
          0.00372,
          0.003775,
          0.0032524999999999,
          0.00361,
          0.0027574999999999,
          0.0033762499999999,
          0.0017537499999999,
          0.0038849999999999,
          0.0021799999999999,
          0.0026749999999999,
          0.00383,
          0.00361,
          0.0037474999999999,
          0.0038849999999999,
          0.0046275,
          0.0048749999999999,
          0.0037887499999999,
          0.0055624999999999,
          0.0043525,
          0.0035,
          0.0042699999999999,
          0.0014649999999999,
          0.0042699999999999,
          0.0034724999999999,
          0.0045725,
          0.0030874999999999,
          0.0056449999999999,
          0.0019599999999999,
          0.0051499999999999,
          0.0050949999999999,
          0.0042699999999999,
          0.0002824999999999,
          0.0019875,
          0.0035824999999999,
          0.0053425,
          0.0021525,
          0.0041874999999999,
          0.0013137499999999,
          -0.0016975,
          0.0037337499999999,
          0.0021799999999999,
          0.0018225,
          0.0020975,
          -0.0001299999999999,
          0.0046275,
          0.00117625,
          -0.00167,
          0.0036924999999999,
          0.0142112499999999,
          0.0129737499999999,
          0.0118599999999999,
          0.0110212499999999,
          0.0148849999999999,
          0.0120112499999999,
          0.01052625,
          0.0117774999999999,
          0.0153524999999999,
          0.0148574999999999,
          0.01052625,
          0.0118324999999999,
          0.0136749999999999,
          0.0149262499999999,
          0.0148024999999999,
          0.0160949999999999,
          0.0153524999999999,
          0.0176349999999999,
          0.0161362499999999,
          0.0138124999999999,
          0.0138675,
          0.01593,
          0.0159162499999999,
          0.0154074999999999,
          0.0163149999999999,
          0.0144999999999999,
          0.0155037499999999,
          0.0159437499999999,
          0.0172637499999999,
          0.0101549999999999,
          0.0108974999999999,
          0.0150774999999999,
          0.0163975,
          0.0132487499999999,
          0.0111862499999999,
          0.0130287499999999,
          0.01285,
          0.0110899999999999,
          0.0106225,
          0.0111725,
          0.0098524999999999,
          0.0106225,
          0.0115987499999999,
          0.0068824999999999,
          0.0073225,
          0.0105537499999999,
          0.0085874999999999,
          0.0110074999999999,
          0.01036125,
          0.00933,
          0.0059199999999999,
          0.00744625,
          0.0094812499999999,
          0.006745,
          0.0079274999999999,
          0.00912375,
          0.0108012499999999,
          0.0111725,
          0.0129874999999999,
          0.0122174999999999,
          0.0086424999999999,
          0.00739125,
          0.0076525,
          0.006305,
          0.0077899999999999,
          0.006415,
          0.0080924999999999,
          0.0105124999999999,
          0.0117224999999999,
          0.0118324999999999,
          0.0110625,
          0.0105124999999999,
          0.0102649999999999,
          0.009935,
          0.005975,
          0.0078449999999999,
          0.0108149999999999,
          0.0098112499999999,
          0.0105399999999999,
          0.0107599999999999,
          0.00614,
          0.0103749999999999,
          0.0081475,
          0.0083949999999999,
          0.0096874999999999,
          0.0083399999999999,
          0.008835,
          0.0063874999999999,
          0.0108287499999999,
          0.00915125,
          0.0095225,
          0.00747375,
          0.0075425,
          0.009935,
          0.0086149999999999,
          0.0073775,
          0.0063187499999999,
          0.01060875,
          0.0120249999999999,
          0.0088487499999999,
          0.0054799999999999,
          0.0080099999999999,
          0.00823,
          0.0100449999999999,
          0.0102925,
          0.0082025,
          0.0086699999999999,
          0.0106499999999999,
          0.0096324999999999,
          0.0068274999999999,
          0.0132624999999999,
          0.0096874999999999,
          0.0105949999999999,
          0.00603,
          0.011035,
          0.0098524999999999,
          0.0084499999999999,
          0.0082299999999999,
          0.0081749999999999,
          0.009275,
          0.00593375,
          0.0086837499999999,
          0.0088624999999999,
          0.0102925,
          0.0073775,
          0.0093574999999999,
          0.0075699999999999,
          0.0100449999999999,
          0.006745,
          0.006745,
          0.0086424999999999,
          0.0080649999999999,
          0.0124374999999999,
          0.0084087499999999,
          0.00944,
          0.0119149999999999,
          0.0132899999999999,
          0.01476125,
          0.01217625,
          0.0141974999999999,
          0.0149399999999999,
          0.0113649999999999,
          0.0080649999999999,
          0.0118324999999999,
          0.0078999999999999,
          0.0153524999999999,
          0.0159575,
          0.0141425,
          0.0149674999999999,
          0.0173875,
          0.0152425,
          0.01494,
          0.01549,
          0.0122587499999999,
          0.013785,
          0.0142387499999999,
          0.0145824999999999,
          0.0111449999999999,
          0.027645,
          0.0345475,
          0.02682,
          0.0236299999999999,
          0.0287999999999999,
          0.0321275,
          0.0325125,
          0.026875,
          0.0298174999999999,
          0.0305874999999999,
          0.0346162499999999,
          0.0351937499999999,
          0.0344512499999999,
          0.02693,
          0.0348225,
          0.02803,
          0.0296249999999999,
          0.0281124999999999,
          0.0287175,
          0.0287175,
          0.0305874999999999,
          0.0291575,
          0.0288825,
          0.0282499999999999,
          0.0290199999999999,
          0.027755,
          0.0265999999999999,
          0.0289925,
          0.0322375,
          0.0294049999999999,
          0.0344649999999999,
          0.0250874999999999,
          0.0282499999999999,
          0.027205,
          0.0290475,
          0.02726,
          0.0324575,
          0.03126125,
          0.02506,
          0.0303124999999999,
          0.0320999999999999,
          0.0202749999999999,
          0.0211824999999999,
          0.022695,
          0.023905,
          0.02341,
          0.0205775,
          0.0210174999999999,
          0.0211274999999999,
          0.0203575,
          0.0314537499999999,
          0.038865,
          0.03494625,
          0.034905,
          0.03544125,
          0.0377924999999999,
          0.03243,
          0.030725,
          0.03189375,
          0.0424674999999999,
          0.03947,
          0.0394424999999999,
          0.0398412499999999,
          0.0386175,
          0.03331,
          0.0317149999999999,
          0.0357575,
          0.04321,
          0.0220899999999999,
          0.0192299999999999,
          0.0177999999999999,
          0.0206462499999999,
          0.0194499999999999,
          0.020275,
          0.0189,
          0.020825,
          0.01813,
          0.0323337499999999,
          0.0310275,
          0.0352212499999999,
          0.03654125,
          0.0411887499999999,
          0.0300924999999999,
          0.03032625,
          0.03727,
          0.036005,
          0.033585,
          0.0313575,
          0.0307662499999999,
          0.0321274999999999,
          0.0297349999999999,
          0.03078,
          0.03012,
          0.0315499999999999,
          0.03293875,
          0.03489125,
          0.0256099999999999,
          0.0290474999999999,
          0.0289649999999999,
          0.0309724999999999,
          0.0328837499999999,
          0.036335,
          0.028855,
          0.0245787499999999,
          0.03343375,
          0.0335849999999999,
          0.0342587499999999,
          0.0377099999999999,
          0.0369124999999999,
          0.0365549999999999,
          0.0270674999999999,
          0.0356199999999999,
          0.0355925,
          0.0387412499999999,
          0.0409824999999999,
          0.0341487499999999,
          0.0368575,
          0.0315499999999999,
          0.0388787499999999,
          0.02748,
          0.0313849999999999,
          0.030175,
          0.034245,
          0.0564375,
          0.04798125,
          0.0584725,
          0.06082375,
          0.049205,
          0.0546774999999999,
          0.0532475,
          0.0562449999999999,
          0.05597,
          0.06349125,
          0.05832125,
          0.05133625,
          0.0528899999999999,
          0.0545674999999999,
          0.0491774999999999,
          0.0618274999999999,
          0.0530275,
          0.05773,
          0.0580324999999999,
          0.06136,
          0.04574,
          0.044915,
          0.0486274999999999,
          0.0472249999999999,
          0.0564375,
          0.04663375,
          0.05295875,
          0.05284875,
          0.0483799999999999,
          0.0473899999999999,
          0.0778325,
          0.05383875,
          0.0562449999999999,
          0.06109875,
          0.05260125,
          0.0625699999999999,
          0.0616762499999999,
          0.0571112499999999,
          0.06684625,
          0.07396875,
          0.05762,
          0.0496725,
          0.0548975,
          0.0676025,
          0.0481049999999999,
          0.05168,
          0.042825,
          0.05553,
          0.0472799999999999,
          0.0346299999999999,
          0.053935,
          0.04646875,
          0.05609375,
          0.0620474999999999,
          0.0566849999999999,
          0.0537974999999999,
          0.0483524999999999,
          0.0713975,
          0.0712324999999999,
          0.0604525,
          0.0586099999999999,
          0.05372875,
          0.0519962499999999,
          0.0530824999999999,
          0.0603699999999999,
          0.0508,
          0.0463725,
          0.0495074999999999,
          0.0592425,
          0.082865,
          0.0575374999999999,
          0.0676575,
          0.10471375,
          0.0695687499999999,
          0.06701125,
          0.08037625,
          0.109045,
          0.1091137499999999,
          0.10668,
          0.1932225,
          0.0843775,
          0.08589,
          0.0651275,
          0.0749175,
          0.0956524999999999,
          0.08776,
          0.0743674999999999,
          0.094855,
          0.1109425,
          0.0580875,
          0.1169237499999999,
          0.0751375,
          0.0601774999999999,
          0.08633,
          0.09924125,
          0.09970875,
          0.0724974999999999,
          0.0889424999999999,
          0.08182,
          0.0643575,
          0.060755,
          0.0629275,
          0.1141599999999999,
          0.1078624999999999,
          0.06939,
          0.0954049999999999,
          0.0666125,
          0.0777224999999999,
          0.10613,
          0.08686625,
          0.0716724999999999,
          0.078685,
          0.0750825,
          0.076815,
          0.0707375,
          0.0563549999999999,
          0.0113925,
          0.0134825,
          0.0135925,
          0.0138675,
          0.01208,
          0.01197,
          0.0130974999999999,
          0.0146374999999999,
          0.0165625,
          0.01582,
          0.0161499999999999,
          0.0171399999999999,
          0.0161499999999999,
          0.0171812499999999,
          0.0172775,
          0.0157374999999999,
          0.0153524999999999,
          0.0162875,
          0.0181574999999999,
          0.0173875,
          0.0133175,
          0.0143899999999999,
          0.0129874999999999,
          0.0130699999999999,
          0.0079137499999999,
          0.0062775,
          0.004875,
          0.009715,
          0.0109249999999999,
          0.0105125,
          0.0055212499999999,
          0.0074049999999999,
          0.0081475,
          0.007515,
          0.00675875,
          0.00739125,
          0.0072399999999999,
          0.0108149999999999,
          0.0038574999999999,
          0.0076249999999999,
          0.0085599999999999
         ],
         "y0": " ",
         "yaxis": "y"
        }
       ],
       "layout": {
        "boxmode": "group",
        "legend": {
         "tracegroupgap": 0
        },
        "margin": {
         "t": 60
        },
        "template": {
         "data": {
          "bar": [
           {
            "error_x": {
             "color": "#2a3f5f"
            },
            "error_y": {
             "color": "#2a3f5f"
            },
            "marker": {
             "line": {
              "color": "#E5ECF6",
              "width": 0.5
             },
             "pattern": {
              "fillmode": "overlay",
              "size": 10,
              "solidity": 0.2
             }
            },
            "type": "bar"
           }
          ],
          "barpolar": [
           {
            "marker": {
             "line": {
              "color": "#E5ECF6",
              "width": 0.5
             },
             "pattern": {
              "fillmode": "overlay",
              "size": 10,
              "solidity": 0.2
             }
            },
            "type": "barpolar"
           }
          ],
          "carpet": [
           {
            "aaxis": {
             "endlinecolor": "#2a3f5f",
             "gridcolor": "white",
             "linecolor": "white",
             "minorgridcolor": "white",
             "startlinecolor": "#2a3f5f"
            },
            "baxis": {
             "endlinecolor": "#2a3f5f",
             "gridcolor": "white",
             "linecolor": "white",
             "minorgridcolor": "white",
             "startlinecolor": "#2a3f5f"
            },
            "type": "carpet"
           }
          ],
          "choropleth": [
           {
            "colorbar": {
             "outlinewidth": 0,
             "ticks": ""
            },
            "type": "choropleth"
           }
          ],
          "contour": [
           {
            "colorbar": {
             "outlinewidth": 0,
             "ticks": ""
            },
            "colorscale": [
             [
              0,
              "#0d0887"
             ],
             [
              0.1111111111111111,
              "#46039f"
             ],
             [
              0.2222222222222222,
              "#7201a8"
             ],
             [
              0.3333333333333333,
              "#9c179e"
             ],
             [
              0.4444444444444444,
              "#bd3786"
             ],
             [
              0.5555555555555556,
              "#d8576b"
             ],
             [
              0.6666666666666666,
              "#ed7953"
             ],
             [
              0.7777777777777778,
              "#fb9f3a"
             ],
             [
              0.8888888888888888,
              "#fdca26"
             ],
             [
              1,
              "#f0f921"
             ]
            ],
            "type": "contour"
           }
          ],
          "contourcarpet": [
           {
            "colorbar": {
             "outlinewidth": 0,
             "ticks": ""
            },
            "type": "contourcarpet"
           }
          ],
          "heatmap": [
           {
            "colorbar": {
             "outlinewidth": 0,
             "ticks": ""
            },
            "colorscale": [
             [
              0,
              "#0d0887"
             ],
             [
              0.1111111111111111,
              "#46039f"
             ],
             [
              0.2222222222222222,
              "#7201a8"
             ],
             [
              0.3333333333333333,
              "#9c179e"
             ],
             [
              0.4444444444444444,
              "#bd3786"
             ],
             [
              0.5555555555555556,
              "#d8576b"
             ],
             [
              0.6666666666666666,
              "#ed7953"
             ],
             [
              0.7777777777777778,
              "#fb9f3a"
             ],
             [
              0.8888888888888888,
              "#fdca26"
             ],
             [
              1,
              "#f0f921"
             ]
            ],
            "type": "heatmap"
           }
          ],
          "heatmapgl": [
           {
            "colorbar": {
             "outlinewidth": 0,
             "ticks": ""
            },
            "colorscale": [
             [
              0,
              "#0d0887"
             ],
             [
              0.1111111111111111,
              "#46039f"
             ],
             [
              0.2222222222222222,
              "#7201a8"
             ],
             [
              0.3333333333333333,
              "#9c179e"
             ],
             [
              0.4444444444444444,
              "#bd3786"
             ],
             [
              0.5555555555555556,
              "#d8576b"
             ],
             [
              0.6666666666666666,
              "#ed7953"
             ],
             [
              0.7777777777777778,
              "#fb9f3a"
             ],
             [
              0.8888888888888888,
              "#fdca26"
             ],
             [
              1,
              "#f0f921"
             ]
            ],
            "type": "heatmapgl"
           }
          ],
          "histogram": [
           {
            "marker": {
             "pattern": {
              "fillmode": "overlay",
              "size": 10,
              "solidity": 0.2
             }
            },
            "type": "histogram"
           }
          ],
          "histogram2d": [
           {
            "colorbar": {
             "outlinewidth": 0,
             "ticks": ""
            },
            "colorscale": [
             [
              0,
              "#0d0887"
             ],
             [
              0.1111111111111111,
              "#46039f"
             ],
             [
              0.2222222222222222,
              "#7201a8"
             ],
             [
              0.3333333333333333,
              "#9c179e"
             ],
             [
              0.4444444444444444,
              "#bd3786"
             ],
             [
              0.5555555555555556,
              "#d8576b"
             ],
             [
              0.6666666666666666,
              "#ed7953"
             ],
             [
              0.7777777777777778,
              "#fb9f3a"
             ],
             [
              0.8888888888888888,
              "#fdca26"
             ],
             [
              1,
              "#f0f921"
             ]
            ],
            "type": "histogram2d"
           }
          ],
          "histogram2dcontour": [
           {
            "colorbar": {
             "outlinewidth": 0,
             "ticks": ""
            },
            "colorscale": [
             [
              0,
              "#0d0887"
             ],
             [
              0.1111111111111111,
              "#46039f"
             ],
             [
              0.2222222222222222,
              "#7201a8"
             ],
             [
              0.3333333333333333,
              "#9c179e"
             ],
             [
              0.4444444444444444,
              "#bd3786"
             ],
             [
              0.5555555555555556,
              "#d8576b"
             ],
             [
              0.6666666666666666,
              "#ed7953"
             ],
             [
              0.7777777777777778,
              "#fb9f3a"
             ],
             [
              0.8888888888888888,
              "#fdca26"
             ],
             [
              1,
              "#f0f921"
             ]
            ],
            "type": "histogram2dcontour"
           }
          ],
          "mesh3d": [
           {
            "colorbar": {
             "outlinewidth": 0,
             "ticks": ""
            },
            "type": "mesh3d"
           }
          ],
          "parcoords": [
           {
            "line": {
             "colorbar": {
              "outlinewidth": 0,
              "ticks": ""
             }
            },
            "type": "parcoords"
           }
          ],
          "pie": [
           {
            "automargin": true,
            "type": "pie"
           }
          ],
          "scatter": [
           {
            "fillpattern": {
             "fillmode": "overlay",
             "size": 10,
             "solidity": 0.2
            },
            "type": "scatter"
           }
          ],
          "scatter3d": [
           {
            "line": {
             "colorbar": {
              "outlinewidth": 0,
              "ticks": ""
             }
            },
            "marker": {
             "colorbar": {
              "outlinewidth": 0,
              "ticks": ""
             }
            },
            "type": "scatter3d"
           }
          ],
          "scattercarpet": [
           {
            "marker": {
             "colorbar": {
              "outlinewidth": 0,
              "ticks": ""
             }
            },
            "type": "scattercarpet"
           }
          ],
          "scattergeo": [
           {
            "marker": {
             "colorbar": {
              "outlinewidth": 0,
              "ticks": ""
             }
            },
            "type": "scattergeo"
           }
          ],
          "scattergl": [
           {
            "marker": {
             "colorbar": {
              "outlinewidth": 0,
              "ticks": ""
             }
            },
            "type": "scattergl"
           }
          ],
          "scattermapbox": [
           {
            "marker": {
             "colorbar": {
              "outlinewidth": 0,
              "ticks": ""
             }
            },
            "type": "scattermapbox"
           }
          ],
          "scatterpolar": [
           {
            "marker": {
             "colorbar": {
              "outlinewidth": 0,
              "ticks": ""
             }
            },
            "type": "scatterpolar"
           }
          ],
          "scatterpolargl": [
           {
            "marker": {
             "colorbar": {
              "outlinewidth": 0,
              "ticks": ""
             }
            },
            "type": "scatterpolargl"
           }
          ],
          "scatterternary": [
           {
            "marker": {
             "colorbar": {
              "outlinewidth": 0,
              "ticks": ""
             }
            },
            "type": "scatterternary"
           }
          ],
          "surface": [
           {
            "colorbar": {
             "outlinewidth": 0,
             "ticks": ""
            },
            "colorscale": [
             [
              0,
              "#0d0887"
             ],
             [
              0.1111111111111111,
              "#46039f"
             ],
             [
              0.2222222222222222,
              "#7201a8"
             ],
             [
              0.3333333333333333,
              "#9c179e"
             ],
             [
              0.4444444444444444,
              "#bd3786"
             ],
             [
              0.5555555555555556,
              "#d8576b"
             ],
             [
              0.6666666666666666,
              "#ed7953"
             ],
             [
              0.7777777777777778,
              "#fb9f3a"
             ],
             [
              0.8888888888888888,
              "#fdca26"
             ],
             [
              1,
              "#f0f921"
             ]
            ],
            "type": "surface"
           }
          ],
          "table": [
           {
            "cells": {
             "fill": {
              "color": "#EBF0F8"
             },
             "line": {
              "color": "white"
             }
            },
            "header": {
             "fill": {
              "color": "#C8D4E3"
             },
             "line": {
              "color": "white"
             }
            },
            "type": "table"
           }
          ]
         },
         "layout": {
          "annotationdefaults": {
           "arrowcolor": "#2a3f5f",
           "arrowhead": 0,
           "arrowwidth": 1
          },
          "autotypenumbers": "strict",
          "coloraxis": {
           "colorbar": {
            "outlinewidth": 0,
            "ticks": ""
           }
          },
          "colorscale": {
           "diverging": [
            [
             0,
             "#8e0152"
            ],
            [
             0.1,
             "#c51b7d"
            ],
            [
             0.2,
             "#de77ae"
            ],
            [
             0.3,
             "#f1b6da"
            ],
            [
             0.4,
             "#fde0ef"
            ],
            [
             0.5,
             "#f7f7f7"
            ],
            [
             0.6,
             "#e6f5d0"
            ],
            [
             0.7,
             "#b8e186"
            ],
            [
             0.8,
             "#7fbc41"
            ],
            [
             0.9,
             "#4d9221"
            ],
            [
             1,
             "#276419"
            ]
           ],
           "sequential": [
            [
             0,
             "#0d0887"
            ],
            [
             0.1111111111111111,
             "#46039f"
            ],
            [
             0.2222222222222222,
             "#7201a8"
            ],
            [
             0.3333333333333333,
             "#9c179e"
            ],
            [
             0.4444444444444444,
             "#bd3786"
            ],
            [
             0.5555555555555556,
             "#d8576b"
            ],
            [
             0.6666666666666666,
             "#ed7953"
            ],
            [
             0.7777777777777778,
             "#fb9f3a"
            ],
            [
             0.8888888888888888,
             "#fdca26"
            ],
            [
             1,
             "#f0f921"
            ]
           ],
           "sequentialminus": [
            [
             0,
             "#0d0887"
            ],
            [
             0.1111111111111111,
             "#46039f"
            ],
            [
             0.2222222222222222,
             "#7201a8"
            ],
            [
             0.3333333333333333,
             "#9c179e"
            ],
            [
             0.4444444444444444,
             "#bd3786"
            ],
            [
             0.5555555555555556,
             "#d8576b"
            ],
            [
             0.6666666666666666,
             "#ed7953"
            ],
            [
             0.7777777777777778,
             "#fb9f3a"
            ],
            [
             0.8888888888888888,
             "#fdca26"
            ],
            [
             1,
             "#f0f921"
            ]
           ]
          },
          "colorway": [
           "#636efa",
           "#EF553B",
           "#00cc96",
           "#ab63fa",
           "#FFA15A",
           "#19d3f3",
           "#FF6692",
           "#B6E880",
           "#FF97FF",
           "#FECB52"
          ],
          "font": {
           "color": "#2a3f5f"
          },
          "geo": {
           "bgcolor": "white",
           "lakecolor": "white",
           "landcolor": "#E5ECF6",
           "showlakes": true,
           "showland": true,
           "subunitcolor": "white"
          },
          "hoverlabel": {
           "align": "left"
          },
          "hovermode": "closest",
          "mapbox": {
           "style": "light"
          },
          "paper_bgcolor": "white",
          "plot_bgcolor": "#E5ECF6",
          "polar": {
           "angularaxis": {
            "gridcolor": "white",
            "linecolor": "white",
            "ticks": ""
           },
           "bgcolor": "#E5ECF6",
           "radialaxis": {
            "gridcolor": "white",
            "linecolor": "white",
            "ticks": ""
           }
          },
          "scene": {
           "xaxis": {
            "backgroundcolor": "#E5ECF6",
            "gridcolor": "white",
            "gridwidth": 2,
            "linecolor": "white",
            "showbackground": true,
            "ticks": "",
            "zerolinecolor": "white"
           },
           "yaxis": {
            "backgroundcolor": "#E5ECF6",
            "gridcolor": "white",
            "gridwidth": 2,
            "linecolor": "white",
            "showbackground": true,
            "ticks": "",
            "zerolinecolor": "white"
           },
           "zaxis": {
            "backgroundcolor": "#E5ECF6",
            "gridcolor": "white",
            "gridwidth": 2,
            "linecolor": "white",
            "showbackground": true,
            "ticks": "",
            "zerolinecolor": "white"
           }
          },
          "shapedefaults": {
           "line": {
            "color": "#2a3f5f"
           }
          },
          "ternary": {
           "aaxis": {
            "gridcolor": "white",
            "linecolor": "white",
            "ticks": ""
           },
           "baxis": {
            "gridcolor": "white",
            "linecolor": "white",
            "ticks": ""
           },
           "bgcolor": "#E5ECF6",
           "caxis": {
            "gridcolor": "white",
            "linecolor": "white",
            "ticks": ""
           }
          },
          "title": {
           "x": 0.05
          },
          "xaxis": {
           "automargin": true,
           "gridcolor": "white",
           "linecolor": "white",
           "ticks": "",
           "title": {
            "standoff": 15
           },
           "zerolinecolor": "white",
           "zerolinewidth": 2
          },
          "yaxis": {
           "automargin": true,
           "gridcolor": "white",
           "linecolor": "white",
           "ticks": "",
           "title": {
            "standoff": 15
           },
           "zerolinecolor": "white",
           "zerolinewidth": 2
          }
         }
        },
        "xaxis": {
         "anchor": "y",
         "domain": [
          0,
          1
         ]
        },
        "yaxis": {
         "anchor": "x",
         "domain": [
          0,
          1
         ],
         "title": {
          "text": "B2"
         }
        }
       }
      }
     },
     "metadata": {},
     "output_type": "display_data"
    }
   ],
   "source": [
    "px.box(sitios, y = 'B2', hover_data=[\"index\"]\n",
    "    )"
   ]
  }
 ],
 "metadata": {
  "kernelspec": {
   "display_name": "spatial_uah",
   "language": "python",
   "name": "python3"
  },
  "language_info": {
   "codemirror_mode": {
    "name": "ipython",
    "version": 3
   },
   "file_extension": ".py",
   "mimetype": "text/x-python",
   "name": "python",
   "nbconvert_exporter": "python",
   "pygments_lexer": "ipython3",
   "version": "3.10.5"
  }
 },
 "nbformat": 4,
 "nbformat_minor": 2
}
